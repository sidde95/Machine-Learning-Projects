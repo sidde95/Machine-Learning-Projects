{
 "cells": [
  {
   "cell_type": "code",
   "execution_count": 1,
   "metadata": {
    "_cell_guid": "b1076dfc-b9ad-4769-8c92-a6c4dae69d19",
    "_uuid": "8f2839f25d086af736a60e9eeb907d3b93b6e0e5",
    "execution": {
     "iopub.execute_input": "2025-09-20T14:12:08.876157Z",
     "iopub.status.busy": "2025-09-20T14:12:08.875527Z",
     "iopub.status.idle": "2025-09-20T14:12:08.882121Z",
     "shell.execute_reply": "2025-09-20T14:12:08.881472Z",
     "shell.execute_reply.started": "2025-09-20T14:12:08.876134Z"
    },
    "trusted": true
   },
   "outputs": [],
   "source": [
    "# This Python 3 environment comes with many helpful analytics libraries installed\n",
    "# It is defined by the kaggle/python Docker image: https://github.com/kaggle/docker-python\n",
    "# For example, here's several helpful packages to load\n",
    "\n",
    "import numpy as np # linear algebra\n",
    "import pandas as pd # data processing, CSV file I/O (e.g. pd.read_csv)\n",
    "\n",
    "# Input data files are available in the read-only \"../input/\" directory\n",
    "# For example, running this (by clicking run or pressing Shift+Enter) will list all files under the input directory\n",
    "\n",
    "import os\n",
    "for dirname, _, filenames in os.walk('/kaggle/input'):\n",
    "    for filename in filenames:\n",
    "        print(os.path.join(dirname, filename))\n",
    "\n",
    "# You can write up to 20GB to the current directory (/kaggle/working/) that gets preserved as output when you create a version using \"Save & Run All\" \n",
    "# You can also write temporary files to /kaggle/temp/, but they won't be saved outside of the current session"
   ]
  },
  {
   "cell_type": "markdown",
   "metadata": {},
   "source": [
    "# Data Exploration"
   ]
  },
  {
   "cell_type": "code",
   "execution_count": 2,
   "metadata": {
    "execution": {
     "iopub.execute_input": "2025-09-20T14:12:08.887407Z",
     "iopub.status.busy": "2025-09-20T14:12:08.886883Z",
     "iopub.status.idle": "2025-09-20T14:12:09.148484Z",
     "shell.execute_reply": "2025-09-20T14:12:09.147722Z",
     "shell.execute_reply.started": "2025-09-20T14:12:08.887379Z"
    },
    "trusted": true
   },
   "outputs": [
    {
     "data": {
      "text/html": [
       "<div>\n",
       "<style scoped>\n",
       "    .dataframe tbody tr th:only-of-type {\n",
       "        vertical-align: middle;\n",
       "    }\n",
       "\n",
       "    .dataframe tbody tr th {\n",
       "        vertical-align: top;\n",
       "    }\n",
       "\n",
       "    .dataframe thead th {\n",
       "        text-align: right;\n",
       "    }\n",
       "</style>\n",
       "<table border=\"1\" class=\"dataframe\">\n",
       "  <thead>\n",
       "    <tr style=\"text-align: right;\">\n",
       "      <th></th>\n",
       "      <th>id</th>\n",
       "      <th>CustomerId</th>\n",
       "      <th>Surname</th>\n",
       "      <th>CreditScore</th>\n",
       "      <th>Geography</th>\n",
       "      <th>Gender</th>\n",
       "      <th>Age</th>\n",
       "      <th>Tenure</th>\n",
       "      <th>Balance</th>\n",
       "      <th>NumOfProducts</th>\n",
       "      <th>HasCrCard</th>\n",
       "      <th>IsActiveMember</th>\n",
       "      <th>EstimatedSalary</th>\n",
       "      <th>Exited</th>\n",
       "    </tr>\n",
       "  </thead>\n",
       "  <tbody>\n",
       "    <tr>\n",
       "      <th>88988</th>\n",
       "      <td>88988</td>\n",
       "      <td>15731522</td>\n",
       "      <td>Ts'ui</td>\n",
       "      <td>771</td>\n",
       "      <td>Spain</td>\n",
       "      <td>Female</td>\n",
       "      <td>37.0</td>\n",
       "      <td>8</td>\n",
       "      <td>0.00</td>\n",
       "      <td>2</td>\n",
       "      <td>1.0</td>\n",
       "      <td>0.0</td>\n",
       "      <td>51219.80</td>\n",
       "      <td>0</td>\n",
       "    </tr>\n",
       "    <tr>\n",
       "      <th>61289</th>\n",
       "      <td>61289</td>\n",
       "      <td>15773801</td>\n",
       "      <td>T'ien</td>\n",
       "      <td>643</td>\n",
       "      <td>France</td>\n",
       "      <td>Female</td>\n",
       "      <td>54.0</td>\n",
       "      <td>2</td>\n",
       "      <td>122550.32</td>\n",
       "      <td>1</td>\n",
       "      <td>0.0</td>\n",
       "      <td>1.0</td>\n",
       "      <td>137735.22</td>\n",
       "      <td>0</td>\n",
       "    </tr>\n",
       "    <tr>\n",
       "      <th>43967</th>\n",
       "      <td>43967</td>\n",
       "      <td>15572073</td>\n",
       "      <td>Chijindum</td>\n",
       "      <td>785</td>\n",
       "      <td>France</td>\n",
       "      <td>Male</td>\n",
       "      <td>34.0</td>\n",
       "      <td>1</td>\n",
       "      <td>129855.32</td>\n",
       "      <td>1</td>\n",
       "      <td>0.0</td>\n",
       "      <td>1.0</td>\n",
       "      <td>177112.70</td>\n",
       "      <td>0</td>\n",
       "    </tr>\n",
       "    <tr>\n",
       "      <th>80118</th>\n",
       "      <td>80118</td>\n",
       "      <td>15592078</td>\n",
       "      <td>Nebechukwu</td>\n",
       "      <td>812</td>\n",
       "      <td>France</td>\n",
       "      <td>Female</td>\n",
       "      <td>42.0</td>\n",
       "      <td>7</td>\n",
       "      <td>0.00</td>\n",
       "      <td>2</td>\n",
       "      <td>1.0</td>\n",
       "      <td>0.0</td>\n",
       "      <td>131662.47</td>\n",
       "      <td>1</td>\n",
       "    </tr>\n",
       "    <tr>\n",
       "      <th>140788</th>\n",
       "      <td>140788</td>\n",
       "      <td>15670889</td>\n",
       "      <td>Yuryeva</td>\n",
       "      <td>593</td>\n",
       "      <td>Spain</td>\n",
       "      <td>Female</td>\n",
       "      <td>54.0</td>\n",
       "      <td>6</td>\n",
       "      <td>0.00</td>\n",
       "      <td>1</td>\n",
       "      <td>1.0</td>\n",
       "      <td>0.0</td>\n",
       "      <td>184856.89</td>\n",
       "      <td>1</td>\n",
       "    </tr>\n",
       "  </tbody>\n",
       "</table>\n",
       "</div>"
      ],
      "text/plain": [
       "            id  CustomerId     Surname  CreditScore Geography  Gender   Age  \\\n",
       "88988    88988    15731522       Ts'ui          771     Spain  Female  37.0   \n",
       "61289    61289    15773801       T'ien          643    France  Female  54.0   \n",
       "43967    43967    15572073   Chijindum          785    France    Male  34.0   \n",
       "80118    80118    15592078  Nebechukwu          812    France  Female  42.0   \n",
       "140788  140788    15670889     Yuryeva          593     Spain  Female  54.0   \n",
       "\n",
       "        Tenure    Balance  NumOfProducts  HasCrCard  IsActiveMember  \\\n",
       "88988        8       0.00              2        1.0             0.0   \n",
       "61289        2  122550.32              1        0.0             1.0   \n",
       "43967        1  129855.32              1        0.0             1.0   \n",
       "80118        7       0.00              2        1.0             0.0   \n",
       "140788       6       0.00              1        1.0             0.0   \n",
       "\n",
       "        EstimatedSalary  Exited  \n",
       "88988          51219.80       0  \n",
       "61289         137735.22       0  \n",
       "43967         177112.70       0  \n",
       "80118         131662.47       1  \n",
       "140788        184856.89       1  "
      ]
     },
     "execution_count": 2,
     "metadata": {},
     "output_type": "execute_result"
    }
   ],
   "source": [
    "train_df = pd.read_csv('train.csv')\n",
    "train_df.sample(5)"
   ]
  },
  {
   "cell_type": "code",
   "execution_count": 3,
   "metadata": {
    "execution": {
     "iopub.execute_input": "2025-09-20T14:12:09.150496Z",
     "iopub.status.busy": "2025-09-20T14:12:09.149900Z",
     "iopub.status.idle": "2025-09-20T14:12:09.288801Z",
     "shell.execute_reply": "2025-09-20T14:12:09.288099Z",
     "shell.execute_reply.started": "2025-09-20T14:12:09.150474Z"
    },
    "trusted": true
   },
   "outputs": [
    {
     "data": {
      "text/html": [
       "<div>\n",
       "<style scoped>\n",
       "    .dataframe tbody tr th:only-of-type {\n",
       "        vertical-align: middle;\n",
       "    }\n",
       "\n",
       "    .dataframe tbody tr th {\n",
       "        vertical-align: top;\n",
       "    }\n",
       "\n",
       "    .dataframe thead th {\n",
       "        text-align: right;\n",
       "    }\n",
       "</style>\n",
       "<table border=\"1\" class=\"dataframe\">\n",
       "  <thead>\n",
       "    <tr style=\"text-align: right;\">\n",
       "      <th></th>\n",
       "      <th>id</th>\n",
       "      <th>CustomerId</th>\n",
       "      <th>Surname</th>\n",
       "      <th>CreditScore</th>\n",
       "      <th>Geography</th>\n",
       "      <th>Gender</th>\n",
       "      <th>Age</th>\n",
       "      <th>Tenure</th>\n",
       "      <th>Balance</th>\n",
       "      <th>NumOfProducts</th>\n",
       "      <th>HasCrCard</th>\n",
       "      <th>IsActiveMember</th>\n",
       "      <th>EstimatedSalary</th>\n",
       "    </tr>\n",
       "  </thead>\n",
       "  <tbody>\n",
       "    <tr>\n",
       "      <th>13106</th>\n",
       "      <td>178140</td>\n",
       "      <td>15670046</td>\n",
       "      <td>Milanesi</td>\n",
       "      <td>749</td>\n",
       "      <td>Germany</td>\n",
       "      <td>Male</td>\n",
       "      <td>51.0</td>\n",
       "      <td>1</td>\n",
       "      <td>131691.33</td>\n",
       "      <td>1</td>\n",
       "      <td>1.0</td>\n",
       "      <td>0.0</td>\n",
       "      <td>77965.57</td>\n",
       "    </tr>\n",
       "    <tr>\n",
       "      <th>57974</th>\n",
       "      <td>223008</td>\n",
       "      <td>15777054</td>\n",
       "      <td>Eluemuno</td>\n",
       "      <td>748</td>\n",
       "      <td>France</td>\n",
       "      <td>Male</td>\n",
       "      <td>42.0</td>\n",
       "      <td>3</td>\n",
       "      <td>0.00</td>\n",
       "      <td>1</td>\n",
       "      <td>1.0</td>\n",
       "      <td>1.0</td>\n",
       "      <td>93844.89</td>\n",
       "    </tr>\n",
       "    <tr>\n",
       "      <th>82076</th>\n",
       "      <td>247110</td>\n",
       "      <td>15754951</td>\n",
       "      <td>Onuora</td>\n",
       "      <td>516</td>\n",
       "      <td>Spain</td>\n",
       "      <td>Male</td>\n",
       "      <td>33.0</td>\n",
       "      <td>1</td>\n",
       "      <td>0.00</td>\n",
       "      <td>2</td>\n",
       "      <td>1.0</td>\n",
       "      <td>1.0</td>\n",
       "      <td>183983.82</td>\n",
       "    </tr>\n",
       "    <tr>\n",
       "      <th>74187</th>\n",
       "      <td>239221</td>\n",
       "      <td>15605827</td>\n",
       "      <td>Ch'in</td>\n",
       "      <td>577</td>\n",
       "      <td>Germany</td>\n",
       "      <td>Male</td>\n",
       "      <td>30.0</td>\n",
       "      <td>1</td>\n",
       "      <td>106070.41</td>\n",
       "      <td>1</td>\n",
       "      <td>1.0</td>\n",
       "      <td>0.0</td>\n",
       "      <td>138882.54</td>\n",
       "    </tr>\n",
       "    <tr>\n",
       "      <th>87176</th>\n",
       "      <td>252210</td>\n",
       "      <td>15694566</td>\n",
       "      <td>Smith</td>\n",
       "      <td>751</td>\n",
       "      <td>France</td>\n",
       "      <td>Female</td>\n",
       "      <td>47.0</td>\n",
       "      <td>5</td>\n",
       "      <td>142669.93</td>\n",
       "      <td>2</td>\n",
       "      <td>1.0</td>\n",
       "      <td>1.0</td>\n",
       "      <td>162760.96</td>\n",
       "    </tr>\n",
       "  </tbody>\n",
       "</table>\n",
       "</div>"
      ],
      "text/plain": [
       "           id  CustomerId   Surname  CreditScore Geography  Gender   Age  \\\n",
       "13106  178140    15670046  Milanesi          749   Germany    Male  51.0   \n",
       "57974  223008    15777054  Eluemuno          748    France    Male  42.0   \n",
       "82076  247110    15754951    Onuora          516     Spain    Male  33.0   \n",
       "74187  239221    15605827     Ch'in          577   Germany    Male  30.0   \n",
       "87176  252210    15694566     Smith          751    France  Female  47.0   \n",
       "\n",
       "       Tenure    Balance  NumOfProducts  HasCrCard  IsActiveMember  \\\n",
       "13106       1  131691.33              1        1.0             0.0   \n",
       "57974       3       0.00              1        1.0             1.0   \n",
       "82076       1       0.00              2        1.0             1.0   \n",
       "74187       1  106070.41              1        1.0             0.0   \n",
       "87176       5  142669.93              2        1.0             1.0   \n",
       "\n",
       "       EstimatedSalary  \n",
       "13106         77965.57  \n",
       "57974         93844.89  \n",
       "82076        183983.82  \n",
       "74187        138882.54  \n",
       "87176        162760.96  "
      ]
     },
     "execution_count": 3,
     "metadata": {},
     "output_type": "execute_result"
    }
   ],
   "source": [
    "test_df = pd.read_csv(\"test.csv\")\n",
    "test_df.sample(5)"
   ]
  },
  {
   "cell_type": "code",
   "execution_count": 4,
   "metadata": {
    "execution": {
     "iopub.execute_input": "2025-09-20T14:12:09.290434Z",
     "iopub.status.busy": "2025-09-20T14:12:09.289569Z",
     "iopub.status.idle": "2025-09-20T14:12:09.320485Z",
     "shell.execute_reply": "2025-09-20T14:12:09.319847Z",
     "shell.execute_reply.started": "2025-09-20T14:12:09.290409Z"
    },
    "trusted": true
   },
   "outputs": [
    {
     "data": {
      "text/html": [
       "<div>\n",
       "<style scoped>\n",
       "    .dataframe tbody tr th:only-of-type {\n",
       "        vertical-align: middle;\n",
       "    }\n",
       "\n",
       "    .dataframe tbody tr th {\n",
       "        vertical-align: top;\n",
       "    }\n",
       "\n",
       "    .dataframe thead th {\n",
       "        text-align: right;\n",
       "    }\n",
       "</style>\n",
       "<table border=\"1\" class=\"dataframe\">\n",
       "  <thead>\n",
       "    <tr style=\"text-align: right;\">\n",
       "      <th></th>\n",
       "      <th>id</th>\n",
       "      <th>Exited</th>\n",
       "    </tr>\n",
       "  </thead>\n",
       "  <tbody>\n",
       "    <tr>\n",
       "      <th>36498</th>\n",
       "      <td>201532</td>\n",
       "      <td>0.5</td>\n",
       "    </tr>\n",
       "    <tr>\n",
       "      <th>74402</th>\n",
       "      <td>239436</td>\n",
       "      <td>0.5</td>\n",
       "    </tr>\n",
       "    <tr>\n",
       "      <th>89532</th>\n",
       "      <td>254566</td>\n",
       "      <td>0.5</td>\n",
       "    </tr>\n",
       "  </tbody>\n",
       "</table>\n",
       "</div>"
      ],
      "text/plain": [
       "           id  Exited\n",
       "36498  201532     0.5\n",
       "74402  239436     0.5\n",
       "89532  254566     0.5"
      ]
     },
     "execution_count": 4,
     "metadata": {},
     "output_type": "execute_result"
    }
   ],
   "source": [
    "sample_df = pd.read_csv(\"sample_submission.csv\")\n",
    "sample_df.sample(3)"
   ]
  },
  {
   "cell_type": "code",
   "execution_count": 5,
   "metadata": {
    "execution": {
     "iopub.execute_input": "2025-09-20T14:12:09.322113Z",
     "iopub.status.busy": "2025-09-20T14:12:09.321919Z",
     "iopub.status.idle": "2025-09-20T14:12:09.327819Z",
     "shell.execute_reply": "2025-09-20T14:12:09.327158Z",
     "shell.execute_reply.started": "2025-09-20T14:12:09.322098Z"
    },
    "trusted": true
   },
   "outputs": [
    {
     "data": {
      "text/plain": [
       "array([0.5])"
      ]
     },
     "execution_count": 5,
     "metadata": {},
     "output_type": "execute_result"
    }
   ],
   "source": [
    "sample_df.Exited.unique()"
   ]
  },
  {
   "cell_type": "markdown",
   "metadata": {},
   "source": [
    "# Data Analysis and Model Building on Training Data"
   ]
  },
  {
   "cell_type": "code",
   "execution_count": 6,
   "metadata": {
    "execution": {
     "iopub.execute_input": "2025-09-20T14:12:09.328852Z",
     "iopub.status.busy": "2025-09-20T14:12:09.328529Z",
     "iopub.status.idle": "2025-09-20T14:12:09.352566Z",
     "shell.execute_reply": "2025-09-20T14:12:09.351845Z",
     "shell.execute_reply.started": "2025-09-20T14:12:09.328832Z"
    },
    "trusted": true
   },
   "outputs": [
    {
     "data": {
      "text/html": [
       "<div>\n",
       "<style scoped>\n",
       "    .dataframe tbody tr th:only-of-type {\n",
       "        vertical-align: middle;\n",
       "    }\n",
       "\n",
       "    .dataframe tbody tr th {\n",
       "        vertical-align: top;\n",
       "    }\n",
       "\n",
       "    .dataframe thead th {\n",
       "        text-align: right;\n",
       "    }\n",
       "</style>\n",
       "<table border=\"1\" class=\"dataframe\">\n",
       "  <thead>\n",
       "    <tr style=\"text-align: right;\">\n",
       "      <th></th>\n",
       "      <th>id</th>\n",
       "      <th>CustomerId</th>\n",
       "      <th>Surname</th>\n",
       "      <th>CreditScore</th>\n",
       "      <th>Geography</th>\n",
       "      <th>Gender</th>\n",
       "      <th>Age</th>\n",
       "      <th>Tenure</th>\n",
       "      <th>Balance</th>\n",
       "      <th>NumOfProducts</th>\n",
       "      <th>HasCrCard</th>\n",
       "      <th>IsActiveMember</th>\n",
       "      <th>EstimatedSalary</th>\n",
       "      <th>Exited</th>\n",
       "    </tr>\n",
       "  </thead>\n",
       "  <tbody>\n",
       "    <tr>\n",
       "      <th>50017</th>\n",
       "      <td>50017</td>\n",
       "      <td>15641595</td>\n",
       "      <td>Chukwujamuike</td>\n",
       "      <td>635</td>\n",
       "      <td>Germany</td>\n",
       "      <td>Female</td>\n",
       "      <td>64.0</td>\n",
       "      <td>4</td>\n",
       "      <td>120165.30</td>\n",
       "      <td>1</td>\n",
       "      <td>0.0</td>\n",
       "      <td>1.0</td>\n",
       "      <td>103570.80</td>\n",
       "      <td>1</td>\n",
       "    </tr>\n",
       "    <tr>\n",
       "      <th>56215</th>\n",
       "      <td>56215</td>\n",
       "      <td>15694296</td>\n",
       "      <td>Chineze</td>\n",
       "      <td>631</td>\n",
       "      <td>France</td>\n",
       "      <td>Male</td>\n",
       "      <td>29.0</td>\n",
       "      <td>9</td>\n",
       "      <td>112392.45</td>\n",
       "      <td>2</td>\n",
       "      <td>0.0</td>\n",
       "      <td>1.0</td>\n",
       "      <td>24472.23</td>\n",
       "      <td>0</td>\n",
       "    </tr>\n",
       "    <tr>\n",
       "      <th>122964</th>\n",
       "      <td>122964</td>\n",
       "      <td>15661903</td>\n",
       "      <td>Hs?</td>\n",
       "      <td>699</td>\n",
       "      <td>France</td>\n",
       "      <td>Female</td>\n",
       "      <td>43.0</td>\n",
       "      <td>3</td>\n",
       "      <td>80764.03</td>\n",
       "      <td>1</td>\n",
       "      <td>1.0</td>\n",
       "      <td>0.0</td>\n",
       "      <td>199378.58</td>\n",
       "      <td>0</td>\n",
       "    </tr>\n",
       "  </tbody>\n",
       "</table>\n",
       "</div>"
      ],
      "text/plain": [
       "            id  CustomerId        Surname  CreditScore Geography  Gender  \\\n",
       "50017    50017    15641595  Chukwujamuike          635   Germany  Female   \n",
       "56215    56215    15694296        Chineze          631    France    Male   \n",
       "122964  122964    15661903            Hs?          699    France  Female   \n",
       "\n",
       "         Age  Tenure    Balance  NumOfProducts  HasCrCard  IsActiveMember  \\\n",
       "50017   64.0       4  120165.30              1        0.0             1.0   \n",
       "56215   29.0       9  112392.45              2        0.0             1.0   \n",
       "122964  43.0       3   80764.03              1        1.0             0.0   \n",
       "\n",
       "        EstimatedSalary  Exited  \n",
       "50017         103570.80       1  \n",
       "56215          24472.23       0  \n",
       "122964        199378.58       0  "
      ]
     },
     "execution_count": 6,
     "metadata": {},
     "output_type": "execute_result"
    }
   ],
   "source": [
    "train_df.sample(3)"
   ]
  },
  {
   "cell_type": "markdown",
   "metadata": {},
   "source": [
    "# Exploring and Cleaning the Dataset"
   ]
  },
  {
   "cell_type": "code",
   "execution_count": 7,
   "metadata": {
    "execution": {
     "iopub.execute_input": "2025-09-20T14:12:09.353787Z",
     "iopub.status.busy": "2025-09-20T14:12:09.353464Z",
     "iopub.status.idle": "2025-09-20T14:12:09.395823Z",
     "shell.execute_reply": "2025-09-20T14:12:09.395191Z",
     "shell.execute_reply.started": "2025-09-20T14:12:09.353767Z"
    },
    "trusted": true
   },
   "outputs": [
    {
     "name": "stdout",
     "output_type": "stream",
     "text": [
      "<class 'pandas.core.frame.DataFrame'>\n",
      "RangeIndex: 165034 entries, 0 to 165033\n",
      "Data columns (total 14 columns):\n",
      " #   Column           Non-Null Count   Dtype  \n",
      "---  ------           --------------   -----  \n",
      " 0   id               165034 non-null  int64  \n",
      " 1   CustomerId       165034 non-null  int64  \n",
      " 2   Surname          165034 non-null  object \n",
      " 3   CreditScore      165034 non-null  int64  \n",
      " 4   Geography        165034 non-null  object \n",
      " 5   Gender           165034 non-null  object \n",
      " 6   Age              165034 non-null  float64\n",
      " 7   Tenure           165034 non-null  int64  \n",
      " 8   Balance          165034 non-null  float64\n",
      " 9   NumOfProducts    165034 non-null  int64  \n",
      " 10  HasCrCard        165034 non-null  float64\n",
      " 11  IsActiveMember   165034 non-null  float64\n",
      " 12  EstimatedSalary  165034 non-null  float64\n",
      " 13  Exited           165034 non-null  int64  \n",
      "dtypes: float64(5), int64(6), object(3)\n",
      "memory usage: 17.6+ MB\n"
     ]
    }
   ],
   "source": [
    "train_df.info()"
   ]
  },
  {
   "cell_type": "markdown",
   "metadata": {},
   "source": [
    "In the Training Data we have 165034 rows and 14 columns."
   ]
  },
  {
   "cell_type": "code",
   "execution_count": 8,
   "metadata": {
    "execution": {
     "iopub.execute_input": "2025-09-20T14:12:09.397506Z",
     "iopub.status.busy": "2025-09-20T14:12:09.396737Z",
     "iopub.status.idle": "2025-09-20T14:12:09.431109Z",
     "shell.execute_reply": "2025-09-20T14:12:09.430479Z",
     "shell.execute_reply.started": "2025-09-20T14:12:09.397485Z"
    },
    "trusted": true
   },
   "outputs": [
    {
     "data": {
      "text/plain": [
       "id                 0\n",
       "CustomerId         0\n",
       "Surname            0\n",
       "CreditScore        0\n",
       "Geography          0\n",
       "Gender             0\n",
       "Age                0\n",
       "Tenure             0\n",
       "Balance            0\n",
       "NumOfProducts      0\n",
       "HasCrCard          0\n",
       "IsActiveMember     0\n",
       "EstimatedSalary    0\n",
       "Exited             0\n",
       "dtype: int64"
      ]
     },
     "execution_count": 8,
     "metadata": {},
     "output_type": "execute_result"
    }
   ],
   "source": [
    "train_df.isnull().sum()"
   ]
  },
  {
   "cell_type": "code",
   "execution_count": 9,
   "metadata": {
    "execution": {
     "iopub.execute_input": "2025-09-20T14:12:09.432056Z",
     "iopub.status.busy": "2025-09-20T14:12:09.431776Z",
     "iopub.status.idle": "2025-09-20T14:12:09.454111Z",
     "shell.execute_reply": "2025-09-20T14:12:09.453475Z",
     "shell.execute_reply.started": "2025-09-20T14:12:09.432033Z"
    },
    "trusted": true
   },
   "outputs": [
    {
     "data": {
      "text/html": [
       "<div>\n",
       "<style scoped>\n",
       "    .dataframe tbody tr th:only-of-type {\n",
       "        vertical-align: middle;\n",
       "    }\n",
       "\n",
       "    .dataframe tbody tr th {\n",
       "        vertical-align: top;\n",
       "    }\n",
       "\n",
       "    .dataframe thead th {\n",
       "        text-align: right;\n",
       "    }\n",
       "</style>\n",
       "<table border=\"1\" class=\"dataframe\">\n",
       "  <thead>\n",
       "    <tr style=\"text-align: right;\">\n",
       "      <th></th>\n",
       "      <th>CreditScore</th>\n",
       "      <th>Geography</th>\n",
       "      <th>Gender</th>\n",
       "      <th>Age</th>\n",
       "      <th>Tenure</th>\n",
       "      <th>Balance</th>\n",
       "      <th>NumOfProducts</th>\n",
       "      <th>HasCrCard</th>\n",
       "      <th>IsActiveMember</th>\n",
       "      <th>EstimatedSalary</th>\n",
       "      <th>Exited</th>\n",
       "    </tr>\n",
       "  </thead>\n",
       "  <tbody>\n",
       "    <tr>\n",
       "      <th>105974</th>\n",
       "      <td>706</td>\n",
       "      <td>France</td>\n",
       "      <td>Female</td>\n",
       "      <td>34.0</td>\n",
       "      <td>6</td>\n",
       "      <td>0.0</td>\n",
       "      <td>2</td>\n",
       "      <td>1.0</td>\n",
       "      <td>0.0</td>\n",
       "      <td>163535.57</td>\n",
       "      <td>0</td>\n",
       "    </tr>\n",
       "  </tbody>\n",
       "</table>\n",
       "</div>"
      ],
      "text/plain": [
       "        CreditScore Geography  Gender   Age  Tenure  Balance  NumOfProducts  \\\n",
       "105974          706    France  Female  34.0       6      0.0              2   \n",
       "\n",
       "        HasCrCard  IsActiveMember  EstimatedSalary  Exited  \n",
       "105974        1.0             0.0        163535.57       0  "
      ]
     },
     "execution_count": 9,
     "metadata": {},
     "output_type": "execute_result"
    }
   ],
   "source": [
    "# Removing unnecessary columns from the dataset, which has no impact on the dataset \n",
    "train_df = train_df.drop(columns = ['id', 'CustomerId', 'Surname'], axis = 1)\n",
    "train_df.sample()"
   ]
  },
  {
   "cell_type": "code",
   "execution_count": 10,
   "metadata": {
    "execution": {
     "iopub.execute_input": "2025-09-20T14:12:09.455125Z",
     "iopub.status.busy": "2025-09-20T14:12:09.454887Z",
     "iopub.status.idle": "2025-09-20T14:12:09.465164Z",
     "shell.execute_reply": "2025-09-20T14:12:09.464477Z",
     "shell.execute_reply.started": "2025-09-20T14:12:09.455107Z"
    },
    "trusted": true
   },
   "outputs": [
    {
     "name": "stdout",
     "output_type": "stream",
     "text": [
      "There are 2 categorical columns and 9 numerical columns\n"
     ]
    }
   ],
   "source": [
    "categorical_columns = train_df.select_dtypes(include = 'O').columns\n",
    "numerical_columns = train_df.select_dtypes(exclude = 'O').columns\n",
    "\n",
    "print(f\"There are {len(categorical_columns)} categorical columns and {len(numerical_columns)} numerical columns\")"
   ]
  },
  {
   "cell_type": "code",
   "execution_count": 11,
   "metadata": {
    "execution": {
     "iopub.execute_input": "2025-09-20T14:12:09.468415Z",
     "iopub.status.busy": "2025-09-20T14:12:09.467713Z",
     "iopub.status.idle": "2025-09-20T14:12:09.475134Z",
     "shell.execute_reply": "2025-09-20T14:12:09.474421Z",
     "shell.execute_reply.started": "2025-09-20T14:12:09.468393Z"
    },
    "trusted": true
   },
   "outputs": [],
   "source": [
    "import matplotlib.pyplot as plt\n",
    "import seaborn as sns"
   ]
  },
  {
   "cell_type": "code",
   "execution_count": 12,
   "metadata": {
    "execution": {
     "iopub.execute_input": "2025-09-20T14:12:09.476339Z",
     "iopub.status.busy": "2025-09-20T14:12:09.476124Z",
     "iopub.status.idle": "2025-09-20T14:12:09.491282Z",
     "shell.execute_reply": "2025-09-20T14:12:09.490602Z",
     "shell.execute_reply.started": "2025-09-20T14:12:09.476315Z"
    },
    "trusted": true
   },
   "outputs": [
    {
     "data": {
      "text/plain": [
       "0         France\n",
       "1         France\n",
       "2         France\n",
       "3         France\n",
       "4          Spain\n",
       "           ...  \n",
       "165029     Spain\n",
       "165030    France\n",
       "165031    France\n",
       "165032     Spain\n",
       "165033    France\n",
       "Name: Geography, Length: 165034, dtype: object"
      ]
     },
     "execution_count": 12,
     "metadata": {},
     "output_type": "execute_result"
    }
   ],
   "source": [
    "train_df.Geography\n"
   ]
  },
  {
   "cell_type": "code",
   "execution_count": 13,
   "metadata": {
    "execution": {
     "iopub.execute_input": "2025-09-20T14:12:09.492347Z",
     "iopub.status.busy": "2025-09-20T14:12:09.492060Z",
     "iopub.status.idle": "2025-09-20T14:12:09.866592Z",
     "shell.execute_reply": "2025-09-20T14:12:09.865798Z",
     "shell.execute_reply.started": "2025-09-20T14:12:09.492320Z"
    },
    "trusted": true
   },
   "outputs": [
    {
     "data": {
      "image/png": "[encoded data removed]",
      "text/plain": [
       "<Figure size 1500x300 with 2 Axes>"
      ]
     },
     "metadata": {},
     "output_type": "display_data"
    }
   ],
   "source": [
    "# Categorical Plot\n",
    "plt.figure(figsize= (15, 3))\n",
    "\n",
    "def countplot():\n",
    "    for i in range(len(categorical_columns)):\n",
    "        plt.subplot(1, 2, i+1)\n",
    "        sns.countplot(data = train_df, y = categorical_columns[i])\n",
    "        plt.title(f\"{categorical_columns[i]} plot\")\n",
    "\n",
    "    plt.tight_layout()    \n",
    "    plt.show()\n",
    "\n",
    "countplot()"
   ]
  },
  {
   "cell_type": "code",
   "execution_count": 14,
   "metadata": {
    "execution": {
     "iopub.execute_input": "2025-09-20T14:12:09.867513Z",
     "iopub.status.busy": "2025-09-20T14:12:09.867309Z",
     "iopub.status.idle": "2025-09-20T14:12:11.021722Z",
     "shell.execute_reply": "2025-09-20T14:12:11.020954Z",
     "shell.execute_reply.started": "2025-09-20T14:12:09.867497Z"
    },
    "trusted": true
   },
   "outputs": [
    {
     "data": {
      "image/png": "[encoded data removed]",
      "text/plain": [
       "<Figure size 1500x1000 with 9 Axes>"
      ]
     },
     "metadata": {},
     "output_type": "display_data"
    }
   ],
   "source": [
    "# Numerical Plot\n",
    "\n",
    "plt.figure(figsize= (15, 10))\n",
    "\n",
    "def boxplot():\n",
    "    for i in range(len(numerical_columns)):\n",
    "        plt.subplot(3, 3, i+1)\n",
    "        sns.boxplot(data = train_df, x = numerical_columns[i])\n",
    "        plt.title(f\"{numerical_columns[i]} plot\")\n",
    "\n",
    "    plt.tight_layout()    \n",
    "    plt.show()\n",
    "\n",
    "boxplot()"
   ]
  },
  {
   "cell_type": "markdown",
   "metadata": {},
   "source": [
    "In column Age there is outlier above age > 85, and also columns `HasCrCard` and `Exited` are categorical columns"
   ]
  },
  {
   "cell_type": "code",
   "execution_count": 15,
   "metadata": {
    "execution": {
     "iopub.execute_input": "2025-09-20T14:12:11.022953Z",
     "iopub.status.busy": "2025-09-20T14:12:11.022632Z",
     "iopub.status.idle": "2025-09-20T14:12:11.034334Z",
     "shell.execute_reply": "2025-09-20T14:12:11.033619Z",
     "shell.execute_reply.started": "2025-09-20T14:12:11.022925Z"
    },
    "trusted": true
   },
   "outputs": [],
   "source": [
    "# Removing outliers\n",
    "\n",
    "train_df = train_df[train_df.Age <= 85]"
   ]
  },
  {
   "cell_type": "code",
   "execution_count": 16,
   "metadata": {
    "execution": {
     "iopub.execute_input": "2025-09-20T14:12:11.035379Z",
     "iopub.status.busy": "2025-09-20T14:12:11.035114Z",
     "iopub.status.idle": "2025-09-20T14:12:11.174201Z",
     "shell.execute_reply": "2025-09-20T14:12:11.173374Z",
     "shell.execute_reply.started": "2025-09-20T14:12:11.035361Z"
    },
    "trusted": true
   },
   "outputs": [
    {
     "data": {
      "image/png": "[encoded data removed]",
      "text/plain": [
       "<Figure size 640x480 with 2 Axes>"
      ]
     },
     "metadata": {},
     "output_type": "display_data"
    }
   ],
   "source": [
    "plt.subplot(121)\n",
    "plt.pie(train_df.HasCrCard.value_counts(), labels = train_df.HasCrCard.value_counts().index, autopct = \"%1.1f%%\")\n",
    "plt.title('HasCrCard plot')\n",
    "\n",
    "plt.subplot(122)\n",
    "plt.pie(train_df.Exited.value_counts(), labels = train_df.Exited.value_counts().index, autopct = \"%1.1f%%\")\n",
    "plt.title('Exited')\n",
    "\n",
    "plt.show()"
   ]
  },
  {
   "cell_type": "code",
   "execution_count": 17,
   "metadata": {
    "execution": {
     "iopub.execute_input": "2025-09-20T14:12:11.175179Z",
     "iopub.status.busy": "2025-09-20T14:12:11.174963Z",
     "iopub.status.idle": "2025-09-20T14:12:11.190000Z",
     "shell.execute_reply": "2025-09-20T14:12:11.189353Z",
     "shell.execute_reply.started": "2025-09-20T14:12:11.175162Z"
    },
    "trusted": true
   },
   "outputs": [
    {
     "data": {
      "text/html": [
       "<div>\n",
       "<style scoped>\n",
       "    .dataframe tbody tr th:only-of-type {\n",
       "        vertical-align: middle;\n",
       "    }\n",
       "\n",
       "    .dataframe tbody tr th {\n",
       "        vertical-align: top;\n",
       "    }\n",
       "\n",
       "    .dataframe thead th {\n",
       "        text-align: right;\n",
       "    }\n",
       "</style>\n",
       "<table border=\"1\" class=\"dataframe\">\n",
       "  <thead>\n",
       "    <tr style=\"text-align: right;\">\n",
       "      <th></th>\n",
       "      <th>CreditScore</th>\n",
       "      <th>Geography</th>\n",
       "      <th>Gender</th>\n",
       "      <th>Age</th>\n",
       "      <th>Tenure</th>\n",
       "      <th>Balance</th>\n",
       "      <th>NumOfProducts</th>\n",
       "      <th>HasCrCard</th>\n",
       "      <th>IsActiveMember</th>\n",
       "      <th>EstimatedSalary</th>\n",
       "      <th>Exited</th>\n",
       "    </tr>\n",
       "  </thead>\n",
       "  <tbody>\n",
       "    <tr>\n",
       "      <th>105848</th>\n",
       "      <td>616</td>\n",
       "      <td>Germany</td>\n",
       "      <td>Female</td>\n",
       "      <td>41.0</td>\n",
       "      <td>2</td>\n",
       "      <td>149961.99</td>\n",
       "      <td>1</td>\n",
       "      <td>0.0</td>\n",
       "      <td>0.0</td>\n",
       "      <td>104610.86</td>\n",
       "      <td>0</td>\n",
       "    </tr>\n",
       "  </tbody>\n",
       "</table>\n",
       "</div>"
      ],
      "text/plain": [
       "        CreditScore Geography  Gender   Age  Tenure    Balance  NumOfProducts  \\\n",
       "105848          616   Germany  Female  41.0       2  149961.99              1   \n",
       "\n",
       "        HasCrCard  IsActiveMember  EstimatedSalary  Exited  \n",
       "105848        0.0             0.0        104610.86       0  "
      ]
     },
     "execution_count": 17,
     "metadata": {},
     "output_type": "execute_result"
    }
   ],
   "source": [
    "train_df.sample()"
   ]
  },
  {
   "cell_type": "markdown",
   "metadata": {},
   "source": [
    "It can be observed that middle aged people from age 40 to 65 people churn out more"
   ]
  },
  {
   "cell_type": "markdown",
   "metadata": {},
   "source": [
    "# Train-Test Split and Data Preparation"
   ]
  },
  {
   "cell_type": "code",
   "execution_count": 18,
   "metadata": {
    "execution": {
     "iopub.execute_input": "2025-09-20T15:25:06.572359Z",
     "iopub.status.busy": "2025-09-20T15:25:06.572087Z",
     "iopub.status.idle": "2025-09-20T15:25:06.730658Z",
     "shell.execute_reply": "2025-09-20T15:25:06.729886Z",
     "shell.execute_reply.started": "2025-09-20T15:25:06.572338Z"
    },
    "trusted": true
   },
   "outputs": [
    {
     "name": "stderr",
     "output_type": "stream",
     "text": [
      "C:\\Users\\Desktop\\AppData\\Local\\Temp\\ipykernel_14328\\1841949954.py:5: FutureWarning: Downcasting behavior in `replace` is deprecated and will be removed in a future version. To retain the old behavior, explicitly call `result.infer_objects(copy=False)`. To opt-in to the future behavior, set `pd.set_option('future.no_silent_downcasting', True)`\n",
      "  train_df.Gender = train_df.Gender.replace({'Male': 1, 'Female': 0}) # Male = 1 and Female = 0\n"
     ]
    }
   ],
   "source": [
    "train_df.Age = train_df.Age.astype(int)\n",
    "train_df.HasCrCard = train_df.HasCrCard.astype(int)\n",
    "train_df.IsActiveMember = train_df.IsActiveMember.astype(int)\n",
    "\n",
    "train_df.Gender = train_df.Gender.replace({'Male': 1, 'Female': 0}) # Male = 1 and Female = 0\n",
    "\n",
    "from sklearn.model_selection import train_test_split\n",
    "\n",
    "X = train_df.drop('Exited', axis = 1)\n",
    "y = train_df.Exited\n",
    "\n",
    "X_train, X_test, y_train, y_test = train_test_split(X, y, test_size = 0.2, random_state = 9)\n",
    "\n",
    "from sklearn.preprocessing import OneHotEncoder, StandardScaler\n",
    "from sklearn.compose import ColumnTransformer\n",
    "\n",
    "ohe = OneHotEncoder(drop = \"first\")\n",
    "scaler = StandardScaler()\n",
    "\n",
    "preprocessing = ColumnTransformer(\n",
    "    [\n",
    "        ('OneHotEncoder', ohe, X_train.select_dtypes(include = \"O\").columns),\n",
    "        ('StandardScaler', scaler, X_train.select_dtypes(exclude = 'O').columns)\n",
    "    ]\n",
    ")\n",
    "\n",
    "X_train_scaled = preprocessing.fit_transform(X_train)\n",
    "X_test_scaled = preprocessing.transform(X_test)\n"
   ]
  },
  {
   "cell_type": "code",
   "execution_count": 19,
   "metadata": {
    "execution": {
     "iopub.execute_input": "2025-09-20T14:12:11.400593Z",
     "iopub.status.busy": "2025-09-20T14:12:11.400310Z",
     "iopub.status.idle": "2025-09-20T14:12:11.405864Z",
     "shell.execute_reply": "2025-09-20T14:12:11.405063Z",
     "shell.execute_reply.started": "2025-09-20T14:12:11.400567Z"
    },
    "trusted": true
   },
   "outputs": [
    {
     "data": {
      "text/plain": [
       "array([[ 0.        ,  0.        ,  0.24236494, ...,  0.57169987,\n",
       "        -0.99677836,  1.40052759],\n",
       "       [ 0.        ,  1.        ,  0.66620651, ...,  0.57169987,\n",
       "        -0.99677836, -2.13009994],\n",
       "       [ 0.        ,  0.        ,  0.36702423, ..., -1.74916954,\n",
       "         1.00323206,  0.42369913],\n",
       "       ...,\n",
       "       [ 0.        ,  1.        , -0.68011376, ..., -1.74916954,\n",
       "        -0.99677836,  0.49626129],\n",
       "       [ 0.        ,  0.        , -0.05681734, ...,  0.57169987,\n",
       "        -0.99677836,  0.59562942],\n",
       "       [ 0.        ,  0.        ,  0.37949016, ...,  0.57169987,\n",
       "        -0.99677836, -1.67451412]])"
      ]
     },
     "execution_count": 19,
     "metadata": {},
     "output_type": "execute_result"
    }
   ],
   "source": [
    "X_train_scaled"
   ]
  },
  {
   "cell_type": "markdown",
   "metadata": {},
   "source": [
    "# Model Building"
   ]
  },
  {
   "cell_type": "code",
   "execution_count": 20,
   "metadata": {
    "execution": {
     "iopub.execute_input": "2025-09-20T14:12:11.406904Z",
     "iopub.status.busy": "2025-09-20T14:12:11.406666Z",
     "iopub.status.idle": "2025-09-20T14:13:09.257199Z",
     "shell.execute_reply": "2025-09-20T14:13:09.256442Z",
     "shell.execute_reply.started": "2025-09-20T14:12:11.406886Z"
    },
    "trusted": true
   },
   "outputs": [
    {
     "data": {
      "text/html": [
       "<div>\n",
       "<style scoped>\n",
       "    .dataframe tbody tr th:only-of-type {\n",
       "        vertical-align: middle;\n",
       "    }\n",
       "\n",
       "    .dataframe tbody tr th {\n",
       "        vertical-align: top;\n",
       "    }\n",
       "\n",
       "    .dataframe thead th {\n",
       "        text-align: right;\n",
       "    }\n",
       "</style>\n",
       "<table border=\"1\" class=\"dataframe\">\n",
       "  <thead>\n",
       "    <tr style=\"text-align: right;\">\n",
       "      <th></th>\n",
       "      <th>model name</th>\n",
       "      <th>accuracy score</th>\n",
       "      <th>precision score</th>\n",
       "      <th>recall score</th>\n",
       "      <th>f1-score</th>\n",
       "      <th>roc_auc_score</th>\n",
       "    </tr>\n",
       "  </thead>\n",
       "  <tbody>\n",
       "    <tr>\n",
       "      <th>0</th>\n",
       "      <td>Logistic Regression</td>\n",
       "      <td>0.834207</td>\n",
       "      <td>0.692879</td>\n",
       "      <td>0.387647</td>\n",
       "      <td>0.497151</td>\n",
       "      <td>0.817254</td>\n",
       "    </tr>\n",
       "    <tr>\n",
       "      <th>1</th>\n",
       "      <td>Decision Tree</td>\n",
       "      <td>0.799243</td>\n",
       "      <td>0.524096</td>\n",
       "      <td>0.548581</td>\n",
       "      <td>0.536059</td>\n",
       "      <td>0.707665</td>\n",
       "    </tr>\n",
       "    <tr>\n",
       "      <th>2</th>\n",
       "      <td>Random Forest</td>\n",
       "      <td>0.858506</td>\n",
       "      <td>0.718975</td>\n",
       "      <td>0.542992</td>\n",
       "      <td>0.618713</td>\n",
       "      <td>0.874038</td>\n",
       "    </tr>\n",
       "    <tr>\n",
       "      <th>3</th>\n",
       "      <td>AdaBoost</td>\n",
       "      <td>0.858870</td>\n",
       "      <td>0.730342</td>\n",
       "      <td>0.527085</td>\n",
       "      <td>0.612286</td>\n",
       "      <td>0.873568</td>\n",
       "    </tr>\n",
       "    <tr>\n",
       "      <th>4</th>\n",
       "      <td>Gradient Boost</td>\n",
       "      <td>0.864687</td>\n",
       "      <td>0.747341</td>\n",
       "      <td>0.543852</td>\n",
       "      <td>0.629562</td>\n",
       "      <td>0.888355</td>\n",
       "    </tr>\n",
       "    <tr>\n",
       "      <th>5</th>\n",
       "      <td>XGBoost</td>\n",
       "      <td>0.864111</td>\n",
       "      <td>0.730194</td>\n",
       "      <td>0.566638</td>\n",
       "      <td>0.638102</td>\n",
       "      <td>0.887891</td>\n",
       "    </tr>\n",
       "    <tr>\n",
       "      <th>6</th>\n",
       "      <td>KNN</td>\n",
       "      <td>0.845932</td>\n",
       "      <td>0.668087</td>\n",
       "      <td>0.539123</td>\n",
       "      <td>0.596717</td>\n",
       "      <td>0.828035</td>\n",
       "    </tr>\n",
       "  </tbody>\n",
       "</table>\n",
       "</div>"
      ],
      "text/plain": [
       "            model name  accuracy score  precision score  recall score  \\\n",
       "0  Logistic Regression        0.834207         0.692879      0.387647   \n",
       "1        Decision Tree        0.799243         0.524096      0.548581   \n",
       "2        Random Forest        0.858506         0.718975      0.542992   \n",
       "3             AdaBoost        0.858870         0.730342      0.527085   \n",
       "4       Gradient Boost        0.864687         0.747341      0.543852   \n",
       "5              XGBoost        0.864111         0.730194      0.566638   \n",
       "6                  KNN        0.845932         0.668087      0.539123   \n",
       "\n",
       "   f1-score  roc_auc_score  \n",
       "0  0.497151       0.817254  \n",
       "1  0.536059       0.707665  \n",
       "2  0.618713       0.874038  \n",
       "3  0.612286       0.873568  \n",
       "4  0.629562       0.888355  \n",
       "5  0.638102       0.887891  \n",
       "6  0.596717       0.828035  "
      ]
     },
     "execution_count": 20,
     "metadata": {},
     "output_type": "execute_result"
    }
   ],
   "source": [
    "from sklearn.linear_model import LogisticRegression\n",
    "from sklearn.tree import DecisionTreeClassifier\n",
    "from sklearn.ensemble import RandomForestClassifier, AdaBoostClassifier, GradientBoostingClassifier\n",
    "from xgboost import XGBClassifier\n",
    "from sklearn.neighbors import KNeighborsClassifier\n",
    "\n",
    "from sklearn.metrics import accuracy_score, precision_score, recall_score, f1_score, roc_auc_score\n",
    "\n",
    "models = {\n",
    "          \"Logistic Regression\": LogisticRegression(),\n",
    "          \"Decision Tree\": DecisionTreeClassifier(),\n",
    "          \"Random Forest\": RandomForestClassifier(),\n",
    "          \"AdaBoost\": AdaBoostClassifier(),\n",
    "          \"Gradient Boost\": GradientBoostingClassifier(),\n",
    "          \"XGBoost\": XGBClassifier(),\n",
    "          \"KNN\": KNeighborsClassifier()\n",
    "         }\n",
    "\n",
    "result_list = []\n",
    "for model_name, model in models.items():\n",
    "    model.fit(X_train_scaled, y_train)\n",
    "    y_pred = model.predict(X_test_scaled)\n",
    "\n",
    "    ar_score = accuracy_score(y_test, y_pred)\n",
    "    pre_score = precision_score(y_test, y_pred)\n",
    "    rec_score = recall_score(y_test, y_pred)\n",
    "    f_score = f1_score(y_test, y_pred)\n",
    "    roc_score = roc_auc_score(y_test, model.predict_proba(X_test_scaled)[:,1])\n",
    "\n",
    "    metrics_dict = {\n",
    "    'model name': model_name,\n",
    "    'accuracy score': ar_score,\n",
    "    'precision score': pre_score,\n",
    "    'recall score': rec_score,\n",
    "    'f1-score': f_score,\n",
    "    'roc_auc_score': roc_score \n",
    "    }\n",
    "\n",
    "    result_list.append(metrics_dict)\n",
    "\n",
    "metric_df = pd.DataFrame(result_list)\n",
    "metric_df"
   ]
  },
  {
   "cell_type": "code",
   "execution_count": 21,
   "metadata": {
    "execution": {
     "iopub.execute_input": "2025-09-20T14:13:09.258410Z",
     "iopub.status.busy": "2025-09-20T14:13:09.257935Z",
     "iopub.status.idle": "2025-09-20T14:13:09.268758Z",
     "shell.execute_reply": "2025-09-20T14:13:09.268089Z",
     "shell.execute_reply.started": "2025-09-20T14:13:09.258390Z"
    },
    "trusted": true
   },
   "outputs": [
    {
     "data": {
      "text/html": [
       "<div>\n",
       "<style scoped>\n",
       "    .dataframe tbody tr th:only-of-type {\n",
       "        vertical-align: middle;\n",
       "    }\n",
       "\n",
       "    .dataframe tbody tr th {\n",
       "        vertical-align: top;\n",
       "    }\n",
       "\n",
       "    .dataframe thead th {\n",
       "        text-align: right;\n",
       "    }\n",
       "</style>\n",
       "<table border=\"1\" class=\"dataframe\">\n",
       "  <thead>\n",
       "    <tr style=\"text-align: right;\">\n",
       "      <th></th>\n",
       "      <th>model name</th>\n",
       "      <th>accuracy score</th>\n",
       "      <th>precision score</th>\n",
       "      <th>recall score</th>\n",
       "      <th>f1-score</th>\n",
       "      <th>roc_auc_score</th>\n",
       "    </tr>\n",
       "  </thead>\n",
       "  <tbody>\n",
       "    <tr>\n",
       "      <th>1</th>\n",
       "      <td>Decision Tree</td>\n",
       "      <td>0.799243</td>\n",
       "      <td>0.524096</td>\n",
       "      <td>0.548581</td>\n",
       "      <td>0.536059</td>\n",
       "      <td>0.707665</td>\n",
       "    </tr>\n",
       "    <tr>\n",
       "      <th>0</th>\n",
       "      <td>Logistic Regression</td>\n",
       "      <td>0.834207</td>\n",
       "      <td>0.692879</td>\n",
       "      <td>0.387647</td>\n",
       "      <td>0.497151</td>\n",
       "      <td>0.817254</td>\n",
       "    </tr>\n",
       "    <tr>\n",
       "      <th>6</th>\n",
       "      <td>KNN</td>\n",
       "      <td>0.845932</td>\n",
       "      <td>0.668087</td>\n",
       "      <td>0.539123</td>\n",
       "      <td>0.596717</td>\n",
       "      <td>0.828035</td>\n",
       "    </tr>\n",
       "    <tr>\n",
       "      <th>2</th>\n",
       "      <td>Random Forest</td>\n",
       "      <td>0.858506</td>\n",
       "      <td>0.718975</td>\n",
       "      <td>0.542992</td>\n",
       "      <td>0.618713</td>\n",
       "      <td>0.874038</td>\n",
       "    </tr>\n",
       "    <tr>\n",
       "      <th>3</th>\n",
       "      <td>AdaBoost</td>\n",
       "      <td>0.858870</td>\n",
       "      <td>0.730342</td>\n",
       "      <td>0.527085</td>\n",
       "      <td>0.612286</td>\n",
       "      <td>0.873568</td>\n",
       "    </tr>\n",
       "    <tr>\n",
       "      <th>5</th>\n",
       "      <td>XGBoost</td>\n",
       "      <td>0.864111</td>\n",
       "      <td>0.730194</td>\n",
       "      <td>0.566638</td>\n",
       "      <td>0.638102</td>\n",
       "      <td>0.887891</td>\n",
       "    </tr>\n",
       "    <tr>\n",
       "      <th>4</th>\n",
       "      <td>Gradient Boost</td>\n",
       "      <td>0.864687</td>\n",
       "      <td>0.747341</td>\n",
       "      <td>0.543852</td>\n",
       "      <td>0.629562</td>\n",
       "      <td>0.888355</td>\n",
       "    </tr>\n",
       "  </tbody>\n",
       "</table>\n",
       "</div>"
      ],
      "text/plain": [
       "            model name  accuracy score  precision score  recall score  \\\n",
       "1        Decision Tree        0.799243         0.524096      0.548581   \n",
       "0  Logistic Regression        0.834207         0.692879      0.387647   \n",
       "6                  KNN        0.845932         0.668087      0.539123   \n",
       "2        Random Forest        0.858506         0.718975      0.542992   \n",
       "3             AdaBoost        0.858870         0.730342      0.527085   \n",
       "5              XGBoost        0.864111         0.730194      0.566638   \n",
       "4       Gradient Boost        0.864687         0.747341      0.543852   \n",
       "\n",
       "   f1-score  roc_auc_score  \n",
       "1  0.536059       0.707665  \n",
       "0  0.497151       0.817254  \n",
       "6  0.596717       0.828035  \n",
       "2  0.618713       0.874038  \n",
       "3  0.612286       0.873568  \n",
       "5  0.638102       0.887891  \n",
       "4  0.629562       0.888355  "
      ]
     },
     "execution_count": 21,
     "metadata": {},
     "output_type": "execute_result"
    }
   ],
   "source": [
    "metric_df.sort_values(by = ['accuracy score', 'roc_auc_score'])"
   ]
  },
  {
   "cell_type": "markdown",
   "metadata": {},
   "source": [
    "**Analysis**\n",
    "\n",
    "From the above comparison:\n",
    "- Gradient Boost and XGBoost are the top-performing models across almost all metrics.\n",
    "- XGBoost shows the highest Recall (0.5616), meaning it is better at catching customers likely to leave.\n",
    "- Gradient Boost shows the highest Precision (0.7473), meaning it makes fewer false alarms when predicting churn.\n",
    "- Both have nearly identical Accuracy and ROC-AUC, indicating strong overall performance.\n",
    "\n",
    "\n",
    "In this bank churn problem, Recall is the priority — missing a true churner (false negative) is more costly because it means losing a customer who could have been retained with an outreach or retention offer.\n",
    "\n",
    "XGBoost’s superior recall (0.5616 vs Gradient Boost’s 0.5439) means it catches more of those at-risk customers. \n",
    "\n",
    "Although Gradient Boost has slightly better precision and ROC-AUC, the business objective (minimize missed churners) favors XGBoost.\n",
    "\n",
    "**Conclusion** - As the performance of both the models are very close to each other, so Hyper Parameter Tuning will be done in both the model and depending upon the metrics the final model will be selected."
   ]
  },
  {
   "cell_type": "markdown",
   "metadata": {},
   "source": [
    "# Hyper Parameter Tuning of XGBoost and Gradient Boost"
   ]
  },
  {
   "cell_type": "code",
   "execution_count": 22,
   "metadata": {
    "execution": {
     "iopub.execute_input": "2025-09-20T14:13:09.269884Z",
     "iopub.status.busy": "2025-09-20T14:13:09.269557Z",
     "iopub.status.idle": "2025-09-20T14:28:34.617267Z",
     "shell.execute_reply": "2025-09-20T14:28:34.616702Z",
     "shell.execute_reply.started": "2025-09-20T14:13:09.269865Z"
    },
    "trusted": true
   },
   "outputs": [
    {
     "name": "stdout",
     "output_type": "stream",
     "text": [
      "Fitting 5 folds for each of 16 candidates, totalling 80 fits\n",
      "---------------Gradient Boost Classifier---------------\n",
      "{'learning_rate': 0.05, 'max_depth': 5, 'n_estimators': 200, 'subsample': 0.8}\n",
      "GradientBoostingClassifier(learning_rate=0.05, max_depth=5, n_estimators=200,\n",
      "                           subsample=0.8)\n",
      "Fitting 5 folds for each of 32 candidates, totalling 160 fits\n",
      "---------------XGB Classifier---------------\n",
      "{'colsample_bytree': 0.7, 'learning_rate': 0.05, 'max_depth': 5, 'n_estimators': 200, 'subsample': 0.7}\n",
      "XGBClassifier(base_score=None, booster=None, callbacks=None,\n",
      "              colsample_bylevel=None, colsample_bynode=None,\n",
      "              colsample_bytree=0.7, device=None, early_stopping_rounds=None,\n",
      "              enable_categorical=False, eval_metric=None, feature_types=None,\n",
      "              feature_weights=None, gamma=None, grow_policy=None,\n",
      "              importance_type=None, interaction_constraints=None,\n",
      "              learning_rate=0.05, max_bin=None, max_cat_threshold=None,\n",
      "              max_cat_to_onehot=None, max_delta_step=None, max_depth=5,\n",
      "              max_leaves=None, min_child_weight=None, missing=nan,\n",
      "              monotone_constraints=None, multi_strategy=None, n_estimators=200,\n",
      "              n_jobs=None, num_parallel_tree=None, ...)\n"
     ]
    }
   ],
   "source": [
    "from sklearn.model_selection import GridSearchCV, StratifiedKFold\n",
    "\n",
    "gb_params = {\n",
    "    'n_estimators': [100, 200],\n",
    "    'learning_rate': [0.05, 0.1],\n",
    "    'max_depth': [3, 5],\n",
    "    'subsample': [0.8, 1.0]\n",
    "}\n",
    "\n",
    "xgb_params = {\n",
    "    'n_estimators': [100, 200],\n",
    "    'max_depth': [3, 5],\n",
    "    'learning_rate': [0.05, 0.1],\n",
    "    'subsample': [0.7, 1.0],\n",
    "    'colsample_bytree': [0.7, 1.0]\n",
    "}\n",
    "\n",
    "cv = StratifiedKFold(n_splits=5, shuffle=True, random_state=42)\n",
    "\n",
    "cv = StratifiedKFold(5)\n",
    "\n",
    "gridcv_models = [\n",
    "    (\"Gradient Boost Classifier\", GradientBoostingClassifier(), gb_params),\n",
    "    (\"XGB Classifier\", XGBClassifier(), xgb_params)\n",
    "]\n",
    "\n",
    "\n",
    "for model_name, model, params in gridcv_models:\n",
    "    gridcv = GridSearchCV(estimator= model, cv = cv, scoring = 'roc_auc', verbose= 1, n_jobs = -1, param_grid= params)\n",
    "    gridcv.fit(X_train_scaled, y_train)\n",
    "    \n",
    "    print(f\"---------------{model_name}---------------\")\n",
    "    print(gridcv.best_params_)\n",
    "    print(gridcv.best_estimator_)"
   ]
  },
  {
   "cell_type": "code",
   "execution_count": 23,
   "metadata": {
    "execution": {
     "iopub.execute_input": "2025-09-20T14:51:45.312309Z",
     "iopub.status.busy": "2025-09-20T14:51:45.311751Z",
     "iopub.status.idle": "2025-09-20T14:52:32.300235Z",
     "shell.execute_reply": "2025-09-20T14:52:32.299588Z",
     "shell.execute_reply.started": "2025-09-20T14:51:45.312283Z"
    },
    "trusted": true
   },
   "outputs": [
    {
     "data": {
      "text/html": [
       "<div>\n",
       "<style scoped>\n",
       "    .dataframe tbody tr th:only-of-type {\n",
       "        vertical-align: middle;\n",
       "    }\n",
       "\n",
       "    .dataframe tbody tr th {\n",
       "        vertical-align: top;\n",
       "    }\n",
       "\n",
       "    .dataframe thead th {\n",
       "        text-align: right;\n",
       "    }\n",
       "</style>\n",
       "<table border=\"1\" class=\"dataframe\">\n",
       "  <thead>\n",
       "    <tr style=\"text-align: right;\">\n",
       "      <th></th>\n",
       "      <th>model name</th>\n",
       "      <th>accuracy score</th>\n",
       "      <th>precision score</th>\n",
       "      <th>recall score</th>\n",
       "      <th>f1-score</th>\n",
       "      <th>roc_auc_score</th>\n",
       "    </tr>\n",
       "  </thead>\n",
       "  <tbody>\n",
       "    <tr>\n",
       "      <th>0</th>\n",
       "      <td>Gradient Boost Classifier</td>\n",
       "      <td>0.866475</td>\n",
       "      <td>0.740595</td>\n",
       "      <td>0.567068</td>\n",
       "      <td>0.642318</td>\n",
       "      <td>0.890023</td>\n",
       "    </tr>\n",
       "    <tr>\n",
       "      <th>1</th>\n",
       "      <td>XG Boost Classifier</td>\n",
       "      <td>0.866141</td>\n",
       "      <td>0.738184</td>\n",
       "      <td>0.568501</td>\n",
       "      <td>0.642325</td>\n",
       "      <td>0.890302</td>\n",
       "    </tr>\n",
       "  </tbody>\n",
       "</table>\n",
       "</div>"
      ],
      "text/plain": [
       "                  model name  accuracy score  precision score  recall score  \\\n",
       "0  Gradient Boost Classifier        0.866475         0.740595      0.567068   \n",
       "1        XG Boost Classifier        0.866141         0.738184      0.568501   \n",
       "\n",
       "   f1-score  roc_auc_score  \n",
       "0  0.642318       0.890023  \n",
       "1  0.642325       0.890302  "
      ]
     },
     "execution_count": 23,
     "metadata": {},
     "output_type": "execute_result"
    }
   ],
   "source": [
    "hyper_param_tuned_models = {\n",
    "    \"Gradient Boost Classifier\": GradientBoostingClassifier(learning_rate = 0.05, max_depth = 5, n_estimators = 200, subsample = 0.8),\n",
    "    \"XG Boost Classifier\": XGBClassifier(colsample_bytree = 1, learning_rate = 0.05, max_depth = 5, n_estimators = 200, subsample = 0.7)\n",
    "}\n",
    "\n",
    "result_list = []\n",
    "for model_name, model in hyper_param_tuned_models.items():\n",
    "    model.fit(X_train_scaled, y_train)\n",
    "    y_pred = model.predict(X_test_scaled)\n",
    "\n",
    "    ar_score = accuracy_score(y_test, y_pred)\n",
    "    pre_score = precision_score(y_test, y_pred)\n",
    "    rec_score = recall_score(y_test, y_pred)\n",
    "    f_score = f1_score(y_test, y_pred)\n",
    "    roc_score = roc_auc_score(y_test, model.predict_proba(X_test_scaled)[:,1])\n",
    "\n",
    "    hyper_param_metrics_dict = {\n",
    "    'model name': model_name,\n",
    "    'accuracy score': ar_score,\n",
    "    'precision score': pre_score,\n",
    "    'recall score': rec_score,\n",
    "    'f1-score': f_score,\n",
    "    'roc_auc_score': roc_score \n",
    "    }\n",
    "\n",
    "    result_list.append(hyper_param_metrics_dict)\n",
    "\n",
    "hyper_param_metrics_dict = pd.DataFrame(result_list)\n",
    "hyper_param_metrics_dict"
   ]
  },
  {
   "cell_type": "markdown",
   "metadata": {},
   "source": [
    "**Analysis**\n",
    "- Both models are extremely close across all metrics.\n",
    "- XGBoost has a slight higher Recall and F1-Score, which is important in churn prediction because we want to catch as many at-risk customers as possible.\n",
    "- Precision is almost identical for both the models, and ROC-AUC is nearly the same.\n",
    "\n",
    "**Conclusion** : XGBoost Classifier Model will be selected because - \n",
    "- In a bank churn problem, Recall is the priority — missing a true churner is costlier than giving a false alarm.\n",
    "- XGBoost’s tiny edge in Recall and F1-Score makes it the better choice for your final model.\n",
    "- The difference is small, so either model would perform well, but choosing XGBoost aligns with the business objective of minimizing missed churners."
   ]
  },
  {
   "cell_type": "markdown",
   "metadata": {},
   "source": [
    "# Predictions on Test Data"
   ]
  },
  {
   "cell_type": "code",
   "execution_count": 24,
   "metadata": {
    "execution": {
     "iopub.execute_input": "2025-09-20T14:59:14.172814Z",
     "iopub.status.busy": "2025-09-20T14:59:14.172199Z",
     "iopub.status.idle": "2025-09-20T14:59:14.187612Z",
     "shell.execute_reply": "2025-09-20T14:59:14.187063Z",
     "shell.execute_reply.started": "2025-09-20T14:59:14.172788Z"
    },
    "trusted": true
   },
   "outputs": [
    {
     "data": {
      "text/html": [
       "<div>\n",
       "<style scoped>\n",
       "    .dataframe tbody tr th:only-of-type {\n",
       "        vertical-align: middle;\n",
       "    }\n",
       "\n",
       "    .dataframe tbody tr th {\n",
       "        vertical-align: top;\n",
       "    }\n",
       "\n",
       "    .dataframe thead th {\n",
       "        text-align: right;\n",
       "    }\n",
       "</style>\n",
       "<table border=\"1\" class=\"dataframe\">\n",
       "  <thead>\n",
       "    <tr style=\"text-align: right;\">\n",
       "      <th></th>\n",
       "      <th>id</th>\n",
       "      <th>CustomerId</th>\n",
       "      <th>Surname</th>\n",
       "      <th>CreditScore</th>\n",
       "      <th>Geography</th>\n",
       "      <th>Gender</th>\n",
       "      <th>Age</th>\n",
       "      <th>Tenure</th>\n",
       "      <th>Balance</th>\n",
       "      <th>NumOfProducts</th>\n",
       "      <th>HasCrCard</th>\n",
       "      <th>IsActiveMember</th>\n",
       "      <th>EstimatedSalary</th>\n",
       "    </tr>\n",
       "  </thead>\n",
       "  <tbody>\n",
       "    <tr>\n",
       "      <th>90437</th>\n",
       "      <td>255471</td>\n",
       "      <td>15611024</td>\n",
       "      <td>Kalinina</td>\n",
       "      <td>567</td>\n",
       "      <td>France</td>\n",
       "      <td>Female</td>\n",
       "      <td>23.0</td>\n",
       "      <td>9</td>\n",
       "      <td>93522.2</td>\n",
       "      <td>1</td>\n",
       "      <td>0.0</td>\n",
       "      <td>1.0</td>\n",
       "      <td>81425.61</td>\n",
       "    </tr>\n",
       "    <tr>\n",
       "      <th>94976</th>\n",
       "      <td>260010</td>\n",
       "      <td>15673520</td>\n",
       "      <td>Milano</td>\n",
       "      <td>651</td>\n",
       "      <td>Spain</td>\n",
       "      <td>Male</td>\n",
       "      <td>35.0</td>\n",
       "      <td>9</td>\n",
       "      <td>0.0</td>\n",
       "      <td>1</td>\n",
       "      <td>1.0</td>\n",
       "      <td>0.0</td>\n",
       "      <td>138876.71</td>\n",
       "    </tr>\n",
       "    <tr>\n",
       "      <th>82070</th>\n",
       "      <td>247104</td>\n",
       "      <td>15772073</td>\n",
       "      <td>Mironova</td>\n",
       "      <td>717</td>\n",
       "      <td>Spain</td>\n",
       "      <td>Male</td>\n",
       "      <td>36.0</td>\n",
       "      <td>1</td>\n",
       "      <td>0.0</td>\n",
       "      <td>2</td>\n",
       "      <td>0.0</td>\n",
       "      <td>0.0</td>\n",
       "      <td>132973.21</td>\n",
       "    </tr>\n",
       "    <tr>\n",
       "      <th>78841</th>\n",
       "      <td>243875</td>\n",
       "      <td>15637593</td>\n",
       "      <td>K'ung</td>\n",
       "      <td>665</td>\n",
       "      <td>France</td>\n",
       "      <td>Male</td>\n",
       "      <td>46.0</td>\n",
       "      <td>6</td>\n",
       "      <td>0.0</td>\n",
       "      <td>2</td>\n",
       "      <td>1.0</td>\n",
       "      <td>0.0</td>\n",
       "      <td>84760.32</td>\n",
       "    </tr>\n",
       "    <tr>\n",
       "      <th>93894</th>\n",
       "      <td>258928</td>\n",
       "      <td>15797748</td>\n",
       "      <td>Smith</td>\n",
       "      <td>584</td>\n",
       "      <td>France</td>\n",
       "      <td>Female</td>\n",
       "      <td>46.0</td>\n",
       "      <td>3</td>\n",
       "      <td>0.0</td>\n",
       "      <td>2</td>\n",
       "      <td>1.0</td>\n",
       "      <td>0.0</td>\n",
       "      <td>18082.06</td>\n",
       "    </tr>\n",
       "  </tbody>\n",
       "</table>\n",
       "</div>"
      ],
      "text/plain": [
       "           id  CustomerId   Surname  CreditScore Geography  Gender   Age  \\\n",
       "90437  255471    15611024  Kalinina          567    France  Female  23.0   \n",
       "94976  260010    15673520    Milano          651     Spain    Male  35.0   \n",
       "82070  247104    15772073  Mironova          717     Spain    Male  36.0   \n",
       "78841  243875    15637593     K'ung          665    France    Male  46.0   \n",
       "93894  258928    15797748     Smith          584    France  Female  46.0   \n",
       "\n",
       "       Tenure  Balance  NumOfProducts  HasCrCard  IsActiveMember  \\\n",
       "90437       9  93522.2              1        0.0             1.0   \n",
       "94976       9      0.0              1        1.0             0.0   \n",
       "82070       1      0.0              2        0.0             0.0   \n",
       "78841       6      0.0              2        1.0             0.0   \n",
       "93894       3      0.0              2        1.0             0.0   \n",
       "\n",
       "       EstimatedSalary  \n",
       "90437         81425.61  \n",
       "94976        138876.71  \n",
       "82070        132973.21  \n",
       "78841         84760.32  \n",
       "93894         18082.06  "
      ]
     },
     "execution_count": 24,
     "metadata": {},
     "output_type": "execute_result"
    }
   ],
   "source": [
    "test_df.sample(5)"
   ]
  },
  {
   "cell_type": "code",
   "execution_count": 25,
   "metadata": {
    "execution": {
     "iopub.execute_input": "2025-09-20T15:01:04.573977Z",
     "iopub.status.busy": "2025-09-20T15:01:04.573414Z",
     "iopub.status.idle": "2025-09-20T15:01:04.598565Z",
     "shell.execute_reply": "2025-09-20T15:01:04.597863Z",
     "shell.execute_reply.started": "2025-09-20T15:01:04.573949Z"
    },
    "trusted": true
   },
   "outputs": [
    {
     "data": {
      "text/plain": [
       "id                 0\n",
       "CustomerId         0\n",
       "Surname            0\n",
       "CreditScore        0\n",
       "Geography          0\n",
       "Gender             0\n",
       "Age                0\n",
       "Tenure             0\n",
       "Balance            0\n",
       "NumOfProducts      0\n",
       "HasCrCard          0\n",
       "IsActiveMember     0\n",
       "EstimatedSalary    0\n",
       "dtype: int64"
      ]
     },
     "execution_count": 25,
     "metadata": {},
     "output_type": "execute_result"
    }
   ],
   "source": [
    "test_df.isnull().sum()"
   ]
  },
  {
   "cell_type": "code",
   "execution_count": 26,
   "metadata": {
    "execution": {
     "iopub.execute_input": "2025-09-20T15:28:12.301221Z",
     "iopub.status.busy": "2025-09-20T15:28:12.300356Z",
     "iopub.status.idle": "2025-09-20T15:28:13.633360Z",
     "shell.execute_reply": "2025-09-20T15:28:13.632712Z",
     "shell.execute_reply.started": "2025-09-20T15:28:12.301192Z"
    },
    "trusted": true
   },
   "outputs": [
    {
     "name": "stderr",
     "output_type": "stream",
     "text": [
      "C:\\Users\\Desktop\\AppData\\Local\\Temp\\ipykernel_14328\\4111194798.py:5: FutureWarning: Downcasting behavior in `replace` is deprecated and will be removed in a future version. To retain the old behavior, explicitly call `result.infer_objects(copy=False)`. To opt-in to the future behavior, set `pd.set_option('future.no_silent_downcasting', True)`\n",
      "  test_df_copy.Gender = test_df_copy.Gender.replace({\"Male\": 1, \"Female\": 0})\n"
     ]
    },
    {
     "data": {
      "text/plain": [
       "array([[0.9665979 , 0.03340212],\n",
       "       [0.8601618 , 0.13983819],\n",
       "       [0.9114091 , 0.08859091],\n",
       "       ...,\n",
       "       [0.9897338 , 0.01026617],\n",
       "       [0.6843235 , 0.3156765 ],\n",
       "       [0.24508893, 0.75491107]], dtype=float32)"
      ]
     },
     "execution_count": 26,
     "metadata": {},
     "output_type": "execute_result"
    }
   ],
   "source": [
    "# Dropping unnecessary columns\n",
    "test_df_copy = test_df.drop(['id','Surname', 'CustomerId'], axis = 1 )\n",
    "\n",
    "# Data Preprocessing\n",
    "test_df_copy.Gender = test_df_copy.Gender.replace({\"Male\": 1, \"Female\": 0}) \n",
    "test_df_copy.Age = train_df.Age.astype(int)\n",
    "test_df_copy.HasCrCard = train_df.HasCrCard.astype(int)\n",
    "test_df_copy.IsActiveMember = train_df.IsActiveMember.astype(int)\n",
    "test_df_scaled = preprocessing.transform(test_df_copy)\n",
    "\n",
    "# Model Prediction\n",
    "model = XGBClassifier(colsample_bytree = 1, learning_rate = 0.05, max_depth = 5, n_estimators = 200, subsample = 0.7)\n",
    "model.fit(X_train_scaled, y_train)\n",
    "predictions = model.predict_proba(test_df_scaled)\n",
    "predictions\n"
   ]
  },
  {
   "cell_type": "markdown",
   "metadata": {},
   "source": [
    "# Submission"
   ]
  },
  {
   "cell_type": "code",
   "execution_count": 27,
   "metadata": {
    "execution": {
     "iopub.execute_input": "2025-09-20T15:35:34.251942Z",
     "iopub.status.busy": "2025-09-20T15:35:34.251270Z",
     "iopub.status.idle": "2025-09-20T15:35:34.260515Z",
     "shell.execute_reply": "2025-09-20T15:35:34.259881Z",
     "shell.execute_reply.started": "2025-09-20T15:35:34.251900Z"
    },
    "trusted": true
   },
   "outputs": [
    {
     "data": {
      "text/html": [
       "<div>\n",
       "<style scoped>\n",
       "    .dataframe tbody tr th:only-of-type {\n",
       "        vertical-align: middle;\n",
       "    }\n",
       "\n",
       "    .dataframe tbody tr th {\n",
       "        vertical-align: top;\n",
       "    }\n",
       "\n",
       "    .dataframe thead th {\n",
       "        text-align: right;\n",
       "    }\n",
       "</style>\n",
       "<table border=\"1\" class=\"dataframe\">\n",
       "  <thead>\n",
       "    <tr style=\"text-align: right;\">\n",
       "      <th></th>\n",
       "      <th>id</th>\n",
       "      <th>Exited</th>\n",
       "    </tr>\n",
       "  </thead>\n",
       "  <tbody>\n",
       "    <tr>\n",
       "      <th>0</th>\n",
       "      <td>165034</td>\n",
       "      <td>0.033402</td>\n",
       "    </tr>\n",
       "    <tr>\n",
       "      <th>1</th>\n",
       "      <td>165035</td>\n",
       "      <td>0.139838</td>\n",
       "    </tr>\n",
       "    <tr>\n",
       "      <th>2</th>\n",
       "      <td>165036</td>\n",
       "      <td>0.088591</td>\n",
       "    </tr>\n",
       "    <tr>\n",
       "      <th>3</th>\n",
       "      <td>165037</td>\n",
       "      <td>0.071811</td>\n",
       "    </tr>\n",
       "    <tr>\n",
       "      <th>4</th>\n",
       "      <td>165038</td>\n",
       "      <td>0.116095</td>\n",
       "    </tr>\n",
       "  </tbody>\n",
       "</table>\n",
       "</div>"
      ],
      "text/plain": [
       "       id    Exited\n",
       "0  165034  0.033402\n",
       "1  165035  0.139838\n",
       "2  165036  0.088591\n",
       "3  165037  0.071811\n",
       "4  165038  0.116095"
      ]
     },
     "execution_count": 27,
     "metadata": {},
     "output_type": "execute_result"
    }
   ],
   "source": [
    "submission = pd.DataFrame({\"id\": test_df.id,\"Exited\": predictions[:, 1]})\n",
    "submission.head()"
   ]
  },
  {
   "cell_type": "code",
   "execution_count": 28,
   "metadata": {
    "execution": {
     "iopub.execute_input": "2025-09-20T15:36:42.576229Z",
     "iopub.status.busy": "2025-09-20T15:36:42.575716Z",
     "iopub.status.idle": "2025-09-20T15:36:42.748807Z",
     "shell.execute_reply": "2025-09-20T15:36:42.747944Z",
     "shell.execute_reply.started": "2025-09-20T15:36:42.576206Z"
    },
    "trusted": true
   },
   "outputs": [
    {
     "name": "stdout",
     "output_type": "stream",
     "text": [
      "Submission saved!\n"
     ]
    }
   ],
   "source": [
    "submission.to_csv(\"submission.csv\", index = False)\n",
    "print(\"Submission saved!\")"
   ]
  },
  {
   "cell_type": "code",
   "execution_count": 35,
   "metadata": {
    "trusted": true
   },
   "outputs": [],
   "source": [
    "import pickle\n",
    "\n",
    "# Saving the data preprocessing pipeline \n",
    "with open('preprocessing.pkl', 'wb') as file:\n",
    "    pickle.dump(preprocessing, file)\n",
    "\n",
    "# Saving the model\n",
    "with open('model.pkl', \"wb\") as file:\n",
    "    pickle.dump(model, file)"
   ]
  },
  {
   "cell_type": "code",
   "execution_count": null,
   "metadata": {
    "trusted": true
   },
   "outputs": [],
   "source": []
  },
  {
   "cell_type": "code",
   "execution_count": null,
   "metadata": {},
   "outputs": [],
   "source": []
  }
 ],
 "metadata": {
  "kaggle": {
   "accelerator": "gpu",
   "dataSources": [
    {
     "databundleVersionId": 7405009,
     "sourceId": 65711,
     "sourceType": "competition"
    }
   ],
   "dockerImageVersionId": 31090,
   "isGpuEnabled": true,
   "isInternetEnabled": true,
   "language": "python",
   "sourceType": "notebook"
  },
  "kernelspec": {
   "display_name": "Python 3",
   "language": "python",
   "name": "python3"
  },
  "language_info": {
   "codemirror_mode": {
    "name": "ipython",
    "version": 3
   },
   "file_extension": ".py",
   "mimetype": "text/x-python",
   "name": "python",
   "nbconvert_exporter": "python",
   "pygments_lexer": "ipython3",
   "version": "3.10.18"
  }
 },
 "nbformat": 4,
 "nbformat_minor": 4
}
