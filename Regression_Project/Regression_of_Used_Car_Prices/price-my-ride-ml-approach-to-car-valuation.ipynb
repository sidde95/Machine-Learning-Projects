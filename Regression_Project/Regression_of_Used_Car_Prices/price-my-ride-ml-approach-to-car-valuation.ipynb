{
 "cells": [
  {
   "cell_type": "code",
   "execution_count": 1,
   "id": "81081e1f",
   "metadata": {
    "_cell_guid": "b1076dfc-b9ad-4769-8c92-a6c4dae69d19",
    "_uuid": "8f2839f25d086af736a60e9eeb907d3b93b6e0e5",
    "execution": {
     "iopub.execute_input": "2025-10-09T06:36:45.272006Z",
     "iopub.status.busy": "2025-10-09T06:36:45.271633Z",
     "iopub.status.idle": "2025-10-09T06:36:47.464180Z",
     "shell.execute_reply": "2025-10-09T06:36:47.462888Z"
    },
    "papermill": {
     "duration": 2.207619,
     "end_time": "2025-10-09T06:36:47.465926",
     "exception": false,
     "start_time": "2025-10-09T06:36:45.258307",
     "status": "completed"
    },
    "tags": []
   },
   "outputs": [
    {
     "name": "stdout",
     "output_type": "stream",
     "text": [
      "/kaggle/input/playground-series-s4e9/sample_submission.csv\n",
      "/kaggle/input/playground-series-s4e9/train.csv\n",
      "/kaggle/input/playground-series-s4e9/test.csv\n"
     ]
    }
   ],
   "source": [
    "# This Python 3 environment comes with many helpful analytics libraries installed\n",
    "# It is defined by the kaggle/python Docker image: https://github.com/kaggle/docker-python\n",
    "# For example, here's several helpful packages to load\n",
    "\n",
    "import numpy as np # linear algebra\n",
    "import pandas as pd # data processing, CSV file I/O (e.g. pd.read_csv)\n",
    "\n",
    "# Input data files are available in the read-only \"../input/\" directory\n",
    "# For example, running this (by clicking run or pressing Shift+Enter) will list all files under the input directory\n",
    "\n",
    "import os\n",
    "for dirname, _, filenames in os.walk('/kaggle/input'):\n",
    "    for filename in filenames:\n",
    "        print(os.path.join(dirname, filename))\n",
    "\n",
    "# You can write up to 20GB to the current directory (/kaggle/working/) that gets preserved as output when you create a version using \"Save & Run All\" \n",
    "# You can also write temporary files to /kaggle/temp/, but they won't be saved outside of the current session"
   ]
  },
  {
   "cell_type": "markdown",
   "id": "c86d2ba7",
   "metadata": {
    "papermill": {
     "duration": 0.011,
     "end_time": "2025-10-09T06:36:47.487906",
     "exception": false,
     "start_time": "2025-10-09T06:36:47.476906",
     "status": "completed"
    },
    "tags": []
   },
   "source": [
    "# Data Exploration"
   ]
  },
  {
   "cell_type": "code",
   "execution_count": 2,
   "id": "ddf41905",
   "metadata": {
    "execution": {
     "iopub.execute_input": "2025-10-09T06:36:47.513325Z",
     "iopub.status.busy": "2025-10-09T06:36:47.512671Z",
     "iopub.status.idle": "2025-10-09T06:36:49.081051Z",
     "shell.execute_reply": "2025-10-09T06:36:49.080058Z"
    },
    "papermill": {
     "duration": 1.583153,
     "end_time": "2025-10-09T06:36:49.083388",
     "exception": false,
     "start_time": "2025-10-09T06:36:47.500235",
     "status": "completed"
    },
    "tags": []
   },
   "outputs": [],
   "source": [
    "train_df = pd.read_csv('/kaggle/input/playground-series-s4e9/train.csv')\n",
    "test_df = pd.read_csv('/kaggle/input/playground-series-s4e9/test.csv')\n",
    "sample_df = pd.read_csv('/kaggle/input/playground-series-s4e9/sample_submission.csv')"
   ]
  },
  {
   "cell_type": "code",
   "execution_count": 3,
   "id": "2dd79d6a",
   "metadata": {
    "execution": {
     "iopub.execute_input": "2025-10-09T06:36:49.105778Z",
     "iopub.status.busy": "2025-10-09T06:36:49.105420Z",
     "iopub.status.idle": "2025-10-09T06:36:49.150857Z",
     "shell.execute_reply": "2025-10-09T06:36:49.149768Z"
    },
    "papermill": {
     "duration": 0.058912,
     "end_time": "2025-10-09T06:36:49.152831",
     "exception": false,
     "start_time": "2025-10-09T06:36:49.093919",
     "status": "completed"
    },
    "tags": []
   },
   "outputs": [
    {
     "data": {
      "text/html": [
       "<div>\n",
       "<style scoped>\n",
       "    .dataframe tbody tr th:only-of-type {\n",
       "        vertical-align: middle;\n",
       "    }\n",
       "\n",
       "    .dataframe tbody tr th {\n",
       "        vertical-align: top;\n",
       "    }\n",
       "\n",
       "    .dataframe thead th {\n",
       "        text-align: right;\n",
       "    }\n",
       "</style>\n",
       "<table border=\"1\" class=\"dataframe\">\n",
       "  <thead>\n",
       "    <tr style=\"text-align: right;\">\n",
       "      <th></th>\n",
       "      <th>id</th>\n",
       "      <th>brand</th>\n",
       "      <th>model</th>\n",
       "      <th>model_year</th>\n",
       "      <th>milage</th>\n",
       "      <th>fuel_type</th>\n",
       "      <th>engine</th>\n",
       "      <th>transmission</th>\n",
       "      <th>ext_col</th>\n",
       "      <th>int_col</th>\n",
       "      <th>accident</th>\n",
       "      <th>clean_title</th>\n",
       "      <th>price</th>\n",
       "    </tr>\n",
       "  </thead>\n",
       "  <tbody>\n",
       "    <tr>\n",
       "      <th>36320</th>\n",
       "      <td>36320</td>\n",
       "      <td>Lexus</td>\n",
       "      <td>ES 350 Base</td>\n",
       "      <td>2016</td>\n",
       "      <td>69764</td>\n",
       "      <td>Gasoline</td>\n",
       "      <td>268.0HP 3.5L V6 Cylinder Engine Gasoline Fuel</td>\n",
       "      <td>6-Speed A/T</td>\n",
       "      <td>Black</td>\n",
       "      <td>Black</td>\n",
       "      <td>None reported</td>\n",
       "      <td>Yes</td>\n",
       "      <td>19995</td>\n",
       "    </tr>\n",
       "    <tr>\n",
       "      <th>158723</th>\n",
       "      <td>158723</td>\n",
       "      <td>Chevrolet</td>\n",
       "      <td>Corvette Stingray w/3LT</td>\n",
       "      <td>2021</td>\n",
       "      <td>30700</td>\n",
       "      <td>Gasoline</td>\n",
       "      <td>490.0HP 6.2L 8 Cylinder Engine Gasoline Fuel</td>\n",
       "      <td>10-Speed A/T</td>\n",
       "      <td>White</td>\n",
       "      <td>Gray</td>\n",
       "      <td>None reported</td>\n",
       "      <td>Yes</td>\n",
       "      <td>59900</td>\n",
       "    </tr>\n",
       "    <tr>\n",
       "      <th>179191</th>\n",
       "      <td>179191</td>\n",
       "      <td>Mercedes-Benz</td>\n",
       "      <td>E-Class E 350 4MATIC</td>\n",
       "      <td>2011</td>\n",
       "      <td>83112</td>\n",
       "      <td>Gasoline</td>\n",
       "      <td>268.0HP 3.5L V6 Cylinder Engine Gasoline Fuel</td>\n",
       "      <td>7-Speed A/T</td>\n",
       "      <td>Black</td>\n",
       "      <td>Black</td>\n",
       "      <td>None reported</td>\n",
       "      <td>Yes</td>\n",
       "      <td>21500</td>\n",
       "    </tr>\n",
       "    <tr>\n",
       "      <th>54685</th>\n",
       "      <td>54685</td>\n",
       "      <td>Ford</td>\n",
       "      <td>Transit-350 Base</td>\n",
       "      <td>2017</td>\n",
       "      <td>21000</td>\n",
       "      <td>Gasoline</td>\n",
       "      <td>310.0HP 3.5L V6 Cylinder Engine Gasoline Fuel</td>\n",
       "      <td>Transmission w/Dual Shift Mode</td>\n",
       "      <td>White</td>\n",
       "      <td>Gray</td>\n",
       "      <td>None reported</td>\n",
       "      <td>Yes</td>\n",
       "      <td>56740</td>\n",
       "    </tr>\n",
       "  </tbody>\n",
       "</table>\n",
       "</div>"
      ],
      "text/plain": [
       "            id          brand                    model  model_year  milage  \\\n",
       "36320    36320          Lexus              ES 350 Base        2016   69764   \n",
       "158723  158723      Chevrolet  Corvette Stingray w/3LT        2021   30700   \n",
       "179191  179191  Mercedes-Benz     E-Class E 350 4MATIC        2011   83112   \n",
       "54685    54685           Ford         Transit-350 Base        2017   21000   \n",
       "\n",
       "       fuel_type                                         engine  \\\n",
       "36320   Gasoline  268.0HP 3.5L V6 Cylinder Engine Gasoline Fuel   \n",
       "158723  Gasoline   490.0HP 6.2L 8 Cylinder Engine Gasoline Fuel   \n",
       "179191  Gasoline  268.0HP 3.5L V6 Cylinder Engine Gasoline Fuel   \n",
       "54685   Gasoline  310.0HP 3.5L V6 Cylinder Engine Gasoline Fuel   \n",
       "\n",
       "                          transmission ext_col int_col       accident  \\\n",
       "36320                      6-Speed A/T   Black   Black  None reported   \n",
       "158723                    10-Speed A/T   White    Gray  None reported   \n",
       "179191                     7-Speed A/T   Black   Black  None reported   \n",
       "54685   Transmission w/Dual Shift Mode   White    Gray  None reported   \n",
       "\n",
       "       clean_title  price  \n",
       "36320          Yes  19995  \n",
       "158723         Yes  59900  \n",
       "179191         Yes  21500  \n",
       "54685          Yes  56740  "
      ]
     },
     "execution_count": 3,
     "metadata": {},
     "output_type": "execute_result"
    }
   ],
   "source": [
    "train_df.sample(4)"
   ]
  },
  {
   "cell_type": "code",
   "execution_count": 4,
   "id": "a3306b62",
   "metadata": {
    "execution": {
     "iopub.execute_input": "2025-10-09T06:36:49.175367Z",
     "iopub.status.busy": "2025-10-09T06:36:49.175036Z",
     "iopub.status.idle": "2025-10-09T06:36:49.193850Z",
     "shell.execute_reply": "2025-10-09T06:36:49.192529Z"
    },
    "papermill": {
     "duration": 0.032441,
     "end_time": "2025-10-09T06:36:49.195950",
     "exception": false,
     "start_time": "2025-10-09T06:36:49.163509",
     "status": "completed"
    },
    "tags": []
   },
   "outputs": [
    {
     "data": {
      "text/html": [
       "<div>\n",
       "<style scoped>\n",
       "    .dataframe tbody tr th:only-of-type {\n",
       "        vertical-align: middle;\n",
       "    }\n",
       "\n",
       "    .dataframe tbody tr th {\n",
       "        vertical-align: top;\n",
       "    }\n",
       "\n",
       "    .dataframe thead th {\n",
       "        text-align: right;\n",
       "    }\n",
       "</style>\n",
       "<table border=\"1\" class=\"dataframe\">\n",
       "  <thead>\n",
       "    <tr style=\"text-align: right;\">\n",
       "      <th></th>\n",
       "      <th>id</th>\n",
       "      <th>brand</th>\n",
       "      <th>model</th>\n",
       "      <th>model_year</th>\n",
       "      <th>milage</th>\n",
       "      <th>fuel_type</th>\n",
       "      <th>engine</th>\n",
       "      <th>transmission</th>\n",
       "      <th>ext_col</th>\n",
       "      <th>int_col</th>\n",
       "      <th>accident</th>\n",
       "      <th>clean_title</th>\n",
       "    </tr>\n",
       "  </thead>\n",
       "  <tbody>\n",
       "    <tr>\n",
       "      <th>95506</th>\n",
       "      <td>284039</td>\n",
       "      <td>Land</td>\n",
       "      <td>Rover Range Rover P525 Westminster</td>\n",
       "      <td>2022</td>\n",
       "      <td>10972</td>\n",
       "      <td>Gasoline</td>\n",
       "      <td>5.0L V8 32V GDI DOHC Supercharged</td>\n",
       "      <td>8-Speed Automatic</td>\n",
       "      <td>Black</td>\n",
       "      <td>Ebony</td>\n",
       "      <td>None reported</td>\n",
       "      <td>NaN</td>\n",
       "    </tr>\n",
       "    <tr>\n",
       "      <th>39923</th>\n",
       "      <td>228456</td>\n",
       "      <td>Ford</td>\n",
       "      <td>F-150 Lariat</td>\n",
       "      <td>2021</td>\n",
       "      <td>25352</td>\n",
       "      <td>Gasoline</td>\n",
       "      <td>375.0HP 3.5L V6 Cylinder Engine Gasoline Fuel</td>\n",
       "      <td>10-Speed A/T</td>\n",
       "      <td>White</td>\n",
       "      <td>Black</td>\n",
       "      <td>None reported</td>\n",
       "      <td>Yes</td>\n",
       "    </tr>\n",
       "  </tbody>\n",
       "</table>\n",
       "</div>"
      ],
      "text/plain": [
       "           id brand                               model  model_year  milage  \\\n",
       "95506  284039  Land  Rover Range Rover P525 Westminster        2022   10972   \n",
       "39923  228456  Ford                        F-150 Lariat        2021   25352   \n",
       "\n",
       "      fuel_type                                         engine  \\\n",
       "95506  Gasoline              5.0L V8 32V GDI DOHC Supercharged   \n",
       "39923  Gasoline  375.0HP 3.5L V6 Cylinder Engine Gasoline Fuel   \n",
       "\n",
       "            transmission ext_col int_col       accident clean_title  \n",
       "95506  8-Speed Automatic   Black   Ebony  None reported         NaN  \n",
       "39923       10-Speed A/T   White   Black  None reported         Yes  "
      ]
     },
     "execution_count": 4,
     "metadata": {},
     "output_type": "execute_result"
    }
   ],
   "source": [
    "test_df.sample(2)"
   ]
  },
  {
   "cell_type": "code",
   "execution_count": 5,
   "id": "05468def",
   "metadata": {
    "execution": {
     "iopub.execute_input": "2025-10-09T06:36:49.222842Z",
     "iopub.status.busy": "2025-10-09T06:36:49.222426Z",
     "iopub.status.idle": "2025-10-09T06:36:49.242920Z",
     "shell.execute_reply": "2025-10-09T06:36:49.241583Z"
    },
    "papermill": {
     "duration": 0.036887,
     "end_time": "2025-10-09T06:36:49.244848",
     "exception": false,
     "start_time": "2025-10-09T06:36:49.207961",
     "status": "completed"
    },
    "tags": []
   },
   "outputs": [
    {
     "data": {
      "text/html": [
       "<div>\n",
       "<style scoped>\n",
       "    .dataframe tbody tr th:only-of-type {\n",
       "        vertical-align: middle;\n",
       "    }\n",
       "\n",
       "    .dataframe tbody tr th {\n",
       "        vertical-align: top;\n",
       "    }\n",
       "\n",
       "    .dataframe thead th {\n",
       "        text-align: right;\n",
       "    }\n",
       "</style>\n",
       "<table border=\"1\" class=\"dataframe\">\n",
       "  <thead>\n",
       "    <tr style=\"text-align: right;\">\n",
       "      <th></th>\n",
       "      <th>id</th>\n",
       "      <th>price</th>\n",
       "    </tr>\n",
       "  </thead>\n",
       "  <tbody>\n",
       "    <tr>\n",
       "      <th>81889</th>\n",
       "      <td>270422</td>\n",
       "      <td>43878.016</td>\n",
       "    </tr>\n",
       "    <tr>\n",
       "      <th>85473</th>\n",
       "      <td>274006</td>\n",
       "      <td>43878.016</td>\n",
       "    </tr>\n",
       "  </tbody>\n",
       "</table>\n",
       "</div>"
      ],
      "text/plain": [
       "           id      price\n",
       "81889  270422  43878.016\n",
       "85473  274006  43878.016"
      ]
     },
     "execution_count": 5,
     "metadata": {},
     "output_type": "execute_result"
    }
   ],
   "source": [
    "sample_df.sample(2)"
   ]
  },
  {
   "cell_type": "markdown",
   "id": "ead82bc9",
   "metadata": {
    "papermill": {
     "duration": 0.011228,
     "end_time": "2025-10-09T06:36:49.267654",
     "exception": false,
     "start_time": "2025-10-09T06:36:49.256426",
     "status": "completed"
    },
    "tags": []
   },
   "source": [
    "# Data Transformation, Analysis and Model Building on Training Data"
   ]
  },
  {
   "cell_type": "code",
   "execution_count": 6,
   "id": "b5b7b5f0",
   "metadata": {
    "execution": {
     "iopub.execute_input": "2025-10-09T06:36:49.291631Z",
     "iopub.status.busy": "2025-10-09T06:36:49.291337Z",
     "iopub.status.idle": "2025-10-09T06:36:49.297654Z",
     "shell.execute_reply": "2025-10-09T06:36:49.296398Z"
    },
    "papermill": {
     "duration": 0.02086,
     "end_time": "2025-10-09T06:36:49.299394",
     "exception": false,
     "start_time": "2025-10-09T06:36:49.278534",
     "status": "completed"
    },
    "tags": []
   },
   "outputs": [
    {
     "name": "stdout",
     "output_type": "stream",
     "text": [
      "There are 188533 rows and 13 columns\n"
     ]
    }
   ],
   "source": [
    "print(f\"There are {train_df.shape[0]} rows and {train_df.shape[1]} columns\")"
   ]
  },
  {
   "cell_type": "code",
   "execution_count": 7,
   "id": "4374c4f2",
   "metadata": {
    "execution": {
     "iopub.execute_input": "2025-10-09T06:36:49.323442Z",
     "iopub.status.busy": "2025-10-09T06:36:49.323127Z",
     "iopub.status.idle": "2025-10-09T06:36:49.441462Z",
     "shell.execute_reply": "2025-10-09T06:36:49.440274Z"
    },
    "papermill": {
     "duration": 0.132535,
     "end_time": "2025-10-09T06:36:49.443532",
     "exception": false,
     "start_time": "2025-10-09T06:36:49.310997",
     "status": "completed"
    },
    "tags": []
   },
   "outputs": [
    {
     "name": "stdout",
     "output_type": "stream",
     "text": [
      "<class 'pandas.core.frame.DataFrame'>\n",
      "RangeIndex: 188533 entries, 0 to 188532\n",
      "Data columns (total 13 columns):\n",
      " #   Column        Non-Null Count   Dtype \n",
      "---  ------        --------------   ----- \n",
      " 0   id            188533 non-null  int64 \n",
      " 1   brand         188533 non-null  object\n",
      " 2   model         188533 non-null  object\n",
      " 3   model_year    188533 non-null  int64 \n",
      " 4   milage        188533 non-null  int64 \n",
      " 5   fuel_type     183450 non-null  object\n",
      " 6   engine        188533 non-null  object\n",
      " 7   transmission  188533 non-null  object\n",
      " 8   ext_col       188533 non-null  object\n",
      " 9   int_col       188533 non-null  object\n",
      " 10  accident      186081 non-null  object\n",
      " 11  clean_title   167114 non-null  object\n",
      " 12  price         188533 non-null  int64 \n",
      "dtypes: int64(4), object(9)\n",
      "memory usage: 18.7+ MB\n"
     ]
    }
   ],
   "source": [
    "train_df.info()"
   ]
  },
  {
   "cell_type": "markdown",
   "id": "7e6c7fb0",
   "metadata": {
    "papermill": {
     "duration": 0.013068,
     "end_time": "2025-10-09T06:36:49.468398",
     "exception": false,
     "start_time": "2025-10-09T06:36:49.455330",
     "status": "completed"
    },
    "tags": []
   },
   "source": [
    "## Data Cleaning and Transformation"
   ]
  },
  {
   "cell_type": "code",
   "execution_count": 8,
   "id": "6613c664",
   "metadata": {
    "execution": {
     "iopub.execute_input": "2025-10-09T06:36:49.495362Z",
     "iopub.status.busy": "2025-10-09T06:36:49.495032Z",
     "iopub.status.idle": "2025-10-09T06:36:49.598200Z",
     "shell.execute_reply": "2025-10-09T06:36:49.597160Z"
    },
    "papermill": {
     "duration": 0.117928,
     "end_time": "2025-10-09T06:36:49.600181",
     "exception": false,
     "start_time": "2025-10-09T06:36:49.482253",
     "status": "completed"
    },
    "tags": []
   },
   "outputs": [
    {
     "data": {
      "text/plain": [
       "id               0.000000\n",
       "brand            0.000000\n",
       "model            0.000000\n",
       "model_year       0.000000\n",
       "milage           0.000000\n",
       "fuel_type        2.696080\n",
       "engine           0.000000\n",
       "transmission     0.000000\n",
       "ext_col          0.000000\n",
       "int_col          0.000000\n",
       "accident         1.300568\n",
       "clean_title     11.360876\n",
       "price            0.000000\n",
       "dtype: float64"
      ]
     },
     "execution_count": 8,
     "metadata": {},
     "output_type": "execute_result"
    }
   ],
   "source": [
    "(train_df.isnull().sum()/len(train_df))* 100"
   ]
  },
  {
   "cell_type": "code",
   "execution_count": 9,
   "id": "2189e6b5",
   "metadata": {
    "execution": {
     "iopub.execute_input": "2025-10-09T06:36:49.627593Z",
     "iopub.status.busy": "2025-10-09T06:36:49.627229Z",
     "iopub.status.idle": "2025-10-09T06:36:49.864858Z",
     "shell.execute_reply": "2025-10-09T06:36:49.863080Z"
    },
    "papermill": {
     "duration": 0.253715,
     "end_time": "2025-10-09T06:36:49.866865",
     "exception": false,
     "start_time": "2025-10-09T06:36:49.613150",
     "status": "completed"
    },
    "tags": []
   },
   "outputs": [
    {
     "data": {
      "text/plain": [
       "id              0.000000\n",
       "brand           0.000000\n",
       "model           0.000000\n",
       "model_year      0.000000\n",
       "milage          0.000000\n",
       "fuel_type       2.419572\n",
       "engine          0.000000\n",
       "transmission    0.000000\n",
       "ext_col         0.000000\n",
       "int_col         0.000000\n",
       "accident        0.007005\n",
       "clean_title     9.946112\n",
       "price           0.000000\n",
       "dtype: float64"
      ]
     },
     "execution_count": 9,
     "metadata": {},
     "output_type": "execute_result"
    }
   ],
   "source": [
    "# Removing rows which have Null value in more than 1 columns \n",
    "train_df = train_df[train_df.isna().sum(axis = 1) <= 1]\n",
    "\n",
    "(train_df.isnull().sum()/len(train_df))* 100"
   ]
  },
  {
   "cell_type": "code",
   "execution_count": 10,
   "id": "ff9b6233",
   "metadata": {
    "execution": {
     "iopub.execute_input": "2025-10-09T06:36:49.891884Z",
     "iopub.status.busy": "2025-10-09T06:36:49.891514Z",
     "iopub.status.idle": "2025-10-09T06:36:50.022298Z",
     "shell.execute_reply": "2025-10-09T06:36:50.021156Z"
    },
    "papermill": {
     "duration": 0.14524,
     "end_time": "2025-10-09T06:36:50.024459",
     "exception": false,
     "start_time": "2025-10-09T06:36:49.879219",
     "status": "completed"
    },
    "tags": []
   },
   "outputs": [
    {
     "data": {
      "text/plain": [
       "id              0.000000\n",
       "brand           0.000000\n",
       "model           0.000000\n",
       "model_year      0.000000\n",
       "milage          0.000000\n",
       "fuel_type       2.419742\n",
       "engine          0.000000\n",
       "transmission    0.000000\n",
       "ext_col         0.000000\n",
       "int_col         0.000000\n",
       "accident        0.000000\n",
       "clean_title     9.946809\n",
       "price           0.000000\n",
       "dtype: float64"
      ]
     },
     "execution_count": 10,
     "metadata": {},
     "output_type": "execute_result"
    }
   ],
   "source": [
    "# Accident Column\n",
    "# As the no of Null values in accident column are very less, so the columns can be dropped\n",
    "train_df = train_df.dropna(subset = 'accident')\n",
    "(train_df.isnull().sum()/len(train_df))* 100\n"
   ]
  },
  {
   "cell_type": "code",
   "execution_count": 11,
   "id": "6191892e",
   "metadata": {
    "execution": {
     "iopub.execute_input": "2025-10-09T06:36:50.049556Z",
     "iopub.status.busy": "2025-10-09T06:36:50.049232Z",
     "iopub.status.idle": "2025-10-09T06:36:50.063348Z",
     "shell.execute_reply": "2025-10-09T06:36:50.062381Z"
    },
    "papermill": {
     "duration": 0.028417,
     "end_time": "2025-10-09T06:36:50.065127",
     "exception": false,
     "start_time": "2025-10-09T06:36:50.036710",
     "status": "completed"
    },
    "tags": []
   },
   "outputs": [
    {
     "data": {
      "text/plain": [
       "array(['Gasoline', 'E85 Flex Fuel', nan, 'Hybrid', 'Diesel',\n",
       "       'Plug-In Hybrid', '–', 'not supported'], dtype=object)"
      ]
     },
     "execution_count": 11,
     "metadata": {},
     "output_type": "execute_result"
    }
   ],
   "source": [
    "train_df.fuel_type.unique()"
   ]
  },
  {
   "cell_type": "code",
   "execution_count": 12,
   "id": "10780e2d",
   "metadata": {
    "execution": {
     "iopub.execute_input": "2025-10-09T06:36:50.169969Z",
     "iopub.status.busy": "2025-10-09T06:36:50.168778Z",
     "iopub.status.idle": "2025-10-09T06:36:50.912660Z",
     "shell.execute_reply": "2025-10-09T06:36:50.911643Z"
    },
    "papermill": {
     "duration": 0.759224,
     "end_time": "2025-10-09T06:36:50.914491",
     "exception": false,
     "start_time": "2025-10-09T06:36:50.155267",
     "status": "completed"
    },
    "tags": []
   },
   "outputs": [
    {
     "data": {
      "text/plain": [
       "18"
      ]
     },
     "execution_count": 12,
     "metadata": {},
     "output_type": "execute_result"
    }
   ],
   "source": [
    "# Fuel Type Column\n",
    "# Extract word before \"Fuel System\"\n",
    "train_df[\"fuel_type_extracted\"] = train_df[\"engine\"].str.extract(r\"(\\b\\w+\\b)(?=\\s+Fuel System)\")\n",
    "\n",
    "# If no \"Fuel System\" present, check for known fuel words\n",
    "train_df[\"fuel_type_extracted\"] = train_df[\"fuel_type_extracted\"].fillna(\n",
    "    train_df[\"engine\"].str.extract(r\"(Electric|Petrol|Diesel|Hybrid|CNG|LPG|Gasoline|Battery)\", expand=False)\n",
    ")\n",
    "\n",
    "# Fill existing fuel_type only where it's missing\n",
    "train_df[\"fuel_type\"] = train_df[\"fuel_type\"].fillna(train_df[\"fuel_type_extracted\"])\n",
    "\n",
    "# Drop helper column if not needed\n",
    "train_df = train_df.drop(columns=\"fuel_type_extracted\")\n",
    "\n",
    "\n",
    "train_df.fuel_type.isnull().sum()"
   ]
  },
  {
   "cell_type": "code",
   "execution_count": 13,
   "id": "47642a8d",
   "metadata": {
    "execution": {
     "iopub.execute_input": "2025-10-09T06:36:50.941114Z",
     "iopub.status.busy": "2025-10-09T06:36:50.940808Z",
     "iopub.status.idle": "2025-10-09T06:36:51.077585Z",
     "shell.execute_reply": "2025-10-09T06:36:51.076579Z"
    },
    "papermill": {
     "duration": 0.152421,
     "end_time": "2025-10-09T06:36:51.079647",
     "exception": false,
     "start_time": "2025-10-09T06:36:50.927226",
     "status": "completed"
    },
    "tags": []
   },
   "outputs": [
    {
     "data": {
      "text/plain": [
       "id              0.000000\n",
       "brand           0.000000\n",
       "model           0.000000\n",
       "model_year      0.000000\n",
       "milage          0.000000\n",
       "fuel_type       0.000000\n",
       "engine          0.000000\n",
       "transmission    0.000000\n",
       "ext_col         0.000000\n",
       "int_col         0.000000\n",
       "accident        0.000000\n",
       "clean_title     9.947774\n",
       "price           0.000000\n",
       "dtype: float64"
      ]
     },
     "execution_count": 13,
     "metadata": {},
     "output_type": "execute_result"
    }
   ],
   "source": [
    "# Dropping the rows having fuel_type as Null\n",
    "train_df = train_df.dropna(subset = \"fuel_type\")\n",
    "\n",
    "(train_df.isnull().sum()/len(train_df))* 100\n"
   ]
  },
  {
   "cell_type": "code",
   "execution_count": 14,
   "id": "bd399fd0",
   "metadata": {
    "execution": {
     "iopub.execute_input": "2025-10-09T06:36:51.105839Z",
     "iopub.status.busy": "2025-10-09T06:36:51.105383Z",
     "iopub.status.idle": "2025-10-09T06:36:51.141128Z",
     "shell.execute_reply": "2025-10-09T06:36:51.139772Z"
    },
    "papermill": {
     "duration": 0.050928,
     "end_time": "2025-10-09T06:36:51.142877",
     "exception": false,
     "start_time": "2025-10-09T06:36:51.091949",
     "status": "completed"
    },
    "tags": []
   },
   "outputs": [],
   "source": [
    "# clean_title have no dependency on other columns, hence to replace the Null values we will use mode value\n",
    "train_df.clean_title = train_df.clean_title.fillna(train_df.clean_title.mode()[0])"
   ]
  },
  {
   "cell_type": "code",
   "execution_count": 15,
   "id": "67ca0350",
   "metadata": {
    "execution": {
     "iopub.execute_input": "2025-10-09T06:36:51.169617Z",
     "iopub.status.busy": "2025-10-09T06:36:51.169302Z",
     "iopub.status.idle": "2025-10-09T06:36:51.266008Z",
     "shell.execute_reply": "2025-10-09T06:36:51.264755Z"
    },
    "papermill": {
     "duration": 0.112709,
     "end_time": "2025-10-09T06:36:51.267936",
     "exception": false,
     "start_time": "2025-10-09T06:36:51.155227",
     "status": "completed"
    },
    "tags": []
   },
   "outputs": [
    {
     "data": {
      "text/plain": [
       "id              0.0\n",
       "brand           0.0\n",
       "model           0.0\n",
       "model_year      0.0\n",
       "milage          0.0\n",
       "fuel_type       0.0\n",
       "engine          0.0\n",
       "transmission    0.0\n",
       "ext_col         0.0\n",
       "int_col         0.0\n",
       "accident        0.0\n",
       "clean_title     0.0\n",
       "price           0.0\n",
       "dtype: float64"
      ]
     },
     "execution_count": 15,
     "metadata": {},
     "output_type": "execute_result"
    }
   ],
   "source": [
    "(train_df.isnull().sum()/len(train_df))* 100"
   ]
  },
  {
   "cell_type": "code",
   "execution_count": 16,
   "id": "148f4007",
   "metadata": {
    "execution": {
     "iopub.execute_input": "2025-10-09T06:36:51.295720Z",
     "iopub.status.busy": "2025-10-09T06:36:51.295369Z",
     "iopub.status.idle": "2025-10-09T06:36:52.593839Z",
     "shell.execute_reply": "2025-10-09T06:36:52.592770Z"
    },
    "papermill": {
     "duration": 1.314604,
     "end_time": "2025-10-09T06:36:52.595905",
     "exception": false,
     "start_time": "2025-10-09T06:36:51.281301",
     "status": "completed"
    },
    "tags": []
   },
   "outputs": [
    {
     "data": {
      "text/html": [
       "<div>\n",
       "<style scoped>\n",
       "    .dataframe tbody tr th:only-of-type {\n",
       "        vertical-align: middle;\n",
       "    }\n",
       "\n",
       "    .dataframe tbody tr th {\n",
       "        vertical-align: top;\n",
       "    }\n",
       "\n",
       "    .dataframe thead th {\n",
       "        text-align: right;\n",
       "    }\n",
       "</style>\n",
       "<table border=\"1\" class=\"dataframe\">\n",
       "  <thead>\n",
       "    <tr style=\"text-align: right;\">\n",
       "      <th></th>\n",
       "      <th>id</th>\n",
       "      <th>brand</th>\n",
       "      <th>model</th>\n",
       "      <th>model_year</th>\n",
       "      <th>milage</th>\n",
       "      <th>fuel_type</th>\n",
       "      <th>engine</th>\n",
       "      <th>transmission</th>\n",
       "      <th>ext_col</th>\n",
       "      <th>int_col</th>\n",
       "      <th>accident</th>\n",
       "      <th>clean_title</th>\n",
       "      <th>price</th>\n",
       "      <th>horsepower</th>\n",
       "      <th>engine_displacement</th>\n",
       "      <th>cylinder_count</th>\n",
       "    </tr>\n",
       "  </thead>\n",
       "  <tbody>\n",
       "    <tr>\n",
       "      <th>59844</th>\n",
       "      <td>59844</td>\n",
       "      <td>Hummer</td>\n",
       "      <td>H3 Base</td>\n",
       "      <td>2010</td>\n",
       "      <td>107481</td>\n",
       "      <td>Gasoline</td>\n",
       "      <td>239.0HP 3.7L 5 Cylinder Engine Gasoline Fuel</td>\n",
       "      <td>A/T</td>\n",
       "      <td>Gray</td>\n",
       "      <td>Black</td>\n",
       "      <td>At least 1 accident or damage reported</td>\n",
       "      <td>Yes</td>\n",
       "      <td>8900</td>\n",
       "      <td>239.0</td>\n",
       "      <td>3.7</td>\n",
       "      <td>5</td>\n",
       "    </tr>\n",
       "    <tr>\n",
       "      <th>39205</th>\n",
       "      <td>39205</td>\n",
       "      <td>Chevrolet</td>\n",
       "      <td>Corvette Stingray w/1LT</td>\n",
       "      <td>2020</td>\n",
       "      <td>6200</td>\n",
       "      <td>Gasoline</td>\n",
       "      <td>490.0HP 6.2L 8 Cylinder Engine Gasoline Fuel</td>\n",
       "      <td>Transmission w/Dual Shift Mode</td>\n",
       "      <td>Orange</td>\n",
       "      <td>Black</td>\n",
       "      <td>None reported</td>\n",
       "      <td>Yes</td>\n",
       "      <td>71950</td>\n",
       "      <td>490.0</td>\n",
       "      <td>6.2</td>\n",
       "      <td>8</td>\n",
       "    </tr>\n",
       "    <tr>\n",
       "      <th>162047</th>\n",
       "      <td>162047</td>\n",
       "      <td>Hyundai</td>\n",
       "      <td>Genesis Coupe 3.8 Track</td>\n",
       "      <td>2016</td>\n",
       "      <td>24985</td>\n",
       "      <td>Gasoline</td>\n",
       "      <td>348.0HP 3.8L V6 Cylinder Engine Gasoline Fuel</td>\n",
       "      <td>8-Speed A/T</td>\n",
       "      <td>White</td>\n",
       "      <td>Black</td>\n",
       "      <td>None reported</td>\n",
       "      <td>Yes</td>\n",
       "      <td>21999</td>\n",
       "      <td>348.0</td>\n",
       "      <td>3.8</td>\n",
       "      <td>6</td>\n",
       "    </tr>\n",
       "    <tr>\n",
       "      <th>143994</th>\n",
       "      <td>143994</td>\n",
       "      <td>Chevrolet</td>\n",
       "      <td>Camaro 2SS</td>\n",
       "      <td>2022</td>\n",
       "      <td>10400</td>\n",
       "      <td>Gasoline</td>\n",
       "      <td>455.0HP 6.2L 8 Cylinder Engine Gasoline Fuel</td>\n",
       "      <td>8-Speed A/T</td>\n",
       "      <td>Blue</td>\n",
       "      <td>Gray</td>\n",
       "      <td>None reported</td>\n",
       "      <td>Yes</td>\n",
       "      <td>56000</td>\n",
       "      <td>455.0</td>\n",
       "      <td>6.2</td>\n",
       "      <td>8</td>\n",
       "    </tr>\n",
       "  </tbody>\n",
       "</table>\n",
       "</div>"
      ],
      "text/plain": [
       "            id      brand                    model  model_year  milage  \\\n",
       "59844    59844     Hummer                  H3 Base        2010  107481   \n",
       "39205    39205  Chevrolet  Corvette Stingray w/1LT        2020    6200   \n",
       "162047  162047    Hyundai  Genesis Coupe 3.8 Track        2016   24985   \n",
       "143994  143994  Chevrolet               Camaro 2SS        2022   10400   \n",
       "\n",
       "       fuel_type                                         engine  \\\n",
       "59844   Gasoline   239.0HP 3.7L 5 Cylinder Engine Gasoline Fuel   \n",
       "39205   Gasoline   490.0HP 6.2L 8 Cylinder Engine Gasoline Fuel   \n",
       "162047  Gasoline  348.0HP 3.8L V6 Cylinder Engine Gasoline Fuel   \n",
       "143994  Gasoline   455.0HP 6.2L 8 Cylinder Engine Gasoline Fuel   \n",
       "\n",
       "                          transmission ext_col int_col  \\\n",
       "59844                              A/T    Gray   Black   \n",
       "39205   Transmission w/Dual Shift Mode  Orange   Black   \n",
       "162047                     8-Speed A/T   White   Black   \n",
       "143994                     8-Speed A/T    Blue    Gray   \n",
       "\n",
       "                                      accident clean_title  price  horsepower  \\\n",
       "59844   At least 1 accident or damage reported         Yes   8900       239.0   \n",
       "39205                            None reported         Yes  71950       490.0   \n",
       "162047                           None reported         Yes  21999       348.0   \n",
       "143994                           None reported         Yes  56000       455.0   \n",
       "\n",
       "        engine_displacement  cylinder_count  \n",
       "59844                   3.7               5  \n",
       "39205                   6.2               8  \n",
       "162047                  3.8               6  \n",
       "143994                  6.2               8  "
      ]
     },
     "execution_count": 16,
     "metadata": {},
     "output_type": "execute_result"
    }
   ],
   "source": [
    "# Extracting information from engine column\n",
    "# Extract horsepower\n",
    "train_df[\"horsepower\"] = train_df[\"engine\"].str.extract(r\"(\\d+(?:\\.\\d+)?)\\s*HP\", expand=False)\n",
    "\n",
    "# Extract engine displacement \n",
    "train_df[\"engine_displacement\"] = train_df[\"engine\"].str.extract(r\"(\\d+(?:\\.\\d+)?)\\s*(?:L|LITER)\", expand=False)\n",
    "\n",
    "# Extract cylinder count\n",
    "train_df[\"cylinder_count\"] = ( train_df[\"engine\"].astype(str).str.upper().str.extract(\n",
    "        r\"(?:\\b(\\d+)\\s*(?:CYL(?:INDER)?)\\b)\"      # e.g. \"8 Cylinder\"\n",
    "        r\"|(?:\\bV(\\d+)\\b)\"                        # e.g. \"V8\"\n",
    "        r\"|(?:\\bI(\\d+)\\b)\"                        # e.g. \"I4\"\n",
    "        r\"|(?:\\b(?:STRAIGHT|INLINE|FLAT)\\s*(\\d+)\\b)\",  # e.g. \"Straight 6\"\n",
    "        expand=True\n",
    "    )\n",
    "    .bfill(axis=1)        \n",
    "    .iloc[:, 0]           \n",
    ")\n",
    "\n",
    "train_df[\"horsepower\"] = pd.to_numeric(train_df[\"horsepower\"], errors=\"coerce\")\n",
    "train_df[\"engine_displacement\"] = pd.to_numeric(train_df[\"engine_displacement\"], errors=\"coerce\")\n",
    "train_df[\"cylinder_count\"] = pd.to_numeric(train_df[\"cylinder_count\"], errors=\"coerce\").astype(\"Int64\")\n",
    "\n",
    "train_df.sample(4)\n"
   ]
  },
  {
   "cell_type": "code",
   "execution_count": 17,
   "id": "cab2e5c9",
   "metadata": {
    "execution": {
     "iopub.execute_input": "2025-10-09T06:36:52.622894Z",
     "iopub.status.busy": "2025-10-09T06:36:52.622544Z",
     "iopub.status.idle": "2025-10-09T06:36:52.746234Z",
     "shell.execute_reply": "2025-10-09T06:36:52.745215Z"
    },
    "papermill": {
     "duration": 0.140726,
     "end_time": "2025-10-09T06:36:52.750047",
     "exception": false,
     "start_time": "2025-10-09T06:36:52.609321",
     "status": "completed"
    },
    "tags": []
   },
   "outputs": [
    {
     "data": {
      "text/plain": [
       "id                      0.000000\n",
       "brand                   0.000000\n",
       "model                   0.000000\n",
       "model_year              0.000000\n",
       "milage                  0.000000\n",
       "fuel_type               0.000000\n",
       "engine                  0.000000\n",
       "transmission            0.000000\n",
       "ext_col                 0.000000\n",
       "int_col                 0.000000\n",
       "accident                0.000000\n",
       "clean_title             0.000000\n",
       "price                   0.000000\n",
       "horsepower             17.202313\n",
       "engine_displacement     3.293647\n",
       "cylinder_count          7.819380\n",
       "dtype: float64"
      ]
     },
     "execution_count": 17,
     "metadata": {},
     "output_type": "execute_result"
    }
   ],
   "source": [
    "train_df.isnull().sum()/len(train_df) *100"
   ]
  },
  {
   "cell_type": "code",
   "execution_count": 18,
   "id": "e96b9600",
   "metadata": {
    "execution": {
     "iopub.execute_input": "2025-10-09T06:36:52.782646Z",
     "iopub.status.busy": "2025-10-09T06:36:52.782347Z",
     "iopub.status.idle": "2025-10-09T06:36:52.964405Z",
     "shell.execute_reply": "2025-10-09T06:36:52.963209Z"
    },
    "papermill": {
     "duration": 0.198401,
     "end_time": "2025-10-09T06:36:52.965973",
     "exception": false,
     "start_time": "2025-10-09T06:36:52.767572",
     "status": "completed"
    },
    "tags": []
   },
   "outputs": [
    {
     "data": {
      "text/plain": [
       "id                     0.0\n",
       "brand                  0.0\n",
       "model                  0.0\n",
       "model_year             0.0\n",
       "milage                 0.0\n",
       "fuel_type              0.0\n",
       "engine                 0.0\n",
       "transmission           0.0\n",
       "ext_col                0.0\n",
       "int_col                0.0\n",
       "accident               0.0\n",
       "clean_title            0.0\n",
       "price                  0.0\n",
       "horsepower             0.0\n",
       "engine_displacement    0.0\n",
       "cylinder_count         0.0\n",
       "dtype: float64"
      ]
     },
     "execution_count": 18,
     "metadata": {},
     "output_type": "execute_result"
    }
   ],
   "source": [
    "# Removing the rows containing Null values \n",
    "\n",
    "train_df = train_df.dropna()\n",
    "train_df.isnull().sum()/len(train_df) *100"
   ]
  },
  {
   "cell_type": "markdown",
   "id": "b0e9448b",
   "metadata": {
    "papermill": {
     "duration": 0.011743,
     "end_time": "2025-10-09T06:36:52.990129",
     "exception": false,
     "start_time": "2025-10-09T06:36:52.978386",
     "status": "completed"
    },
    "tags": []
   },
   "source": [
    "- `transmission`"
   ]
  },
  {
   "cell_type": "code",
   "execution_count": 19,
   "id": "ffeeaade",
   "metadata": {
    "execution": {
     "iopub.execute_input": "2025-10-09T06:36:53.015835Z",
     "iopub.status.busy": "2025-10-09T06:36:53.015512Z",
     "iopub.status.idle": "2025-10-09T06:36:53.031425Z",
     "shell.execute_reply": "2025-10-09T06:36:53.030453Z"
    },
    "papermill": {
     "duration": 0.031009,
     "end_time": "2025-10-09T06:36:53.033277",
     "exception": false,
     "start_time": "2025-10-09T06:36:53.002268",
     "status": "completed"
    },
    "tags": []
   },
   "outputs": [
    {
     "data": {
      "text/plain": [
       "array(['A/T', 'Transmission w/Dual Shift Mode', '7-Speed A/T',\n",
       "       '8-Speed A/T', '6-Speed A/T', '10-Speed A/T', '9-Speed A/T',\n",
       "       '5-Speed A/T', 'CVT Transmission', '5-Speed M/T', 'M/T',\n",
       "       '6-Speed M/T', '7-Speed M/T', '8-Speed Automatic',\n",
       "       '10-Speed Automatic', '4-Speed A/T', '2-Speed A/T',\n",
       "       'Transmission Overdrive Switch', 'Automatic CVT', 'F', 'Automatic',\n",
       "       '1-Speed A/T', '–', '7-Speed DCT Automatic', '2',\n",
       "       '6-Speed Automatic', '6-Speed', 'SCHEDULED FOR OR IN PRODUCTION',\n",
       "       'CVT-F', '7-Speed Automatic', '5-Speed Automatic',\n",
       "       '9-Speed Automatic', '7-Speed', '7-Speed Manual',\n",
       "       '6-Speed Automatic with Auto-Shift', '8-SPEED A/T', 'Manual',\n",
       "       '7-Speed Automatic with Auto-Shift', '6-Speed Manual',\n",
       "       '4-Speed Automatic'], dtype=object)"
      ]
     },
     "execution_count": 19,
     "metadata": {},
     "output_type": "execute_result"
    }
   ],
   "source": [
    "train_df.transmission.unique()"
   ]
  },
  {
   "cell_type": "code",
   "execution_count": 20,
   "id": "5434874d",
   "metadata": {
    "execution": {
     "iopub.execute_input": "2025-10-09T06:36:53.060321Z",
     "iopub.status.busy": "2025-10-09T06:36:53.059801Z",
     "iopub.status.idle": "2025-10-09T06:36:53.243933Z",
     "shell.execute_reply": "2025-10-09T06:36:53.242851Z"
    },
    "papermill": {
     "duration": 0.199864,
     "end_time": "2025-10-09T06:36:53.245641",
     "exception": false,
     "start_time": "2025-10-09T06:36:53.045777",
     "status": "completed"
    },
    "tags": []
   },
   "outputs": [],
   "source": [
    "import re\n",
    "\n",
    "def cleaned_transmission(value):\n",
    "    val = str(value).upper().strip()\n",
    "\n",
    "    if re.search(r\"\\bA/T\\b\", val) or \"AUTOMATIC\" in val or \"DCT\" in val or \"DUAL SHIFT MODE\" in val or \"OVERDRIVE SWITCH\" in val or \"CVT\" in val:\n",
    "        return \"Automatic\"\n",
    "    if re.search(r\"\\bM/T\\b\", val) or \"MANUAL\" in val:\n",
    "        return \"Manual\"\n",
    "    return \"Unknown\"\n",
    "\n",
    "\n",
    "train_df.transmission = train_df.transmission.apply(cleaned_transmission)"
   ]
  },
  {
   "cell_type": "markdown",
   "id": "4c19f853",
   "metadata": {
    "execution": {
     "iopub.execute_input": "2025-09-26T18:37:25.350896Z",
     "iopub.status.busy": "2025-09-26T18:37:25.350569Z",
     "iopub.status.idle": "2025-09-26T18:37:25.356351Z",
     "shell.execute_reply": "2025-09-26T18:37:25.355286Z",
     "shell.execute_reply.started": "2025-09-26T18:37:25.350872Z"
    },
    "papermill": {
     "duration": 0.011838,
     "end_time": "2025-10-09T06:36:53.270905",
     "exception": false,
     "start_time": "2025-10-09T06:36:53.259067",
     "status": "completed"
    },
    "tags": []
   },
   "source": [
    "- `fuel_type`"
   ]
  },
  {
   "cell_type": "code",
   "execution_count": 21,
   "id": "b769a55a",
   "metadata": {
    "execution": {
     "iopub.execute_input": "2025-10-09T06:36:53.299967Z",
     "iopub.status.busy": "2025-10-09T06:36:53.299347Z",
     "iopub.status.idle": "2025-10-09T06:36:53.314552Z",
     "shell.execute_reply": "2025-10-09T06:36:53.313182Z"
    },
    "papermill": {
     "duration": 0.032706,
     "end_time": "2025-10-09T06:36:53.316679",
     "exception": false,
     "start_time": "2025-10-09T06:36:53.283973",
     "status": "completed"
    },
    "tags": []
   },
   "outputs": [
    {
     "data": {
      "text/plain": [
       "array(['Gasoline', 'E85 Flex Fuel', 'Hybrid', 'Diesel', 'Plug-In Hybrid',\n",
       "       '–', 'not supported', 'Electric'], dtype=object)"
      ]
     },
     "execution_count": 21,
     "metadata": {},
     "output_type": "execute_result"
    }
   ],
   "source": [
    "train_df.fuel_type.unique()"
   ]
  },
  {
   "cell_type": "code",
   "execution_count": 22,
   "id": "4a0c8d0c",
   "metadata": {
    "execution": {
     "iopub.execute_input": "2025-10-09T06:36:53.344363Z",
     "iopub.status.busy": "2025-10-09T06:36:53.344047Z",
     "iopub.status.idle": "2025-10-09T06:36:53.394673Z",
     "shell.execute_reply": "2025-10-09T06:36:53.393476Z"
    },
    "papermill": {
     "duration": 0.065851,
     "end_time": "2025-10-09T06:36:53.396479",
     "exception": false,
     "start_time": "2025-10-09T06:36:53.330628",
     "status": "completed"
    },
    "tags": []
   },
   "outputs": [],
   "source": [
    "def cleaned_fuel_type(value):\n",
    "    val = str(value).strip().upper()\n",
    "\n",
    "    if val in [\"GASOLINE\", \"E85 FLEX FUEL\"]:\n",
    "        return \"Gasoline\"\n",
    "    elif val in [\"DIESEL\"]:\n",
    "        return \"Diesel\"\n",
    "    elif val in [\"HYBRID\", \"PLUG-IN HYBRID\"]:\n",
    "        return \"Hybrid\"\n",
    "    elif val in [\"ELECTRIC\"]:\n",
    "        return \"Electric\"\n",
    "    else:\n",
    "        return \"Unknown\"\n",
    "\n",
    "train_df[\"fuel_type\"] = train_df[\"fuel_type\"].apply(cleaned_fuel_type)"
   ]
  },
  {
   "cell_type": "markdown",
   "id": "44be6f79",
   "metadata": {
    "papermill": {
     "duration": 0.012269,
     "end_time": "2025-10-09T06:36:53.421439",
     "exception": false,
     "start_time": "2025-10-09T06:36:53.409170",
     "status": "completed"
    },
    "tags": []
   },
   "source": [
    "- `accident`"
   ]
  },
  {
   "cell_type": "code",
   "execution_count": 23,
   "id": "a161bfb2",
   "metadata": {
    "execution": {
     "iopub.execute_input": "2025-10-09T06:36:53.448331Z",
     "iopub.status.busy": "2025-10-09T06:36:53.447979Z",
     "iopub.status.idle": "2025-10-09T06:36:53.463380Z",
     "shell.execute_reply": "2025-10-09T06:36:53.462313Z"
    },
    "papermill": {
     "duration": 0.030675,
     "end_time": "2025-10-09T06:36:53.465173",
     "exception": false,
     "start_time": "2025-10-09T06:36:53.434498",
     "status": "completed"
    },
    "tags": []
   },
   "outputs": [
    {
     "data": {
      "text/plain": [
       "array(['None reported', 'At least 1 accident or damage reported'],\n",
       "      dtype=object)"
      ]
     },
     "execution_count": 23,
     "metadata": {},
     "output_type": "execute_result"
    }
   ],
   "source": [
    "train_df.accident.unique()"
   ]
  },
  {
   "cell_type": "code",
   "execution_count": 24,
   "id": "3d44614f",
   "metadata": {
    "execution": {
     "iopub.execute_input": "2025-10-09T06:36:53.492124Z",
     "iopub.status.busy": "2025-10-09T06:36:53.491599Z",
     "iopub.status.idle": "2025-10-09T06:36:53.522151Z",
     "shell.execute_reply": "2025-10-09T06:36:53.520768Z"
    },
    "papermill": {
     "duration": 0.046476,
     "end_time": "2025-10-09T06:36:53.524308",
     "exception": false,
     "start_time": "2025-10-09T06:36:53.477832",
     "status": "completed"
    },
    "tags": []
   },
   "outputs": [],
   "source": [
    "train_df.accident = train_df.accident.replace({'None reported': \"No\", \"At least 1 accident or damage reported\": \"Yes\"})"
   ]
  },
  {
   "cell_type": "markdown",
   "id": "00718523",
   "metadata": {
    "papermill": {
     "duration": 0.013261,
     "end_time": "2025-10-09T06:36:53.550101",
     "exception": false,
     "start_time": "2025-10-09T06:36:53.536840",
     "status": "completed"
    },
    "tags": []
   },
   "source": [
    "- `ext_col`"
   ]
  },
  {
   "cell_type": "code",
   "execution_count": 25,
   "id": "5dbefc75",
   "metadata": {
    "execution": {
     "iopub.execute_input": "2025-10-09T06:36:53.579776Z",
     "iopub.status.busy": "2025-10-09T06:36:53.579438Z",
     "iopub.status.idle": "2025-10-09T06:36:53.593832Z",
     "shell.execute_reply": "2025-10-09T06:36:53.592895Z"
    },
    "papermill": {
     "duration": 0.03117,
     "end_time": "2025-10-09T06:36:53.595841",
     "exception": false,
     "start_time": "2025-10-09T06:36:53.564671",
     "status": "completed"
    },
    "tags": []
   },
   "outputs": [
    {
     "data": {
      "text/plain": [
       "array(['Yellow', 'Silver', 'Blue', 'Black', 'White', 'Green', 'Gray',\n",
       "       'Purple', 'Red', 'Beige', 'Gold', 'Orange', 'Brown',\n",
       "       'Majestic Plum Metallic', '–', 'Twilight Blue Metallic',\n",
       "       'Agate Black Metallic', 'Vega Blue', 'Silver Zynith',\n",
       "       'Moonlight Cloud', 'White Knuckle Clearcoat', 'Graphite Grey',\n",
       "       'BLACK', 'Pink', 'Daytona Gray Pearl Effect w/ Black Roof',\n",
       "       'Majestic Black Pearl', 'Nero Daytona', 'Blu', 'Blue Metallic',\n",
       "       'Bright White Clearcoat', 'Black Clearcoat', 'Diamond Black',\n",
       "       'Alpine White', 'Mosaic Black Metallic', 'Atomic Silver',\n",
       "       'Summit White', 'Daytona Gray Pearl Effect', 'Midnight Black',\n",
       "       'Dark Gray Metallic', 'Black Sapphire Metallic', 'Tan',\n",
       "       'Red Obsession', 'Maximum Steel Metallic', 'Dark Slate Metallic',\n",
       "       'White Platinum Tri-Coat Metallic', 'Bianco Isis', 'Alfa White',\n",
       "       'White Frost Tri-Coat', 'Iridium Metallic', 'Santorin Black',\n",
       "       'Ice', 'Rosso Mars Metallic', 'Liquid Platinum',\n",
       "       'Iridium Silver Metallic', 'Satin Steel Metallic',\n",
       "       'Oryx White Prl', 'Orca Black Metallic',\n",
       "       'Snowflake White Pearl Metallic', 'Super Black',\n",
       "       'Sparkling Silver', 'Obsidian Black Metallic',\n",
       "       'Firecracker Red Clearcoat', 'Black Obsidian',\n",
       "       'Ebony Twilight Metallic',\n",
       "       'Phantom Black Pearl Effect / Black Roof', 'Mineral White',\n",
       "       'Black Raven', 'Quartz Blue Pearl', 'Beluga Black', 'Hampton Gray',\n",
       "       'Frozen Dark Silver Metallic', 'Thunder Gray', 'Blue Reflex Mica',\n",
       "       'Snow White Pearl', 'Onyx', 'Metallic', 'Balloon White',\n",
       "       'Redline Red', 'BLUE', 'Glacier', 'Flame Red Clearcoat',\n",
       "       'Rosso Corsa', 'Delmonico Red Pearlcoat', 'Chalk'], dtype=object)"
      ]
     },
     "execution_count": 25,
     "metadata": {},
     "output_type": "execute_result"
    }
   ],
   "source": [
    "train_df.ext_col.unique()"
   ]
  },
  {
   "cell_type": "code",
   "execution_count": 26,
   "id": "babd9456",
   "metadata": {
    "execution": {
     "iopub.execute_input": "2025-10-09T06:36:53.622583Z",
     "iopub.status.busy": "2025-10-09T06:36:53.622264Z",
     "iopub.status.idle": "2025-10-09T06:36:53.711541Z",
     "shell.execute_reply": "2025-10-09T06:36:53.710524Z"
    },
    "papermill": {
     "duration": 0.105122,
     "end_time": "2025-10-09T06:36:53.713451",
     "exception": false,
     "start_time": "2025-10-09T06:36:53.608329",
     "status": "completed"
    },
    "tags": []
   },
   "outputs": [],
   "source": [
    "def clean_exterior_color(value):\n",
    "    val = str(value).strip().upper()\n",
    "\n",
    "    if \"BLACK\" in val or \"ONYX\" in val or \"RAVEN\" in val or \"EBONY\" in val or \"NERO\" in val or \"BELUGA\" in val:\n",
    "        return \"Black\"\n",
    "    elif \"WHITE\" in val or \"ALPINE\" in val or \"BIANCO\" in val or \"SNOW\" in val or \"CHALK\" in val or \"GLACIER\" in val:\n",
    "        return \"White\"\n",
    "    elif \"GRAY\" in val or \"GREY\" in val or \"GRAPHITE\" in val or \"STEEL\" in val or \"SLATE\" in val or \"THUNDER\" in val:\n",
    "        return \"Gray\"\n",
    "    elif \"SILVER\" in val or \"PLATINUM\" in val:\n",
    "        return \"Silver\"\n",
    "    elif \"RED\" in val or \"ROSSO\" in val or \"FLAME\" in val or \"MAROON\" in val:\n",
    "        return \"Red\"\n",
    "    elif \"BLUE\" in val or \"BLU\" in val or \"AQUA\" in val or \"NAVY\" in val:\n",
    "        return \"Blue\"\n",
    "    elif \"GREEN\" in val:\n",
    "        return \"Green\"\n",
    "    elif \"YELLOW\" in val or \"GOLD\" in val:\n",
    "        return \"Yellow\"\n",
    "    elif \"ORANGE\" in val:\n",
    "        return \"Orange\"\n",
    "    elif \"BROWN\" in val or \"BRONZE\" in val:\n",
    "        return \"Brown\"\n",
    "    elif \"BEIGE\" in val or \"TAN\" in val or \"CREAM\" in val or \"IVORY\" in val:\n",
    "        return \"Beige\"\n",
    "    elif \"PURPLE\" in val or \"PLUM\" in val:\n",
    "        return \"Purple\"\n",
    "    elif \"PINK\" in val:\n",
    "        return \"Pink\"\n",
    "    elif val in [\"–\", \"-\", \"NONE\", \"UNKNOWN\", \"NOT SUPPORTED\"]:\n",
    "        return \"Unknown\"\n",
    "    else:\n",
    "        return \"Unknown\"\n",
    "\n",
    "train_df.ext_col = train_df.ext_col.apply(clean_exterior_color)"
   ]
  },
  {
   "cell_type": "markdown",
   "id": "949698e7",
   "metadata": {
    "papermill": {
     "duration": 0.012741,
     "end_time": "2025-10-09T06:36:53.739476",
     "exception": false,
     "start_time": "2025-10-09T06:36:53.726735",
     "status": "completed"
    },
    "tags": []
   },
   "source": [
    "- `int_col`"
   ]
  },
  {
   "cell_type": "code",
   "execution_count": 27,
   "id": "257ab200",
   "metadata": {
    "execution": {
     "iopub.execute_input": "2025-10-09T06:36:53.766363Z",
     "iopub.status.busy": "2025-10-09T06:36:53.766087Z",
     "iopub.status.idle": "2025-10-09T06:36:53.779894Z",
     "shell.execute_reply": "2025-10-09T06:36:53.778770Z"
    },
    "papermill": {
     "duration": 0.029531,
     "end_time": "2025-10-09T06:36:53.781811",
     "exception": false,
     "start_time": "2025-10-09T06:36:53.752280",
     "status": "completed"
    },
    "tags": []
   },
   "outputs": [
    {
     "data": {
      "text/plain": [
       "array(['Gray', 'Beige', 'Black', '–', 'Blue', 'Red', 'Brown', 'Orange',\n",
       "       'Silver', 'White', 'Light Platinum / Jet Black', 'Gold', 'Green',\n",
       "       'Global Black', 'Mesa', 'Ebony', 'Obsidian Black', 'Yellow',\n",
       "       'Graphite', 'Black / Express Red', 'Nero', 'Rioja Red', 'Blk',\n",
       "       'Tan', 'Camel', 'Brandy', 'BLACK', 'Parchment', 'Portland',\n",
       "       'Red/Black', 'Graystone', 'Jet Black', 'White / Brown',\n",
       "       'Charles Blue', 'Magma Red', 'Ebony.', 'Medium Ash Gray',\n",
       "       'Nero Ade', 'Black/Graphite', 'Platinum', 'Black/Red',\n",
       "       'Canberra Beige', 'Boulder', 'Slate', 'Medium Dark Slate',\n",
       "       'Black Onyx', 'Light Slate', 'Walnut', 'Chestnut', 'Cloud',\n",
       "       'Gray w/Blue Bolsters', 'Diesel Gray / Black', 'Ash', 'Charcoal',\n",
       "       'Light Titanium', 'Aragon Brown', 'Amber', 'Macchiato',\n",
       "       'Red / Black', 'Almond Beige', 'Navy Pier', 'Medium Stone',\n",
       "       'Linen', 'Dark Gray', 'Oyster/Black', 'BEIGE', 'Charcoal Black',\n",
       "       'Ice', 'Orchid', 'Black w/Red Stitching', 'Black / Brown', 'WHITE',\n",
       "       'Hotspur', 'Sandstone', 'Anthracite', 'Black / Gray', 'Parchment.',\n",
       "       'ORANGE', 'Black / Saddle', 'Sport'], dtype=object)"
      ]
     },
     "execution_count": 27,
     "metadata": {},
     "output_type": "execute_result"
    }
   ],
   "source": [
    "train_df.int_col.unique()"
   ]
  },
  {
   "cell_type": "code",
   "execution_count": 28,
   "id": "7bc9b9c0",
   "metadata": {
    "execution": {
     "iopub.execute_input": "2025-10-09T06:36:53.808578Z",
     "iopub.status.busy": "2025-10-09T06:36:53.808249Z",
     "iopub.status.idle": "2025-10-09T06:36:54.048798Z",
     "shell.execute_reply": "2025-10-09T06:36:54.047528Z"
    },
    "papermill": {
     "duration": 0.255994,
     "end_time": "2025-10-09T06:36:54.050538",
     "exception": false,
     "start_time": "2025-10-09T06:36:53.794544",
     "status": "completed"
    },
    "tags": []
   },
   "outputs": [],
   "source": [
    "def clean_interior_color(value):\n",
    "    val = str(value).strip().upper()\n",
    "\n",
    "    if any(x in val for x in [\"BLACK\", \"EBONY\", \"ONYX\", \"NERO\", \"CHARCOAL\", \"JET\", \"BLK\"]):\n",
    "        return \"Black\"\n",
    "    elif any(x in val for x in [\"GRAY\", \"SLATE\", \"GRAPHITE\", \"ASH\", \"ANTHRACITE\", \"STONE\"]):\n",
    "        return \"Gray\"\n",
    "    elif any(x in val for x in [\"BEIGE\", \"TAN\", \"CAMEL\", \"ALMOND\", \"PARCHMENT\", \"LINEN\", \"SAND\", \"MACCHIATO\"]):\n",
    "        return \"Beige\"\n",
    "    elif any(x in val for x in [\"BROWN\", \"CHESTNUT\", \"BRANDY\", \"WALNUT\", \"AMBER\", \"COGNAC\", \"MESA\", \"ARAGON\"]):\n",
    "        return \"Brown\"\n",
    "    elif any(x in val for x in [\"RED\", \"HOTSPUR\", \"MAGMA\", \"RIOJA\"]):\n",
    "        return \"Red\"\n",
    "    elif any(x in val for x in [\"BLUE\", \"NAVY\"]):\n",
    "        return \"Blue\"\n",
    "    elif any(x in val for x in [\"WHITE\", \"OYSTER\", \"ICE\", \"CLOUD\", \"PLATINUM\"]):\n",
    "        return \"White\"\n",
    "    elif \"GREEN\" in val:\n",
    "        return \"Green\"\n",
    "    elif \"ORANGE\" in val:\n",
    "        return \"Orange\"\n",
    "    elif \"YELLOW\" in val:\n",
    "        return \"Yellow\"\n",
    "    elif \"SILVER\" in val:\n",
    "        return \"Silver\"\n",
    "    elif val in [\"–\", \"-\", \"NONE\", \"UNKNOWN\", \"NOT SUPPORTED\", \"N/A\"]:\n",
    "        return \"Unknown\"\n",
    "    else:\n",
    "        return \"Unknown\"\n",
    "\n",
    "train_df.int_col = train_df.int_col.apply(clean_interior_color)"
   ]
  },
  {
   "cell_type": "code",
   "execution_count": 29,
   "id": "bed573ca",
   "metadata": {
    "execution": {
     "iopub.execute_input": "2025-10-09T06:36:54.077435Z",
     "iopub.status.busy": "2025-10-09T06:36:54.077133Z",
     "iopub.status.idle": "2025-10-09T06:36:54.190066Z",
     "shell.execute_reply": "2025-10-09T06:36:54.189096Z"
    },
    "papermill": {
     "duration": 0.128809,
     "end_time": "2025-10-09T06:36:54.192118",
     "exception": false,
     "start_time": "2025-10-09T06:36:54.063309",
     "status": "completed"
    },
    "tags": []
   },
   "outputs": [],
   "source": [
    "# Removing less impacted fuel_type\n",
    "train_df = train_df[train_df.fuel_type.isin(['Unknown', 'Electric']) == False]\n",
    "\n",
    "# Removing impacted transmission type\n",
    "train_df = train_df[train_df.transmission.isin(['Unknown']) == False]\n",
    "\n",
    "# Removing exterior colors which are less than 20%\n",
    "train_df = train_df[~train_df.ext_col.isin(['Purple', 'Unknown', 'Pink'])]\n",
    "\n",
    "# Removing interior colors which are less than 20%\n",
    "train_df = train_df[~train_df.int_col.isin(['Yellow', 'Green'])]"
   ]
  },
  {
   "cell_type": "code",
   "execution_count": 30,
   "id": "ac16ac1d",
   "metadata": {
    "execution": {
     "iopub.execute_input": "2025-10-09T06:36:54.220571Z",
     "iopub.status.busy": "2025-10-09T06:36:54.220226Z",
     "iopub.status.idle": "2025-10-09T06:36:54.288451Z",
     "shell.execute_reply": "2025-10-09T06:36:54.287398Z"
    },
    "papermill": {
     "duration": 0.085173,
     "end_time": "2025-10-09T06:36:54.290237",
     "exception": false,
     "start_time": "2025-10-09T06:36:54.205064",
     "status": "completed"
    },
    "tags": []
   },
   "outputs": [
    {
     "data": {
      "text/html": [
       "<div>\n",
       "<style scoped>\n",
       "    .dataframe tbody tr th:only-of-type {\n",
       "        vertical-align: middle;\n",
       "    }\n",
       "\n",
       "    .dataframe tbody tr th {\n",
       "        vertical-align: top;\n",
       "    }\n",
       "\n",
       "    .dataframe thead th {\n",
       "        text-align: right;\n",
       "    }\n",
       "</style>\n",
       "<table border=\"1\" class=\"dataframe\">\n",
       "  <thead>\n",
       "    <tr style=\"text-align: right;\">\n",
       "      <th></th>\n",
       "      <th>id</th>\n",
       "      <th>brand</th>\n",
       "      <th>model</th>\n",
       "      <th>model_year</th>\n",
       "      <th>milage</th>\n",
       "      <th>fuel_type</th>\n",
       "      <th>engine</th>\n",
       "      <th>transmission</th>\n",
       "      <th>ext_col</th>\n",
       "      <th>int_col</th>\n",
       "      <th>accident</th>\n",
       "      <th>clean_title</th>\n",
       "      <th>price</th>\n",
       "      <th>horsepower</th>\n",
       "      <th>engine_displacement</th>\n",
       "      <th>cylinder_count</th>\n",
       "    </tr>\n",
       "  </thead>\n",
       "  <tbody>\n",
       "    <tr>\n",
       "      <th>0</th>\n",
       "      <td>0</td>\n",
       "      <td>MINI</td>\n",
       "      <td>Cooper S Base</td>\n",
       "      <td>2007</td>\n",
       "      <td>213000</td>\n",
       "      <td>Gasoline</td>\n",
       "      <td>172.0HP 1.6L 4 Cylinder Engine Gasoline Fuel</td>\n",
       "      <td>Automatic</td>\n",
       "      <td>Yellow</td>\n",
       "      <td>Gray</td>\n",
       "      <td>No</td>\n",
       "      <td>Yes</td>\n",
       "      <td>4200</td>\n",
       "      <td>172.0</td>\n",
       "      <td>1.6</td>\n",
       "      <td>4</td>\n",
       "    </tr>\n",
       "    <tr>\n",
       "      <th>1</th>\n",
       "      <td>1</td>\n",
       "      <td>Lincoln</td>\n",
       "      <td>LS V8</td>\n",
       "      <td>2002</td>\n",
       "      <td>143250</td>\n",
       "      <td>Gasoline</td>\n",
       "      <td>252.0HP 3.9L 8 Cylinder Engine Gasoline Fuel</td>\n",
       "      <td>Automatic</td>\n",
       "      <td>Silver</td>\n",
       "      <td>Beige</td>\n",
       "      <td>Yes</td>\n",
       "      <td>Yes</td>\n",
       "      <td>4999</td>\n",
       "      <td>252.0</td>\n",
       "      <td>3.9</td>\n",
       "      <td>8</td>\n",
       "    </tr>\n",
       "    <tr>\n",
       "      <th>2</th>\n",
       "      <td>2</td>\n",
       "      <td>Chevrolet</td>\n",
       "      <td>Silverado 2500 LT</td>\n",
       "      <td>2002</td>\n",
       "      <td>136731</td>\n",
       "      <td>Gasoline</td>\n",
       "      <td>320.0HP 5.3L 8 Cylinder Engine Flex Fuel Capab...</td>\n",
       "      <td>Automatic</td>\n",
       "      <td>Blue</td>\n",
       "      <td>Gray</td>\n",
       "      <td>No</td>\n",
       "      <td>Yes</td>\n",
       "      <td>13900</td>\n",
       "      <td>320.0</td>\n",
       "      <td>5.3</td>\n",
       "      <td>8</td>\n",
       "    </tr>\n",
       "    <tr>\n",
       "      <th>3</th>\n",
       "      <td>3</td>\n",
       "      <td>Genesis</td>\n",
       "      <td>G90 5.0 Ultimate</td>\n",
       "      <td>2017</td>\n",
       "      <td>19500</td>\n",
       "      <td>Gasoline</td>\n",
       "      <td>420.0HP 5.0L 8 Cylinder Engine Gasoline Fuel</td>\n",
       "      <td>Automatic</td>\n",
       "      <td>Black</td>\n",
       "      <td>Black</td>\n",
       "      <td>No</td>\n",
       "      <td>Yes</td>\n",
       "      <td>45000</td>\n",
       "      <td>420.0</td>\n",
       "      <td>5.0</td>\n",
       "      <td>8</td>\n",
       "    </tr>\n",
       "    <tr>\n",
       "      <th>4</th>\n",
       "      <td>4</td>\n",
       "      <td>Mercedes-Benz</td>\n",
       "      <td>Metris Base</td>\n",
       "      <td>2021</td>\n",
       "      <td>7388</td>\n",
       "      <td>Gasoline</td>\n",
       "      <td>208.0HP 2.0L 4 Cylinder Engine Gasoline Fuel</td>\n",
       "      <td>Automatic</td>\n",
       "      <td>Black</td>\n",
       "      <td>Beige</td>\n",
       "      <td>No</td>\n",
       "      <td>Yes</td>\n",
       "      <td>97500</td>\n",
       "      <td>208.0</td>\n",
       "      <td>2.0</td>\n",
       "      <td>4</td>\n",
       "    </tr>\n",
       "  </tbody>\n",
       "</table>\n",
       "</div>"
      ],
      "text/plain": [
       "   id          brand              model  model_year  milage fuel_type  \\\n",
       "0   0           MINI      Cooper S Base        2007  213000  Gasoline   \n",
       "1   1        Lincoln              LS V8        2002  143250  Gasoline   \n",
       "2   2      Chevrolet  Silverado 2500 LT        2002  136731  Gasoline   \n",
       "3   3        Genesis   G90 5.0 Ultimate        2017   19500  Gasoline   \n",
       "4   4  Mercedes-Benz        Metris Base        2021    7388  Gasoline   \n",
       "\n",
       "                                              engine transmission ext_col  \\\n",
       "0       172.0HP 1.6L 4 Cylinder Engine Gasoline Fuel    Automatic  Yellow   \n",
       "1       252.0HP 3.9L 8 Cylinder Engine Gasoline Fuel    Automatic  Silver   \n",
       "2  320.0HP 5.3L 8 Cylinder Engine Flex Fuel Capab...    Automatic    Blue   \n",
       "3       420.0HP 5.0L 8 Cylinder Engine Gasoline Fuel    Automatic   Black   \n",
       "4       208.0HP 2.0L 4 Cylinder Engine Gasoline Fuel    Automatic   Black   \n",
       "\n",
       "  int_col accident clean_title  price  horsepower  engine_displacement  \\\n",
       "0    Gray       No         Yes   4200       172.0                  1.6   \n",
       "1   Beige      Yes         Yes   4999       252.0                  3.9   \n",
       "2    Gray       No         Yes  13900       320.0                  5.3   \n",
       "3   Black       No         Yes  45000       420.0                  5.0   \n",
       "4   Beige       No         Yes  97500       208.0                  2.0   \n",
       "\n",
       "   cylinder_count  \n",
       "0               4  \n",
       "1               8  \n",
       "2               8  \n",
       "3               8  \n",
       "4               4  "
      ]
     },
     "execution_count": 30,
     "metadata": {},
     "output_type": "execute_result"
    }
   ],
   "source": [
    "train_df = train_df.reset_index(drop = True)\n",
    "train_df.head()"
   ]
  },
  {
   "cell_type": "markdown",
   "id": "50e5a71e",
   "metadata": {
    "papermill": {
     "duration": 0.014373,
     "end_time": "2025-10-09T06:36:54.319409",
     "exception": false,
     "start_time": "2025-10-09T06:36:54.305036",
     "status": "completed"
    },
    "tags": []
   },
   "source": [
    "Dropping columns which the columns which will be not be impactful during model building\n",
    "\n",
    "1. model - Since a single company can have multiple models hence while data transformation this will create huge dimensionality.\n",
    "2. id - Index number\n",
    "3. engine - Useful  columns such as horsepower, engine_displacement, cylinder_count has been extracted\n",
    "4. clean_title - All the rows have Yes as the tag."
   ]
  },
  {
   "cell_type": "code",
   "execution_count": 31,
   "id": "7a31dfc3",
   "metadata": {
    "execution": {
     "iopub.execute_input": "2025-10-09T06:36:54.348450Z",
     "iopub.status.busy": "2025-10-09T06:36:54.347972Z",
     "iopub.status.idle": "2025-10-09T06:36:54.361122Z",
     "shell.execute_reply": "2025-10-09T06:36:54.360198Z"
    },
    "papermill": {
     "duration": 0.044684,
     "end_time": "2025-10-09T06:36:54.378133",
     "exception": false,
     "start_time": "2025-10-09T06:36:54.333449",
     "status": "completed"
    },
    "tags": []
   },
   "outputs": [],
   "source": [
    "train_df = train_df.drop(['id', 'model', 'engine', 'clean_title'], axis = 1)"
   ]
  },
  {
   "cell_type": "markdown",
   "id": "f379e607",
   "metadata": {
    "papermill": {
     "duration": 0.013917,
     "end_time": "2025-10-09T06:36:54.405312",
     "exception": false,
     "start_time": "2025-10-09T06:36:54.391395",
     "status": "completed"
    },
    "tags": []
   },
   "source": [
    "## Data Visualization"
   ]
  },
  {
   "cell_type": "code",
   "execution_count": 32,
   "id": "e48f97e0",
   "metadata": {
    "execution": {
     "iopub.execute_input": "2025-10-09T06:36:54.432833Z",
     "iopub.status.busy": "2025-10-09T06:36:54.432513Z",
     "iopub.status.idle": "2025-10-09T06:36:57.039567Z",
     "shell.execute_reply": "2025-10-09T06:36:57.037580Z"
    },
    "papermill": {
     "duration": 2.622861,
     "end_time": "2025-10-09T06:36:57.041634",
     "exception": false,
     "start_time": "2025-10-09T06:36:54.418773",
     "status": "completed"
    },
    "tags": []
   },
   "outputs": [],
   "source": [
    "import matplotlib.pyplot as plt\n",
    "import seaborn as sns\n",
    "\n",
    "import warnings\n",
    "warnings.filterwarnings('ignore')"
   ]
  },
  {
   "cell_type": "code",
   "execution_count": 33,
   "id": "bb085add",
   "metadata": {
    "execution": {
     "iopub.execute_input": "2025-10-09T06:36:57.072756Z",
     "iopub.status.busy": "2025-10-09T06:36:57.072199Z",
     "iopub.status.idle": "2025-10-09T06:36:59.302301Z",
     "shell.execute_reply": "2025-10-09T06:36:59.301075Z"
    },
    "papermill": {
     "duration": 2.251309,
     "end_time": "2025-10-09T06:36:59.307559",
     "exception": false,
     "start_time": "2025-10-09T06:36:57.056250",
     "status": "completed"
    },
    "tags": []
   },
   "outputs": [
    {
     "data": {
      "image/png": "[encoded data removed]",
      "text/plain": [
       "<Figure size 1500x1800 with 6 Axes>"
      ]
     },
     "metadata": {},
     "output_type": "display_data"
    }
   ],
   "source": [
    "def countplot(dataframe):\n",
    "    cat_cols = train_df.select_dtypes(include = 'O').columns\n",
    "    for i, j in enumerate(cat_cols):\n",
    "        plt.subplot(len(cat_cols), 1, i+1)\n",
    "        sns.countplot(data = dataframe, x = j)\n",
    "        plt.title(f\"{j} plot\")\n",
    "        plt.xticks(rotation = 60)\n",
    "    plt.tight_layout()\n",
    "\n",
    "plt.figure(figsize = (15, 18))\n",
    "countplot(train_df)"
   ]
  },
  {
   "cell_type": "code",
   "execution_count": 34,
   "id": "58abed06",
   "metadata": {
    "execution": {
     "iopub.execute_input": "2025-10-09T06:36:59.344536Z",
     "iopub.status.busy": "2025-10-09T06:36:59.344221Z",
     "iopub.status.idle": "2025-10-09T06:37:00.283314Z",
     "shell.execute_reply": "2025-10-09T06:37:00.281978Z"
    },
    "papermill": {
     "duration": 0.959411,
     "end_time": "2025-10-09T06:37:00.285412",
     "exception": false,
     "start_time": "2025-10-09T06:36:59.326001",
     "status": "completed"
    },
    "tags": []
   },
   "outputs": [
    {
     "data": {
      "image/png": "[encoded data removed]",
      "text/plain": [
       "<Figure size 1500x1000 with 6 Axes>"
      ]
     },
     "metadata": {},
     "output_type": "display_data"
    }
   ],
   "source": [
    "def boxplot(dataframe):\n",
    "    num_cols = train_df.select_dtypes(exclude = 'O').columns\n",
    "    for i, j in enumerate(num_cols):\n",
    "        plt.subplot(len(num_cols)//3 + 1, 2, i+1)\n",
    "        sns.boxplot(data = dataframe, x = j)\n",
    "        plt.title(f\"{j} plot\")\n",
    "    plt.tight_layout()\n",
    "\n",
    "plt.figure(figsize = (15, 10))\n",
    "boxplot(train_df)"
   ]
  },
  {
   "cell_type": "code",
   "execution_count": 35,
   "id": "26599e31",
   "metadata": {
    "execution": {
     "iopub.execute_input": "2025-10-09T06:37:00.324703Z",
     "iopub.status.busy": "2025-10-09T06:37:00.324374Z",
     "iopub.status.idle": "2025-10-09T06:37:00.527106Z",
     "shell.execute_reply": "2025-10-09T06:37:00.526042Z"
    },
    "papermill": {
     "duration": 0.224116,
     "end_time": "2025-10-09T06:37:00.528942",
     "exception": false,
     "start_time": "2025-10-09T06:37:00.304826",
     "status": "completed"
    },
    "tags": []
   },
   "outputs": [
    {
     "data": {
      "text/plain": [
       "<Axes: xlabel='price'>"
      ]
     },
     "execution_count": 35,
     "metadata": {},
     "output_type": "execute_result"
    },
    {
     "data": {
      "image/png": "[encoded data removed]",
      "text/plain": [
       "<Figure size 1500x500 with 1 Axes>"
      ]
     },
     "metadata": {},
     "output_type": "display_data"
    }
   ],
   "source": [
    "# Removing outlier from the price column\n",
    "\n",
    "train_df = train_df[train_df.price <= 1_000_000]\n",
    "\n",
    "plt.figure(figsize = (15, 5))\n",
    "sns.boxplot(data = train_df, x = \"price\")"
   ]
  },
  {
   "cell_type": "code",
   "execution_count": 36,
   "id": "4dc938cb",
   "metadata": {
    "execution": {
     "iopub.execute_input": "2025-10-09T06:37:00.567064Z",
     "iopub.status.busy": "2025-10-09T06:37:00.566760Z",
     "iopub.status.idle": "2025-10-09T06:37:09.257178Z",
     "shell.execute_reply": "2025-10-09T06:37:09.256033Z"
    },
    "papermill": {
     "duration": 8.714179,
     "end_time": "2025-10-09T06:37:09.261254",
     "exception": false,
     "start_time": "2025-10-09T06:37:00.547075",
     "status": "completed"
    },
    "tags": []
   },
   "outputs": [
    {
     "data": {
      "image/png": "[encoded data removed]",
      "text/plain": [
       "<Figure size 1500x1000 with 6 Axes>"
      ]
     },
     "metadata": {},
     "output_type": "display_data"
    }
   ],
   "source": [
    "def histplot(dataframe):\n",
    "    num_cols = train_df.select_dtypes(exclude = 'O').columns\n",
    "    for i, j in enumerate(num_cols):\n",
    "        plt.subplot(len(num_cols)//3 + 1, 2, i+1)\n",
    "        sns.histplot(data = dataframe, x = j, kde = True)\n",
    "        plt.title(f\"{j} plot\")\n",
    "    plt.tight_layout()\n",
    "\n",
    "plt.figure(figsize = (15, 10))\n",
    "histplot(train_df)"
   ]
  },
  {
   "cell_type": "markdown",
   "id": "2527c0e3",
   "metadata": {
    "papermill": {
     "duration": 0.022583,
     "end_time": "2025-10-09T06:37:09.306189",
     "exception": false,
     "start_time": "2025-10-09T06:37:09.283606",
     "status": "completed"
    },
    "tags": []
   },
   "source": [
    "## Train Test Split and Data Preprocessing"
   ]
  },
  {
   "cell_type": "code",
   "execution_count": 37,
   "id": "8182cf93",
   "metadata": {
    "execution": {
     "iopub.execute_input": "2025-10-09T06:37:09.351300Z",
     "iopub.status.busy": "2025-10-09T06:37:09.350813Z",
     "iopub.status.idle": "2025-10-09T06:37:10.458917Z",
     "shell.execute_reply": "2025-10-09T06:37:10.457801Z"
    },
    "papermill": {
     "duration": 1.134091,
     "end_time": "2025-10-09T06:37:10.460643",
     "exception": false,
     "start_time": "2025-10-09T06:37:09.326552",
     "status": "completed"
    },
    "tags": []
   },
   "outputs": [],
   "source": [
    "from sklearn.model_selection import train_test_split\n",
    "\n",
    "X = train_df.drop('price', axis = 1)\n",
    "y = train_df.price\n",
    "\n",
    "X_train, X_test, y_train, y_test = train_test_split(X, y, test_size = 0.2, random_state = 42)\n",
    "\n",
    "from sklearn.preprocessing import StandardScaler, OneHotEncoder\n",
    "from sklearn.compose import ColumnTransformer\n",
    "\n",
    "scaler = StandardScaler()\n",
    "ohe = OneHotEncoder(drop = 'first', sparse_output=False)\n",
    "\n",
    "preprocessing = ColumnTransformer([\n",
    "    (\"OneHotEncoder\", ohe, X_train.select_dtypes(include = 'O').columns), \n",
    "    (\"StandardScaler\", scaler, X_train.select_dtypes(exclude = 'O').columns)\n",
    "])\n",
    "\n",
    "X_train_scaled = preprocessing.fit_transform(X_train)\n",
    "X_test_scaled = preprocessing.transform(X_test)"
   ]
  },
  {
   "cell_type": "code",
   "execution_count": 38,
   "id": "3424d607",
   "metadata": {
    "execution": {
     "iopub.execute_input": "2025-10-09T06:37:10.505274Z",
     "iopub.status.busy": "2025-10-09T06:37:10.504972Z",
     "iopub.status.idle": "2025-10-09T06:37:10.512389Z",
     "shell.execute_reply": "2025-10-09T06:37:10.511122Z"
    },
    "papermill": {
     "duration": 0.031968,
     "end_time": "2025-10-09T06:37:10.514677",
     "exception": false,
     "start_time": "2025-10-09T06:37:10.482709",
     "status": "completed"
    },
    "tags": []
   },
   "outputs": [
    {
     "data": {
      "text/plain": [
       "array([ 0.        ,  0.        ,  0.        ,  0.        ,  0.        ,\n",
       "        0.        ,  0.        ,  0.        ,  0.        ,  1.        ,\n",
       "        0.        ,  0.        ,  0.        ,  0.        ,  0.        ,\n",
       "        0.        ,  0.        ,  0.        ,  0.        ,  0.        ,\n",
       "        0.        ,  0.        ,  0.        ,  0.        ,  0.        ,\n",
       "        0.        ,  0.        ,  0.        ,  0.        ,  0.        ,\n",
       "        0.        ,  0.        ,  0.        ,  0.        ,  0.        ,\n",
       "        0.        ,  0.        ,  0.        ,  0.        ,  0.        ,\n",
       "        0.        ,  0.        ,  0.        ,  0.        ,  0.        ,\n",
       "        0.        ,  0.        ,  0.        ,  0.        ,  0.        ,\n",
       "        0.        ,  0.        ,  0.        ,  0.        ,  0.        ,\n",
       "        1.        ,  0.        ,  0.        ,  1.        ,  0.        ,\n",
       "        0.        ,  0.        ,  0.        ,  0.        ,  0.        ,\n",
       "        0.        ,  0.        ,  0.        ,  1.        ,  0.        ,\n",
       "        0.        ,  0.        ,  0.        ,  0.        ,  0.        ,\n",
       "        0.        ,  0.        ,  1.        , -1.21663662,  0.48780553,\n",
       "        0.80677126,  1.68412282,  1.05132456])"
      ]
     },
     "execution_count": 38,
     "metadata": {},
     "output_type": "execute_result"
    }
   ],
   "source": [
    "X_train_scaled[0]"
   ]
  },
  {
   "cell_type": "markdown",
   "id": "4bf3738e",
   "metadata": {
    "papermill": {
     "duration": 0.022449,
     "end_time": "2025-10-09T06:37:10.558838",
     "exception": false,
     "start_time": "2025-10-09T06:37:10.536389",
     "status": "completed"
    },
    "tags": []
   },
   "source": [
    "## Model Building"
   ]
  },
  {
   "cell_type": "code",
   "execution_count": 39,
   "id": "266047d3",
   "metadata": {
    "execution": {
     "iopub.execute_input": "2025-10-09T06:37:10.604867Z",
     "iopub.status.busy": "2025-10-09T06:37:10.604504Z",
     "iopub.status.idle": "2025-10-09T06:40:37.082898Z",
     "shell.execute_reply": "2025-10-09T06:40:37.082147Z"
    },
    "papermill": {
     "duration": 206.526386,
     "end_time": "2025-10-09T06:40:37.108006",
     "exception": false,
     "start_time": "2025-10-09T06:37:10.581620",
     "status": "completed"
    },
    "tags": []
   },
   "outputs": [
    {
     "data": {
      "text/html": [
       "<div>\n",
       "<style scoped>\n",
       "    .dataframe tbody tr th:only-of-type {\n",
       "        vertical-align: middle;\n",
       "    }\n",
       "\n",
       "    .dataframe tbody tr th {\n",
       "        vertical-align: top;\n",
       "    }\n",
       "\n",
       "    .dataframe thead th {\n",
       "        text-align: right;\n",
       "    }\n",
       "</style>\n",
       "<table border=\"1\" class=\"dataframe\">\n",
       "  <thead>\n",
       "    <tr style=\"text-align: right;\">\n",
       "      <th></th>\n",
       "      <th>name</th>\n",
       "      <th>r2</th>\n",
       "      <th>mse</th>\n",
       "      <th>mae</th>\n",
       "      <th>rmse</th>\n",
       "    </tr>\n",
       "  </thead>\n",
       "  <tbody>\n",
       "    <tr>\n",
       "      <th>0</th>\n",
       "      <td>Linear Regression</td>\n",
       "      <td>0.300405</td>\n",
       "      <td>1.303731e+09</td>\n",
       "      <td>17046.857285</td>\n",
       "      <td>36107.211787</td>\n",
       "    </tr>\n",
       "    <tr>\n",
       "      <th>1</th>\n",
       "      <td>Lasso</td>\n",
       "      <td>0.300335</td>\n",
       "      <td>1.303860e+09</td>\n",
       "      <td>17043.872998</td>\n",
       "      <td>36108.997976</td>\n",
       "    </tr>\n",
       "    <tr>\n",
       "      <th>2</th>\n",
       "      <td>Ridge</td>\n",
       "      <td>0.300400</td>\n",
       "      <td>1.303738e+09</td>\n",
       "      <td>17046.389528</td>\n",
       "      <td>36107.318729</td>\n",
       "    </tr>\n",
       "    <tr>\n",
       "      <th>3</th>\n",
       "      <td>LassoCV</td>\n",
       "      <td>0.297809</td>\n",
       "      <td>1.308568e+09</td>\n",
       "      <td>17070.412862</td>\n",
       "      <td>36174.132913</td>\n",
       "    </tr>\n",
       "    <tr>\n",
       "      <th>4</th>\n",
       "      <td>RidgeCV</td>\n",
       "      <td>0.300400</td>\n",
       "      <td>1.303738e+09</td>\n",
       "      <td>17046.389528</td>\n",
       "      <td>36107.318729</td>\n",
       "    </tr>\n",
       "    <tr>\n",
       "      <th>5</th>\n",
       "      <td>ElasticNet</td>\n",
       "      <td>0.270120</td>\n",
       "      <td>1.360168e+09</td>\n",
       "      <td>16959.302578</td>\n",
       "      <td>36880.460517</td>\n",
       "    </tr>\n",
       "    <tr>\n",
       "      <th>6</th>\n",
       "      <td>ElasticNetCV</td>\n",
       "      <td>0.052171</td>\n",
       "      <td>1.766326e+09</td>\n",
       "      <td>23004.686062</td>\n",
       "      <td>42027.684341</td>\n",
       "    </tr>\n",
       "    <tr>\n",
       "      <th>7</th>\n",
       "      <td>KNN</td>\n",
       "      <td>0.235480</td>\n",
       "      <td>1.424720e+09</td>\n",
       "      <td>16587.539972</td>\n",
       "      <td>37745.463609</td>\n",
       "    </tr>\n",
       "    <tr>\n",
       "      <th>8</th>\n",
       "      <td>DecisionTree</td>\n",
       "      <td>-0.328568</td>\n",
       "      <td>2.475851e+09</td>\n",
       "      <td>20734.193729</td>\n",
       "      <td>49757.928984</td>\n",
       "    </tr>\n",
       "    <tr>\n",
       "      <th>9</th>\n",
       "      <td>RandomForest</td>\n",
       "      <td>0.259119</td>\n",
       "      <td>1.380668e+09</td>\n",
       "      <td>15987.450844</td>\n",
       "      <td>37157.343579</td>\n",
       "    </tr>\n",
       "    <tr>\n",
       "      <th>10</th>\n",
       "      <td>AdaBoost</td>\n",
       "      <td>-0.007513</td>\n",
       "      <td>1.877550e+09</td>\n",
       "      <td>25831.073556</td>\n",
       "      <td>43330.702693</td>\n",
       "    </tr>\n",
       "    <tr>\n",
       "      <th>11</th>\n",
       "      <td>GradientBoost</td>\n",
       "      <td>0.357843</td>\n",
       "      <td>1.196691e+09</td>\n",
       "      <td>14637.822370</td>\n",
       "      <td>34593.225294</td>\n",
       "    </tr>\n",
       "    <tr>\n",
       "      <th>12</th>\n",
       "      <td>XGB</td>\n",
       "      <td>0.336334</td>\n",
       "      <td>1.236774e+09</td>\n",
       "      <td>14772.267227</td>\n",
       "      <td>35167.795984</td>\n",
       "    </tr>\n",
       "  </tbody>\n",
       "</table>\n",
       "</div>"
      ],
      "text/plain": [
       "                 name        r2           mse           mae          rmse\n",
       "0   Linear Regression  0.300405  1.303731e+09  17046.857285  36107.211787\n",
       "1               Lasso  0.300335  1.303860e+09  17043.872998  36108.997976\n",
       "2               Ridge  0.300400  1.303738e+09  17046.389528  36107.318729\n",
       "3             LassoCV  0.297809  1.308568e+09  17070.412862  36174.132913\n",
       "4             RidgeCV  0.300400  1.303738e+09  17046.389528  36107.318729\n",
       "5          ElasticNet  0.270120  1.360168e+09  16959.302578  36880.460517\n",
       "6        ElasticNetCV  0.052171  1.766326e+09  23004.686062  42027.684341\n",
       "7                 KNN  0.235480  1.424720e+09  16587.539972  37745.463609\n",
       "8        DecisionTree -0.328568  2.475851e+09  20734.193729  49757.928984\n",
       "9        RandomForest  0.259119  1.380668e+09  15987.450844  37157.343579\n",
       "10           AdaBoost -0.007513  1.877550e+09  25831.073556  43330.702693\n",
       "11      GradientBoost  0.357843  1.196691e+09  14637.822370  34593.225294\n",
       "12                XGB  0.336334  1.236774e+09  14772.267227  35167.795984"
      ]
     },
     "execution_count": 39,
     "metadata": {},
     "output_type": "execute_result"
    }
   ],
   "source": [
    "from sklearn.linear_model import LinearRegression, Lasso, Ridge, LassoCV, RidgeCV, ElasticNet, ElasticNetCV\n",
    "from sklearn.tree import DecisionTreeRegressor\n",
    "from sklearn.ensemble import RandomForestRegressor, AdaBoostRegressor, GradientBoostingRegressor\n",
    "from xgboost import XGBRegressor\n",
    "from sklearn.neighbors import KNeighborsRegressor\n",
    "\n",
    "from sklearn.metrics import r2_score, mean_squared_error, mean_absolute_error\n",
    "\n",
    "models = {\n",
    "    \"Linear Regression\": LinearRegression(),\n",
    "    \"Lasso\": Lasso(),\n",
    "    \"Ridge\": Ridge(),\n",
    "    \"LassoCV\": LassoCV(),\n",
    "    \"RidgeCV\": RidgeCV(),\n",
    "    \"ElasticNet\": ElasticNet(),\n",
    "    \"ElasticNetCV\": ElasticNetCV(),\n",
    "    \"KNN\": KNeighborsRegressor(),\n",
    "    \"DecisionTree\": DecisionTreeRegressor(),\n",
    "    \"RandomForest\": RandomForestRegressor(),\n",
    "    \"AdaBoost\": AdaBoostRegressor(),\n",
    "    \"GradientBoost\": GradientBoostingRegressor(),\n",
    "    \"XGB\": XGBRegressor()\n",
    "}\n",
    "\n",
    "result_list = []\n",
    "for model_name, model in models.items():\n",
    "    model.fit(X_train_scaled, y_train)\n",
    "    y_pred = model.predict(X_test_scaled)\n",
    "\n",
    "    r_score = r2_score(y_test, y_pred)\n",
    "    mse = mean_squared_error(y_test, y_pred)\n",
    "    mae = mean_absolute_error(y_test, y_pred)\n",
    "    rmse = np.sqrt(mse)\n",
    "\n",
    "    result_dict= {\n",
    "        \"name\" : model_name,\n",
    "        \"r2\" : r_score,\n",
    "        \"mse\": mse,\n",
    "        \"mae\" : mae,\n",
    "        \"rmse\" : rmse\n",
    "    }\n",
    "    result_list.append(result_dict)\n",
    "\n",
    "metric_df = pd.DataFrame(result_list)\n",
    "metric_df"
   ]
  },
  {
   "cell_type": "code",
   "execution_count": 40,
   "id": "061e4ac4",
   "metadata": {
    "execution": {
     "iopub.execute_input": "2025-10-09T06:40:37.150994Z",
     "iopub.status.busy": "2025-10-09T06:40:37.150616Z",
     "iopub.status.idle": "2025-10-09T06:40:37.165649Z",
     "shell.execute_reply": "2025-10-09T06:40:37.164684Z"
    },
    "papermill": {
     "duration": 0.038123,
     "end_time": "2025-10-09T06:40:37.167258",
     "exception": false,
     "start_time": "2025-10-09T06:40:37.129135",
     "status": "completed"
    },
    "tags": []
   },
   "outputs": [
    {
     "data": {
      "text/html": [
       "<div>\n",
       "<style scoped>\n",
       "    .dataframe tbody tr th:only-of-type {\n",
       "        vertical-align: middle;\n",
       "    }\n",
       "\n",
       "    .dataframe tbody tr th {\n",
       "        vertical-align: top;\n",
       "    }\n",
       "\n",
       "    .dataframe thead th {\n",
       "        text-align: right;\n",
       "    }\n",
       "</style>\n",
       "<table border=\"1\" class=\"dataframe\">\n",
       "  <thead>\n",
       "    <tr style=\"text-align: right;\">\n",
       "      <th></th>\n",
       "      <th>name</th>\n",
       "      <th>r2</th>\n",
       "      <th>mse</th>\n",
       "      <th>mae</th>\n",
       "      <th>rmse</th>\n",
       "    </tr>\n",
       "  </thead>\n",
       "  <tbody>\n",
       "    <tr>\n",
       "      <th>11</th>\n",
       "      <td>GradientBoost</td>\n",
       "      <td>0.357843</td>\n",
       "      <td>1.196691e+09</td>\n",
       "      <td>14637.822370</td>\n",
       "      <td>34593.225294</td>\n",
       "    </tr>\n",
       "    <tr>\n",
       "      <th>12</th>\n",
       "      <td>XGB</td>\n",
       "      <td>0.336334</td>\n",
       "      <td>1.236774e+09</td>\n",
       "      <td>14772.267227</td>\n",
       "      <td>35167.795984</td>\n",
       "    </tr>\n",
       "    <tr>\n",
       "      <th>0</th>\n",
       "      <td>Linear Regression</td>\n",
       "      <td>0.300405</td>\n",
       "      <td>1.303731e+09</td>\n",
       "      <td>17046.857285</td>\n",
       "      <td>36107.211787</td>\n",
       "    </tr>\n",
       "    <tr>\n",
       "      <th>4</th>\n",
       "      <td>RidgeCV</td>\n",
       "      <td>0.300400</td>\n",
       "      <td>1.303738e+09</td>\n",
       "      <td>17046.389528</td>\n",
       "      <td>36107.318729</td>\n",
       "    </tr>\n",
       "    <tr>\n",
       "      <th>2</th>\n",
       "      <td>Ridge</td>\n",
       "      <td>0.300400</td>\n",
       "      <td>1.303738e+09</td>\n",
       "      <td>17046.389528</td>\n",
       "      <td>36107.318729</td>\n",
       "    </tr>\n",
       "    <tr>\n",
       "      <th>1</th>\n",
       "      <td>Lasso</td>\n",
       "      <td>0.300335</td>\n",
       "      <td>1.303860e+09</td>\n",
       "      <td>17043.872998</td>\n",
       "      <td>36108.997976</td>\n",
       "    </tr>\n",
       "    <tr>\n",
       "      <th>3</th>\n",
       "      <td>LassoCV</td>\n",
       "      <td>0.297809</td>\n",
       "      <td>1.308568e+09</td>\n",
       "      <td>17070.412862</td>\n",
       "      <td>36174.132913</td>\n",
       "    </tr>\n",
       "    <tr>\n",
       "      <th>5</th>\n",
       "      <td>ElasticNet</td>\n",
       "      <td>0.270120</td>\n",
       "      <td>1.360168e+09</td>\n",
       "      <td>16959.302578</td>\n",
       "      <td>36880.460517</td>\n",
       "    </tr>\n",
       "    <tr>\n",
       "      <th>9</th>\n",
       "      <td>RandomForest</td>\n",
       "      <td>0.259119</td>\n",
       "      <td>1.380668e+09</td>\n",
       "      <td>15987.450844</td>\n",
       "      <td>37157.343579</td>\n",
       "    </tr>\n",
       "    <tr>\n",
       "      <th>7</th>\n",
       "      <td>KNN</td>\n",
       "      <td>0.235480</td>\n",
       "      <td>1.424720e+09</td>\n",
       "      <td>16587.539972</td>\n",
       "      <td>37745.463609</td>\n",
       "    </tr>\n",
       "    <tr>\n",
       "      <th>6</th>\n",
       "      <td>ElasticNetCV</td>\n",
       "      <td>0.052171</td>\n",
       "      <td>1.766326e+09</td>\n",
       "      <td>23004.686062</td>\n",
       "      <td>42027.684341</td>\n",
       "    </tr>\n",
       "    <tr>\n",
       "      <th>10</th>\n",
       "      <td>AdaBoost</td>\n",
       "      <td>-0.007513</td>\n",
       "      <td>1.877550e+09</td>\n",
       "      <td>25831.073556</td>\n",
       "      <td>43330.702693</td>\n",
       "    </tr>\n",
       "    <tr>\n",
       "      <th>8</th>\n",
       "      <td>DecisionTree</td>\n",
       "      <td>-0.328568</td>\n",
       "      <td>2.475851e+09</td>\n",
       "      <td>20734.193729</td>\n",
       "      <td>49757.928984</td>\n",
       "    </tr>\n",
       "  </tbody>\n",
       "</table>\n",
       "</div>"
      ],
      "text/plain": [
       "                 name        r2           mse           mae          rmse\n",
       "11      GradientBoost  0.357843  1.196691e+09  14637.822370  34593.225294\n",
       "12                XGB  0.336334  1.236774e+09  14772.267227  35167.795984\n",
       "0   Linear Regression  0.300405  1.303731e+09  17046.857285  36107.211787\n",
       "4             RidgeCV  0.300400  1.303738e+09  17046.389528  36107.318729\n",
       "2               Ridge  0.300400  1.303738e+09  17046.389528  36107.318729\n",
       "1               Lasso  0.300335  1.303860e+09  17043.872998  36108.997976\n",
       "3             LassoCV  0.297809  1.308568e+09  17070.412862  36174.132913\n",
       "5          ElasticNet  0.270120  1.360168e+09  16959.302578  36880.460517\n",
       "9        RandomForest  0.259119  1.380668e+09  15987.450844  37157.343579\n",
       "7                 KNN  0.235480  1.424720e+09  16587.539972  37745.463609\n",
       "6        ElasticNetCV  0.052171  1.766326e+09  23004.686062  42027.684341\n",
       "10           AdaBoost -0.007513  1.877550e+09  25831.073556  43330.702693\n",
       "8        DecisionTree -0.328568  2.475851e+09  20734.193729  49757.928984"
      ]
     },
     "execution_count": 40,
     "metadata": {},
     "output_type": "execute_result"
    }
   ],
   "source": [
    "metric_df.sort_values(['r2', 'mse', 'rmse'], ascending = False)"
   ]
  },
  {
   "cell_type": "markdown",
   "id": "7893c6bd",
   "metadata": {
    "papermill": {
     "duration": 0.020911,
     "end_time": "2025-10-09T06:40:37.209320",
     "exception": false,
     "start_time": "2025-10-09T06:40:37.188409",
     "status": "completed"
    },
    "tags": []
   },
   "source": [
    "\n",
    "## Hyperparameter Tuning of the model"
   ]
  },
  {
   "cell_type": "code",
   "execution_count": 41,
   "id": "5081b9a7",
   "metadata": {
    "execution": {
     "iopub.execute_input": "2025-10-09T06:40:37.253356Z",
     "iopub.status.busy": "2025-10-09T06:40:37.252332Z",
     "iopub.status.idle": "2025-10-09T08:18:11.105436Z",
     "shell.execute_reply": "2025-10-09T08:18:11.104258Z"
    },
    "papermill": {
     "duration": 5853.901773,
     "end_time": "2025-10-09T08:18:11.132220",
     "exception": false,
     "start_time": "2025-10-09T06:40:37.230447",
     "status": "completed"
    },
    "tags": []
   },
   "outputs": [
    {
     "name": "stdout",
     "output_type": "stream",
     "text": [
      "Fitting 5 folds for each of 64 candidates, totalling 320 fits\n",
      "[CV] END learning_rate=0.05, max_depth=3, max_features=None, min_samples_leaf=1, min_samples_split=2, n_estimators=100; total time= 1.2min\n",
      "[CV] END learning_rate=0.05, max_depth=3, max_features=None, min_samples_leaf=1, min_samples_split=2, n_estimators=200; total time= 2.4min\n",
      "[CV] END learning_rate=0.05, max_depth=3, max_features=None, min_samples_leaf=1, min_samples_split=5, n_estimators=100; total time= 1.2min\n",
      "[CV] END learning_rate=0.05, max_depth=3, max_features=None, min_samples_leaf=1, min_samples_split=5, n_estimators=100; total time= 1.2min\n",
      "[CV] END learning_rate=0.05, max_depth=3, max_features=None, min_samples_leaf=1, min_samples_split=5, n_estimators=200; total time= 2.4min\n",
      "[CV] END learning_rate=0.05, max_depth=3, max_features=None, min_samples_leaf=3, min_samples_split=2, n_estimators=100; total time= 1.2min\n",
      "[CV] END learning_rate=0.05, max_depth=3, max_features=None, min_samples_leaf=3, min_samples_split=2, n_estimators=100; total time= 1.2min\n",
      "[CV] END learning_rate=0.05, max_depth=3, max_features=None, min_samples_leaf=3, min_samples_split=2, n_estimators=200; total time= 2.4min\n",
      "[CV] END learning_rate=0.05, max_depth=3, max_features=None, min_samples_leaf=3, min_samples_split=5, n_estimators=100; total time= 1.2min\n",
      "[CV] END learning_rate=0.05, max_depth=3, max_features=None, min_samples_leaf=3, min_samples_split=5, n_estimators=100; total time= 1.2min\n",
      "[CV] END learning_rate=0.05, max_depth=3, max_features=None, min_samples_leaf=3, min_samples_split=5, n_estimators=200; total time= 2.4min\n",
      "[CV] END learning_rate=0.05, max_depth=3, max_features=sqrt, min_samples_leaf=1, min_samples_split=2, n_estimators=200; total time=  20.2s\n",
      "[CV] END learning_rate=0.05, max_depth=3, max_features=sqrt, min_samples_leaf=1, min_samples_split=2, n_estimators=200; total time=  20.1s\n",
      "[CV] END learning_rate=0.05, max_depth=3, max_features=sqrt, min_samples_leaf=1, min_samples_split=5, n_estimators=100; total time=  10.0s\n",
      "[CV] END learning_rate=0.05, max_depth=3, max_features=sqrt, min_samples_leaf=1, min_samples_split=5, n_estimators=200; total time=  20.2s\n",
      "[CV] END learning_rate=0.05, max_depth=3, max_features=sqrt, min_samples_leaf=3, min_samples_split=2, n_estimators=100; total time=  10.3s\n",
      "[CV] END learning_rate=0.05, max_depth=3, max_features=sqrt, min_samples_leaf=3, min_samples_split=2, n_estimators=100; total time=  11.4s\n",
      "[CV] END learning_rate=0.05, max_depth=3, max_features=sqrt, min_samples_leaf=3, min_samples_split=2, n_estimators=200; total time=  20.2s\n",
      "[CV] END learning_rate=0.05, max_depth=3, max_features=sqrt, min_samples_leaf=3, min_samples_split=5, n_estimators=100; total time=  10.1s\n",
      "[CV] END learning_rate=0.05, max_depth=3, max_features=sqrt, min_samples_leaf=3, min_samples_split=5, n_estimators=100; total time=  10.6s\n",
      "[CV] END learning_rate=0.05, max_depth=3, max_features=sqrt, min_samples_leaf=3, min_samples_split=5, n_estimators=200; total time=  22.1s\n",
      "[CV] END learning_rate=0.05, max_depth=4, max_features=None, min_samples_leaf=1, min_samples_split=2, n_estimators=100; total time= 1.6min\n",
      "[CV] END learning_rate=0.05, max_depth=4, max_features=None, min_samples_leaf=1, min_samples_split=2, n_estimators=200; total time= 3.2min\n",
      "[CV] END learning_rate=0.05, max_depth=4, max_features=None, min_samples_leaf=1, min_samples_split=5, n_estimators=100; total time= 1.6min\n",
      "[CV] END learning_rate=0.05, max_depth=4, max_features=None, min_samples_leaf=1, min_samples_split=5, n_estimators=100; total time= 1.5min\n",
      "[CV] END learning_rate=0.05, max_depth=4, max_features=None, min_samples_leaf=1, min_samples_split=5, n_estimators=200; total time= 3.0min\n",
      "[CV] END learning_rate=0.05, max_depth=4, max_features=None, min_samples_leaf=3, min_samples_split=2, n_estimators=100; total time= 1.5min\n",
      "[CV] END learning_rate=0.05, max_depth=4, max_features=None, min_samples_leaf=3, min_samples_split=2, n_estimators=100; total time= 1.5min\n",
      "[CV] END learning_rate=0.05, max_depth=4, max_features=None, min_samples_leaf=3, min_samples_split=2, n_estimators=200; total time= 3.0min\n",
      "[CV] END learning_rate=0.05, max_depth=4, max_features=None, min_samples_leaf=3, min_samples_split=5, n_estimators=100; total time= 1.5min\n",
      "[CV] END learning_rate=0.05, max_depth=4, max_features=None, min_samples_leaf=3, min_samples_split=5, n_estimators=100; total time= 1.5min\n",
      "[CV] END learning_rate=0.05, max_depth=4, max_features=None, min_samples_leaf=3, min_samples_split=5, n_estimators=200; total time= 3.0min\n",
      "[CV] END learning_rate=0.05, max_depth=4, max_features=sqrt, min_samples_leaf=1, min_samples_split=2, n_estimators=200; total time=  27.2s\n",
      "[CV] END learning_rate=0.05, max_depth=4, max_features=sqrt, min_samples_leaf=1, min_samples_split=2, n_estimators=200; total time=  27.3s\n",
      "[CV] END learning_rate=0.05, max_depth=4, max_features=sqrt, min_samples_leaf=1, min_samples_split=5, n_estimators=100; total time=  13.6s\n",
      "[CV] END learning_rate=0.05, max_depth=4, max_features=sqrt, min_samples_leaf=1, min_samples_split=5, n_estimators=200; total time=  27.1s\n",
      "[CV] END learning_rate=0.05, max_depth=4, max_features=sqrt, min_samples_leaf=1, min_samples_split=5, n_estimators=200; total time=  25.9s\n",
      "[CV] END learning_rate=0.05, max_depth=4, max_features=sqrt, min_samples_leaf=3, min_samples_split=2, n_estimators=200; total time=  26.0s\n",
      "[CV] END learning_rate=0.05, max_depth=4, max_features=sqrt, min_samples_leaf=3, min_samples_split=2, n_estimators=200; total time=  26.1s\n",
      "[CV] END learning_rate=0.05, max_depth=4, max_features=sqrt, min_samples_leaf=3, min_samples_split=5, n_estimators=200; total time=  25.6s\n",
      "[CV] END learning_rate=0.1, max_depth=3, max_features=None, min_samples_leaf=1, min_samples_split=2, n_estimators=100; total time= 1.2min\n",
      "[CV] END learning_rate=0.1, max_depth=3, max_features=None, min_samples_leaf=1, min_samples_split=2, n_estimators=100; total time= 1.2min\n",
      "[CV] END learning_rate=0.1, max_depth=3, max_features=None, min_samples_leaf=1, min_samples_split=2, n_estimators=200; total time= 2.5min\n",
      "[CV] END learning_rate=0.1, max_depth=3, max_features=None, min_samples_leaf=1, min_samples_split=5, n_estimators=100; total time= 1.2min\n",
      "[CV] END learning_rate=0.1, max_depth=3, max_features=None, min_samples_leaf=1, min_samples_split=5, n_estimators=200; total time= 2.4min\n",
      "[CV] END learning_rate=0.1, max_depth=3, max_features=None, min_samples_leaf=1, min_samples_split=5, n_estimators=200; total time= 2.4min\n",
      "[CV] END learning_rate=0.1, max_depth=3, max_features=None, min_samples_leaf=3, min_samples_split=2, n_estimators=200; total time= 2.4min\n",
      "[CV] END learning_rate=0.1, max_depth=3, max_features=None, min_samples_leaf=3, min_samples_split=5, n_estimators=100; total time= 1.2min\n",
      "[CV] END learning_rate=0.1, max_depth=3, max_features=None, min_samples_leaf=3, min_samples_split=5, n_estimators=100; total time= 1.2min\n",
      "[CV] END learning_rate=0.1, max_depth=3, max_features=None, min_samples_leaf=3, min_samples_split=5, n_estimators=200; total time= 2.5min\n",
      "[CV] END learning_rate=0.1, max_depth=3, max_features=sqrt, min_samples_leaf=1, min_samples_split=2, n_estimators=100; total time=  10.8s\n",
      "[CV] END learning_rate=0.1, max_depth=3, max_features=sqrt, min_samples_leaf=1, min_samples_split=2, n_estimators=200; total time=  21.4s\n",
      "[CV] END learning_rate=0.1, max_depth=3, max_features=sqrt, min_samples_leaf=1, min_samples_split=5, n_estimators=100; total time=  10.6s\n",
      "[CV] END learning_rate=0.1, max_depth=3, max_features=sqrt, min_samples_leaf=1, min_samples_split=5, n_estimators=100; total time=  11.5s\n",
      "[CV] END learning_rate=0.1, max_depth=3, max_features=sqrt, min_samples_leaf=1, min_samples_split=5, n_estimators=100; total time=  10.9s\n",
      "[CV] END learning_rate=0.1, max_depth=3, max_features=sqrt, min_samples_leaf=1, min_samples_split=5, n_estimators=200; total time=  22.6s\n",
      "[CV] END learning_rate=0.1, max_depth=3, max_features=sqrt, min_samples_leaf=3, min_samples_split=2, n_estimators=100; total time=  10.8s\n",
      "[CV] END learning_rate=0.1, max_depth=3, max_features=sqrt, min_samples_leaf=3, min_samples_split=2, n_estimators=100; total time=  11.0s\n",
      "[CV] END learning_rate=0.1, max_depth=3, max_features=sqrt, min_samples_leaf=3, min_samples_split=2, n_estimators=200; total time=  21.2s\n",
      "[CV] END learning_rate=0.1, max_depth=3, max_features=sqrt, min_samples_leaf=3, min_samples_split=5, n_estimators=100; total time=  11.2s[CV] END learning_rate=0.05, max_depth=3, max_features=None, min_samples_leaf=1, min_samples_split=2, n_estimators=100; total time= 1.2min\n",
      "[CV] END learning_rate=0.05, max_depth=3, max_features=None, min_samples_leaf=1, min_samples_split=2, n_estimators=200; total time= 2.4min\n",
      "[CV] END learning_rate=0.05, max_depth=3, max_features=None, min_samples_leaf=1, min_samples_split=5, n_estimators=100; total time= 1.2min\n",
      "[CV] END learning_rate=0.05, max_depth=3, max_features=None, min_samples_leaf=1, min_samples_split=5, n_estimators=100; total time= 1.2min\n",
      "[CV] END learning_rate=0.05, max_depth=3, max_features=None, min_samples_leaf=1, min_samples_split=5, n_estimators=200; total time= 2.4min\n",
      "[CV] END learning_rate=0.05, max_depth=3, max_features=None, min_samples_leaf=3, min_samples_split=2, n_estimators=100; total time= 1.2min\n",
      "[CV] END learning_rate=0.05, max_depth=3, max_features=None, min_samples_leaf=3, min_samples_split=2, n_estimators=200; total time= 2.5min\n",
      "[CV] END learning_rate=0.05, max_depth=3, max_features=None, min_samples_leaf=3, min_samples_split=2, n_estimators=200; total time= 2.4min\n",
      "[CV] END learning_rate=0.05, max_depth=3, max_features=None, min_samples_leaf=3, min_samples_split=5, n_estimators=200; total time= 2.5min\n",
      "[CV] END learning_rate=0.05, max_depth=3, max_features=sqrt, min_samples_leaf=1, min_samples_split=2, n_estimators=100; total time=  10.2s\n",
      "[CV] END learning_rate=0.05, max_depth=3, max_features=sqrt, min_samples_leaf=1, min_samples_split=2, n_estimators=100; total time=  10.7s\n",
      "[CV] END learning_rate=0.05, max_depth=3, max_features=sqrt, min_samples_leaf=1, min_samples_split=2, n_estimators=100; total time=  10.3s\n",
      "[CV] END learning_rate=0.05, max_depth=3, max_features=sqrt, min_samples_leaf=1, min_samples_split=2, n_estimators=100; total time=  10.3s\n",
      "[CV] END learning_rate=0.05, max_depth=3, max_features=sqrt, min_samples_leaf=1, min_samples_split=2, n_estimators=100; total time=  10.6s\n",
      "[CV] END learning_rate=0.05, max_depth=3, max_features=sqrt, min_samples_leaf=1, min_samples_split=2, n_estimators=200; total time=  20.7s\n",
      "[CV] END learning_rate=0.05, max_depth=3, max_features=sqrt, min_samples_leaf=1, min_samples_split=2, n_estimators=200; total time=  21.2s\n",
      "[CV] END learning_rate=0.05, max_depth=3, max_features=sqrt, min_samples_leaf=1, min_samples_split=5, n_estimators=100; total time=  10.2s\n",
      "[CV] END learning_rate=0.05, max_depth=3, max_features=sqrt, min_samples_leaf=1, min_samples_split=5, n_estimators=100; total time=  10.7s\n",
      "[CV] END learning_rate=0.05, max_depth=3, max_features=sqrt, min_samples_leaf=1, min_samples_split=5, n_estimators=200; total time=  20.5s\n",
      "[CV] END learning_rate=0.05, max_depth=3, max_features=sqrt, min_samples_leaf=1, min_samples_split=5, n_estimators=200; total time=  21.2s\n",
      "[CV] END learning_rate=0.05, max_depth=3, max_features=sqrt, min_samples_leaf=3, min_samples_split=2, n_estimators=200; total time=  20.1s\n",
      "[CV] END learning_rate=0.05, max_depth=3, max_features=sqrt, min_samples_leaf=3, min_samples_split=2, n_estimators=200; total time=  20.3s\n",
      "[CV] END learning_rate=0.05, max_depth=3, max_features=sqrt, min_samples_leaf=3, min_samples_split=5, n_estimators=200; total time=  22.1s\n",
      "[CV] END learning_rate=0.05, max_depth=4, max_features=None, min_samples_leaf=1, min_samples_split=2, n_estimators=100; total time= 1.6min\n",
      "[CV] END learning_rate=0.05, max_depth=4, max_features=None, min_samples_leaf=1, min_samples_split=2, n_estimators=100; total time= 1.6min\n",
      "[CV] END learning_rate=0.05, max_depth=4, max_features=None, min_samples_leaf=1, min_samples_split=2, n_estimators=200; total time= 3.3min\n",
      "[CV] END learning_rate=0.05, max_depth=4, max_features=None, min_samples_leaf=1, min_samples_split=5, n_estimators=100; total time= 1.5min\n",
      "[CV] END learning_rate=0.05, max_depth=4, max_features=None, min_samples_leaf=1, min_samples_split=5, n_estimators=200; total time= 3.0min\n",
      "[CV] END learning_rate=0.05, max_depth=4, max_features=None, min_samples_leaf=1, min_samples_split=5, n_estimators=200; total time= 3.1min\n",
      "[CV] END learning_rate=0.05, max_depth=4, max_features=None, min_samples_leaf=3, min_samples_split=2, n_estimators=200; total time= 3.0min\n",
      "[CV] END learning_rate=0.05, max_depth=4, max_features=None, min_samples_leaf=3, min_samples_split=5, n_estimators=100; total time= 1.5min\n",
      "[CV] END learning_rate=0.05, max_depth=4, max_features=None, min_samples_leaf=3, min_samples_split=5, n_estimators=100; total time= 1.5min\n",
      "[CV] END learning_rate=0.05, max_depth=4, max_features=None, min_samples_leaf=3, min_samples_split=5, n_estimators=200; total time= 3.0min\n",
      "[CV] END learning_rate=0.05, max_depth=4, max_features=sqrt, min_samples_leaf=1, min_samples_split=2, n_estimators=200; total time=  26.3s\n",
      "[CV] END learning_rate=0.05, max_depth=4, max_features=sqrt, min_samples_leaf=1, min_samples_split=2, n_estimators=200; total time=  26.1s\n",
      "[CV] END learning_rate=0.05, max_depth=4, max_features=sqrt, min_samples_leaf=1, min_samples_split=5, n_estimators=100; total time=  12.7s\n",
      "[CV] END learning_rate=0.05, max_depth=4, max_features=sqrt, min_samples_leaf=1, min_samples_split=5, n_estimators=200; total time=  25.9s\n",
      "[CV] END learning_rate=0.05, max_depth=4, max_features=sqrt, min_samples_leaf=3, min_samples_split=2, n_estimators=100; total time=  13.2s\n",
      "[CV] END learning_rate=0.05, max_depth=4, max_features=sqrt, min_samples_leaf=3, min_samples_split=2, n_estimators=100; total time=  13.0s\n",
      "[CV] END learning_rate=0.05, max_depth=4, max_features=sqrt, min_samples_leaf=3, min_samples_split=2, n_estimators=200; total time=  26.1s\n",
      "[CV] END learning_rate=0.05, max_depth=4, max_features=sqrt, min_samples_leaf=3, min_samples_split=5, n_estimators=100; total time=  13.1s\n",
      "[CV] END learning_rate=0.05, max_depth=4, max_features=sqrt, min_samples_leaf=3, min_samples_split=5, n_estimators=100; total time=  13.2s\n",
      "[CV] END learning_rate=0.05, max_depth=4, max_features=sqrt, min_samples_leaf=3, min_samples_split=5, n_estimators=200; total time=  26.5s\n",
      "[CV] END learning_rate=0.1, max_depth=3, max_features=None, min_samples_leaf=1, min_samples_split=2, n_estimators=100; total time= 1.2min\n",
      "[CV] END learning_rate=0.1, max_depth=3, max_features=None, min_samples_leaf=1, min_samples_split=2, n_estimators=200; total time= 2.4min\n",
      "[CV] END learning_rate=0.1, max_depth=3, max_features=None, min_samples_leaf=1, min_samples_split=2, n_estimators=200; total time= 2.5min\n",
      "[CV] END learning_rate=0.1, max_depth=3, max_features=None, min_samples_leaf=1, min_samples_split=5, n_estimators=200; total time= 2.4min\n",
      "[CV] END learning_rate=0.1, max_depth=3, max_features=None, min_samples_leaf=3, min_samples_split=2, n_estimators=100; total time= 1.2min\n",
      "[CV] END learning_rate=0.1, max_depth=3, max_features=None, min_samples_leaf=3, min_samples_split=2, n_estimators=100; total time= 1.2min\n",
      "[CV] END learning_rate=0.1, max_depth=3, max_features=None, min_samples_leaf=3, min_samples_split=2, n_estimators=200; total time= 2.4min\n",
      "[CV] END learning_rate=0.1, max_depth=3, max_features=None, min_samples_leaf=3, min_samples_split=5, n_estimators=100; total time= 1.2min\n",
      "[CV] END learning_rate=0.1, max_depth=3, max_features=None, min_samples_leaf=3, min_samples_split=5, n_estimators=100; total time= 1.2min\n",
      "[CV] END learning_rate=0.1, max_depth=3, max_features=None, min_samples_leaf=3, min_samples_split=5, n_estimators=200; total time= 2.5min\n",
      "[CV] END learning_rate=0.1, max_depth=3, max_features=sqrt, min_samples_leaf=1, min_samples_split=2, n_estimators=200; total time=  21.2s\n",
      "[CV] END learning_rate=0.1, max_depth=3, max_features=sqrt, min_samples_leaf=1, min_samples_split=2, n_estimators=200; total time=  22.1s\n",
      "[CV] END learning_rate=0.1, max_depth=3, max_features=sqrt, min_samples_leaf=1, min_samples_split=5, n_estimators=100; total time=  11.0s\n",
      "[CV] END learning_rate=0.1, max_depth=3, max_features=sqrt, min_samples_leaf=1, min_samples_split=5, n_estimators=200; total time=  21.8s\n",
      "[CV] END learning_rate=0.1, max_depth=3, max_features=sqrt, min_samples_leaf=1, min_samples_split=5, n_estimators=200; total time=  22.2s\n",
      "[CV] END learning_rate=0.1, max_depth=3, max_features=sqrt, min_samples_leaf=3, min_samples_split=2, n_estimators=200; total time=  21.1s\n",
      "[CV] END learning_rate=0.1, max_depth=3, max_features=sqrt, min_samples_leaf=3, min_samples_split=2, n_estimators=200; total time=  22.2s[CV] END learning_rate=0.05, max_depth=3, max_features=None, min_samples_leaf=1, min_samples_split=2, n_estimators=100; total time= 1.2min\n",
      "[CV] END learning_rate=0.05, max_depth=3, max_features=None, min_samples_leaf=1, min_samples_split=2, n_estimators=200; total time= 2.4min\n",
      "[CV] END learning_rate=0.05, max_depth=3, max_features=None, min_samples_leaf=1, min_samples_split=2, n_estimators=200; total time= 2.4min\n",
      "[CV] END learning_rate=0.05, max_depth=3, max_features=None, min_samples_leaf=1, min_samples_split=5, n_estimators=200; total time= 2.3min\n",
      "[CV] END learning_rate=0.05, max_depth=3, max_features=None, min_samples_leaf=1, min_samples_split=5, n_estimators=200; total time= 2.4min\n",
      "[CV] END learning_rate=0.05, max_depth=3, max_features=None, min_samples_leaf=3, min_samples_split=2, n_estimators=200; total time= 2.4min\n",
      "[CV] END learning_rate=0.05, max_depth=3, max_features=None, min_samples_leaf=3, min_samples_split=5, n_estimators=100; total time= 1.2min\n",
      "[CV] END learning_rate=0.05, max_depth=3, max_features=None, min_samples_leaf=3, min_samples_split=5, n_estimators=100; total time= 1.2min\n",
      "[CV] END learning_rate=0.05, max_depth=3, max_features=None, min_samples_leaf=3, min_samples_split=5, n_estimators=200; total time= 2.4min\n",
      "[CV] END learning_rate=0.05, max_depth=3, max_features=sqrt, min_samples_leaf=1, min_samples_split=2, n_estimators=200; total time=  20.1s\n",
      "[CV] END learning_rate=0.05, max_depth=3, max_features=sqrt, min_samples_leaf=1, min_samples_split=5, n_estimators=100; total time=  10.1s\n",
      "[CV] END learning_rate=0.05, max_depth=3, max_features=sqrt, min_samples_leaf=1, min_samples_split=5, n_estimators=100; total time=  10.0s\n",
      "[CV] END learning_rate=0.05, max_depth=3, max_features=sqrt, min_samples_leaf=1, min_samples_split=5, n_estimators=200; total time=  19.7s\n",
      "[CV] END learning_rate=0.05, max_depth=3, max_features=sqrt, min_samples_leaf=1, min_samples_split=5, n_estimators=200; total time=  20.5s\n",
      "[CV] END learning_rate=0.05, max_depth=3, max_features=sqrt, min_samples_leaf=3, min_samples_split=2, n_estimators=100; total time=  11.7s\n",
      "[CV] END learning_rate=0.05, max_depth=3, max_features=sqrt, min_samples_leaf=3, min_samples_split=2, n_estimators=200; total time=  20.2s\n",
      "[CV] END learning_rate=0.05, max_depth=3, max_features=sqrt, min_samples_leaf=3, min_samples_split=5, n_estimators=100; total time=  10.4s\n",
      "[CV] END learning_rate=0.05, max_depth=3, max_features=sqrt, min_samples_leaf=3, min_samples_split=5, n_estimators=200; total time=  21.5s\n",
      "[CV] END learning_rate=0.05, max_depth=3, max_features=sqrt, min_samples_leaf=3, min_samples_split=5, n_estimators=200; total time=  22.6s\n",
      "[CV] END learning_rate=0.05, max_depth=4, max_features=None, min_samples_leaf=1, min_samples_split=2, n_estimators=100; total time= 1.6min\n",
      "[CV] END learning_rate=0.05, max_depth=4, max_features=None, min_samples_leaf=1, min_samples_split=2, n_estimators=200; total time= 3.2min\n",
      "[CV] END learning_rate=0.05, max_depth=4, max_features=None, min_samples_leaf=1, min_samples_split=5, n_estimators=100; total time= 1.6min\n",
      "[CV] END learning_rate=0.05, max_depth=4, max_features=None, min_samples_leaf=1, min_samples_split=5, n_estimators=100; total time= 1.6min\n",
      "[CV] END learning_rate=0.05, max_depth=4, max_features=None, min_samples_leaf=1, min_samples_split=5, n_estimators=200; total time= 3.1min\n",
      "[CV] END learning_rate=0.05, max_depth=4, max_features=None, min_samples_leaf=3, min_samples_split=2, n_estimators=100; total time= 1.6min\n",
      "[CV] END learning_rate=0.05, max_depth=4, max_features=None, min_samples_leaf=3, min_samples_split=2, n_estimators=200; total time= 3.0min\n",
      "[CV] END learning_rate=0.05, max_depth=4, max_features=None, min_samples_leaf=3, min_samples_split=2, n_estimators=200; total time= 3.0min\n",
      "[CV] END learning_rate=0.05, max_depth=4, max_features=None, min_samples_leaf=3, min_samples_split=5, n_estimators=200; total time= 3.0min\n",
      "[CV] END learning_rate=0.05, max_depth=4, max_features=sqrt, min_samples_leaf=1, min_samples_split=2, n_estimators=100; total time=  12.9s\n",
      "[CV] END learning_rate=0.05, max_depth=4, max_features=sqrt, min_samples_leaf=1, min_samples_split=2, n_estimators=100; total time=  13.1s\n",
      "[CV] END learning_rate=0.05, max_depth=4, max_features=sqrt, min_samples_leaf=1, min_samples_split=2, n_estimators=100; total time=  13.2s\n",
      "[CV] END learning_rate=0.05, max_depth=4, max_features=sqrt, min_samples_leaf=1, min_samples_split=2, n_estimators=100; total time=  13.1s\n",
      "[CV] END learning_rate=0.05, max_depth=4, max_features=sqrt, min_samples_leaf=1, min_samples_split=2, n_estimators=100; total time=  13.9s\n",
      "[CV] END learning_rate=0.05, max_depth=4, max_features=sqrt, min_samples_leaf=1, min_samples_split=2, n_estimators=200; total time=  26.5s\n",
      "[CV] END learning_rate=0.05, max_depth=4, max_features=sqrt, min_samples_leaf=1, min_samples_split=5, n_estimators=100; total time=  13.3s\n",
      "[CV] END learning_rate=0.05, max_depth=4, max_features=sqrt, min_samples_leaf=1, min_samples_split=5, n_estimators=100; total time=  13.0s\n",
      "[CV] END learning_rate=0.05, max_depth=4, max_features=sqrt, min_samples_leaf=1, min_samples_split=5, n_estimators=100; total time=  13.0s\n",
      "[CV] END learning_rate=0.05, max_depth=4, max_features=sqrt, min_samples_leaf=1, min_samples_split=5, n_estimators=200; total time=  25.9s\n",
      "[CV] END learning_rate=0.05, max_depth=4, max_features=sqrt, min_samples_leaf=3, min_samples_split=2, n_estimators=100; total time=  13.0s\n",
      "[CV] END learning_rate=0.05, max_depth=4, max_features=sqrt, min_samples_leaf=3, min_samples_split=2, n_estimators=100; total time=  13.2s\n",
      "[CV] END learning_rate=0.05, max_depth=4, max_features=sqrt, min_samples_leaf=3, min_samples_split=2, n_estimators=200; total time=  25.8s\n",
      "[CV] END learning_rate=0.05, max_depth=4, max_features=sqrt, min_samples_leaf=3, min_samples_split=5, n_estimators=100; total time=  13.1s\n",
      "[CV] END learning_rate=0.05, max_depth=4, max_features=sqrt, min_samples_leaf=3, min_samples_split=5, n_estimators=100; total time=  13.3s\n",
      "[CV] END learning_rate=0.05, max_depth=4, max_features=sqrt, min_samples_leaf=3, min_samples_split=5, n_estimators=200; total time=  26.1s\n",
      "[CV] END learning_rate=0.1, max_depth=3, max_features=None, min_samples_leaf=1, min_samples_split=2, n_estimators=100; total time= 1.2min\n",
      "[CV] END learning_rate=0.1, max_depth=3, max_features=None, min_samples_leaf=1, min_samples_split=2, n_estimators=200; total time= 2.4min\n",
      "[CV] END learning_rate=0.1, max_depth=3, max_features=None, min_samples_leaf=1, min_samples_split=5, n_estimators=100; total time= 1.2min\n",
      "[CV] END learning_rate=0.1, max_depth=3, max_features=None, min_samples_leaf=1, min_samples_split=5, n_estimators=100; total time= 1.2min\n",
      "[CV] END learning_rate=0.1, max_depth=3, max_features=None, min_samples_leaf=1, min_samples_split=5, n_estimators=200; total time= 2.4min\n",
      "[CV] END learning_rate=0.1, max_depth=3, max_features=None, min_samples_leaf=3, min_samples_split=2, n_estimators=100; total time= 1.2min\n",
      "[CV] END learning_rate=0.1, max_depth=3, max_features=None, min_samples_leaf=3, min_samples_split=2, n_estimators=100; total time= 1.2min\n",
      "[CV] END learning_rate=0.1, max_depth=3, max_features=None, min_samples_leaf=3, min_samples_split=2, n_estimators=200; total time= 2.4min\n",
      "[CV] END learning_rate=0.1, max_depth=3, max_features=None, min_samples_leaf=3, min_samples_split=5, n_estimators=100; total time= 1.2min\n",
      "[CV] END learning_rate=0.1, max_depth=3, max_features=None, min_samples_leaf=3, min_samples_split=5, n_estimators=200; total time= 2.5min\n",
      "[CV] END learning_rate=0.1, max_depth=3, max_features=None, min_samples_leaf=3, min_samples_split=5, n_estimators=200; total time= 2.5min\n",
      "[CV] END learning_rate=0.1, max_depth=3, max_features=sqrt, min_samples_leaf=3, min_samples_split=2, n_estimators=100; total time=  10.8s\n",
      "[CV] END learning_rate=0.1, max_depth=3, max_features=sqrt, min_samples_leaf=3, min_samples_split=2, n_estimators=100; total time=  11.0s\n",
      "[CV] END learning_rate=0.1, max_depth=3, max_features=sqrt, min_samples_leaf=3, min_samples_split=2, n_estimators=200; total time=  21.3s\n",
      "[CV] END learning_rate=0.1, max_depth=3, max_features=sqrt, min_samples_leaf=3, min_samples_split=5, n_estimators=100; total time=  11.2s\n",
      "[CV] END learning_rate=0.1, max_depth=3, max_features=sqrt, min_samples_leaf=3, min_samples_split=5, n_estimators=100; total time=  10.9s[CV] END learning_rate=0.05, max_depth=3, max_features=None, min_samples_leaf=1, min_samples_split=2, n_estimators=100; total time= 1.2min\n",
      "[CV] END learning_rate=0.05, max_depth=3, max_features=None, min_samples_leaf=1, min_samples_split=2, n_estimators=100; total time= 1.2min\n",
      "[CV] END learning_rate=0.05, max_depth=3, max_features=None, min_samples_leaf=1, min_samples_split=2, n_estimators=200; total time= 2.4min\n",
      "[CV] END learning_rate=0.05, max_depth=3, max_features=None, min_samples_leaf=1, min_samples_split=5, n_estimators=100; total time= 1.2min\n",
      "[CV] END learning_rate=0.05, max_depth=3, max_features=None, min_samples_leaf=1, min_samples_split=5, n_estimators=200; total time= 2.4min\n",
      "[CV] END learning_rate=0.05, max_depth=3, max_features=None, min_samples_leaf=3, min_samples_split=2, n_estimators=100; total time= 1.2min\n",
      "[CV] END learning_rate=0.05, max_depth=3, max_features=None, min_samples_leaf=3, min_samples_split=2, n_estimators=100; total time= 1.2min\n",
      "[CV] END learning_rate=0.05, max_depth=3, max_features=None, min_samples_leaf=3, min_samples_split=2, n_estimators=200; total time= 2.4min\n",
      "[CV] END learning_rate=0.05, max_depth=3, max_features=None, min_samples_leaf=3, min_samples_split=5, n_estimators=100; total time= 1.2min\n",
      "[CV] END learning_rate=0.05, max_depth=3, max_features=None, min_samples_leaf=3, min_samples_split=5, n_estimators=200; total time= 2.5min\n",
      "[CV] END learning_rate=0.05, max_depth=3, max_features=None, min_samples_leaf=3, min_samples_split=5, n_estimators=200; total time= 2.3min\n",
      "[CV] END learning_rate=0.05, max_depth=3, max_features=sqrt, min_samples_leaf=3, min_samples_split=2, n_estimators=100; total time=   9.9s\n",
      "[CV] END learning_rate=0.05, max_depth=3, max_features=sqrt, min_samples_leaf=3, min_samples_split=2, n_estimators=100; total time=  11.5s\n",
      "[CV] END learning_rate=0.05, max_depth=3, max_features=sqrt, min_samples_leaf=3, min_samples_split=2, n_estimators=200; total time=  20.0s\n",
      "[CV] END learning_rate=0.05, max_depth=3, max_features=sqrt, min_samples_leaf=3, min_samples_split=5, n_estimators=100; total time=  10.3s\n",
      "[CV] END learning_rate=0.05, max_depth=3, max_features=sqrt, min_samples_leaf=3, min_samples_split=5, n_estimators=100; total time=  10.6s\n",
      "[CV] END learning_rate=0.05, max_depth=3, max_features=sqrt, min_samples_leaf=3, min_samples_split=5, n_estimators=200; total time=  22.0s\n",
      "[CV] END learning_rate=0.05, max_depth=4, max_features=None, min_samples_leaf=1, min_samples_split=2, n_estimators=100; total time= 1.6min\n",
      "[CV] END learning_rate=0.05, max_depth=4, max_features=None, min_samples_leaf=1, min_samples_split=2, n_estimators=200; total time= 3.2min\n",
      "[CV] END learning_rate=0.05, max_depth=4, max_features=None, min_samples_leaf=1, min_samples_split=2, n_estimators=200; total time= 3.2min\n",
      "[CV] END learning_rate=0.05, max_depth=4, max_features=None, min_samples_leaf=1, min_samples_split=5, n_estimators=200; total time= 3.1min\n",
      "[CV] END learning_rate=0.05, max_depth=4, max_features=None, min_samples_leaf=3, min_samples_split=2, n_estimators=100; total time= 1.6min\n",
      "[CV] END learning_rate=0.05, max_depth=4, max_features=None, min_samples_leaf=3, min_samples_split=2, n_estimators=100; total time= 1.5min\n",
      "[CV] END learning_rate=0.05, max_depth=4, max_features=None, min_samples_leaf=3, min_samples_split=2, n_estimators=200; total time= 3.0min\n",
      "[CV] END learning_rate=0.05, max_depth=4, max_features=None, min_samples_leaf=3, min_samples_split=5, n_estimators=100; total time= 1.4min\n",
      "[CV] END learning_rate=0.05, max_depth=4, max_features=None, min_samples_leaf=3, min_samples_split=5, n_estimators=200; total time= 3.0min\n",
      "[CV] END learning_rate=0.05, max_depth=4, max_features=None, min_samples_leaf=3, min_samples_split=5, n_estimators=200; total time= 3.0min\n",
      "[CV] END learning_rate=0.05, max_depth=4, max_features=sqrt, min_samples_leaf=1, min_samples_split=5, n_estimators=200; total time=  25.6s\n",
      "[CV] END learning_rate=0.05, max_depth=4, max_features=sqrt, min_samples_leaf=3, min_samples_split=2, n_estimators=100; total time=  13.0s\n",
      "[CV] END learning_rate=0.05, max_depth=4, max_features=sqrt, min_samples_leaf=3, min_samples_split=2, n_estimators=200; total time=  25.7s\n",
      "[CV] END learning_rate=0.05, max_depth=4, max_features=sqrt, min_samples_leaf=3, min_samples_split=5, n_estimators=100; total time=  13.0s\n",
      "[CV] END learning_rate=0.05, max_depth=4, max_features=sqrt, min_samples_leaf=3, min_samples_split=5, n_estimators=200; total time=  25.7s\n",
      "[CV] END learning_rate=0.05, max_depth=4, max_features=sqrt, min_samples_leaf=3, min_samples_split=5, n_estimators=200; total time=  26.8s\n",
      "[CV] END learning_rate=0.1, max_depth=3, max_features=None, min_samples_leaf=1, min_samples_split=2, n_estimators=100; total time= 1.2min\n",
      "[CV] END learning_rate=0.1, max_depth=3, max_features=None, min_samples_leaf=1, min_samples_split=2, n_estimators=200; total time= 2.5min\n",
      "[CV] END learning_rate=0.1, max_depth=3, max_features=None, min_samples_leaf=1, min_samples_split=5, n_estimators=100; total time= 1.2min\n",
      "[CV] END learning_rate=0.1, max_depth=3, max_features=None, min_samples_leaf=1, min_samples_split=5, n_estimators=100; total time= 1.2min\n",
      "[CV] END learning_rate=0.1, max_depth=3, max_features=None, min_samples_leaf=1, min_samples_split=5, n_estimators=200; total time= 2.4min\n",
      "[CV] END learning_rate=0.1, max_depth=3, max_features=None, min_samples_leaf=3, min_samples_split=2, n_estimators=100; total time= 1.2min\n",
      "[CV] END learning_rate=0.1, max_depth=3, max_features=None, min_samples_leaf=3, min_samples_split=2, n_estimators=200; total time= 2.4min\n",
      "[CV] END learning_rate=0.1, max_depth=3, max_features=None, min_samples_leaf=3, min_samples_split=2, n_estimators=200; total time= 2.4min\n",
      "[CV] END learning_rate=0.1, max_depth=3, max_features=None, min_samples_leaf=3, min_samples_split=5, n_estimators=200; total time= 2.5min\n",
      "[CV] END learning_rate=0.1, max_depth=3, max_features=sqrt, min_samples_leaf=1, min_samples_split=2, n_estimators=100; total time=  11.1s\n",
      "[CV] END learning_rate=0.1, max_depth=3, max_features=sqrt, min_samples_leaf=1, min_samples_split=2, n_estimators=100; total time=  11.5s\n",
      "[CV] END learning_rate=0.1, max_depth=3, max_features=sqrt, min_samples_leaf=1, min_samples_split=2, n_estimators=100; total time=  11.1s\n",
      "[CV] END learning_rate=0.1, max_depth=3, max_features=sqrt, min_samples_leaf=1, min_samples_split=2, n_estimators=100; total time=  10.8s\n",
      "[CV] END learning_rate=0.1, max_depth=3, max_features=sqrt, min_samples_leaf=1, min_samples_split=2, n_estimators=200; total time=  21.6s\n",
      "[CV] END learning_rate=0.1, max_depth=3, max_features=sqrt, min_samples_leaf=1, min_samples_split=2, n_estimators=200; total time=  22.8s\n",
      "[CV] END learning_rate=0.1, max_depth=3, max_features=sqrt, min_samples_leaf=1, min_samples_split=5, n_estimators=100; total time=  11.4s\n",
      "[CV] END learning_rate=0.1, max_depth=3, max_features=sqrt, min_samples_leaf=1, min_samples_split=5, n_estimators=200; total time=  22.8s\n",
      "[CV] END learning_rate=0.1, max_depth=3, max_features=sqrt, min_samples_leaf=1, min_samples_split=5, n_estimators=200; total time=  22.1s\n",
      "[CV] END learning_rate=0.1, max_depth=3, max_features=sqrt, min_samples_leaf=3, min_samples_split=2, n_estimators=100; total time=  10.7s\n",
      "[CV] END learning_rate=0.1, max_depth=3, max_features=sqrt, min_samples_leaf=3, min_samples_split=2, n_estimators=200; total time=  21.7s\n",
      "[CV] END learning_rate=0.1, max_depth=3, max_features=sqrt, min_samples_leaf=3, min_samples_split=5, n_estimators=100; total time=  10.8s\n",
      "[CV] END learning_rate=0.1, max_depth=3, max_features=sqrt, min_samples_leaf=3, min_samples_split=5, n_estimators=200; total time=  21.9s\n",
      "[CV] END learning_rate=0.1, max_depth=3, max_features=sqrt, min_samples_leaf=3, min_samples_split=5, n_estimators=200; total time=  22.7s\n",
      "[CV] END learning_rate=0.1, max_depth=4, max_features=None, min_samples_leaf=1, min_samples_split=2, n_estimators=100; total time= 1.7min\n",
      "[CV] END learning_rate=0.1, max_depth=4, max_features=None, min_samples_leaf=1, min_samples_split=2, n_estimators=200; total time= 3.3min\n",
      "[CV] END learning_rate=0.1, max_depth=4, max_features=None, min_samples_leaf=1, min_samples_split=5, n_estimators=100; total time= 1.6min\n",
      "[CV] END learning_rate=0.1, max_depth=4, max_features=None, min_samples_leaf=1, min_samples_split=5, n_estimators=100; total time= 1.6minBest Parameters: {'learning_rate': 0.05, 'max_depth': 4, 'max_features': None, 'min_samples_leaf': 3, 'min_samples_split': 5, 'n_estimators': 200}\n",
      "Best RMSE (CV): 34229.43368027937\n"
     ]
    }
   ],
   "source": [
    "from sklearn.model_selection import KFold, GridSearchCV\n",
    "\n",
    "cv = KFold(shuffle=True)\n",
    "\n",
    "model = GradientBoostingRegressor()\n",
    "\n",
    "gb_params = {\n",
    "    \"n_estimators\": [100, 200],          \n",
    "    \"learning_rate\": [0.05, 0.1],        \n",
    "    \"max_depth\": [3, 4],                 \n",
    "    \"min_samples_split\": [2, 5],         \n",
    "    \"min_samples_leaf\": [1, 3],          \n",
    "    \"max_features\": [None, \"sqrt\"]       \n",
    "}\n",
    "\n",
    "grid_cv = GridSearchCV(estimator=model, param_grid=gb_params, scoring=\"neg_root_mean_squared_error\", cv= cv, n_jobs=-1, verbose=2)\n",
    "grid_cv.fit(X_train_scaled, y_train)\n",
    "y_pred = grid_cv.predict(X_test_scaled)\n",
    "\n",
    "gb_best = grid_cv.best_estimator_\n",
    "print(\"Best Parameters:\", grid_cv.best_params_)\n",
    "print(\"Best RMSE (CV):\", -grid_cv.best_score_)"
   ]
  },
  {
   "cell_type": "markdown",
   "id": "7b4e3e0c",
   "metadata": {
    "papermill": {
     "duration": 0.022449,
     "end_time": "2025-10-09T08:18:11.176986",
     "exception": false,
     "start_time": "2025-10-09T08:18:11.154537",
     "status": "completed"
    },
    "tags": []
   },
   "source": [
    "# Prediction on Test Data"
   ]
  },
  {
   "cell_type": "code",
   "execution_count": 42,
   "id": "bd25080a",
   "metadata": {
    "execution": {
     "iopub.execute_input": "2025-10-09T08:18:11.223453Z",
     "iopub.status.busy": "2025-10-09T08:18:11.223082Z",
     "iopub.status.idle": "2025-10-09T08:18:11.248719Z",
     "shell.execute_reply": "2025-10-09T08:18:11.247769Z"
    },
    "papermill": {
     "duration": 0.051521,
     "end_time": "2025-10-09T08:18:11.250523",
     "exception": false,
     "start_time": "2025-10-09T08:18:11.199002",
     "status": "completed"
    },
    "tags": []
   },
   "outputs": [
    {
     "data": {
      "text/html": [
       "<div>\n",
       "<style scoped>\n",
       "    .dataframe tbody tr th:only-of-type {\n",
       "        vertical-align: middle;\n",
       "    }\n",
       "\n",
       "    .dataframe tbody tr th {\n",
       "        vertical-align: top;\n",
       "    }\n",
       "\n",
       "    .dataframe thead th {\n",
       "        text-align: right;\n",
       "    }\n",
       "</style>\n",
       "<table border=\"1\" class=\"dataframe\">\n",
       "  <thead>\n",
       "    <tr style=\"text-align: right;\">\n",
       "      <th></th>\n",
       "      <th>id</th>\n",
       "      <th>brand</th>\n",
       "      <th>model</th>\n",
       "      <th>model_year</th>\n",
       "      <th>milage</th>\n",
       "      <th>fuel_type</th>\n",
       "      <th>engine</th>\n",
       "      <th>transmission</th>\n",
       "      <th>ext_col</th>\n",
       "      <th>int_col</th>\n",
       "      <th>accident</th>\n",
       "      <th>clean_title</th>\n",
       "    </tr>\n",
       "  </thead>\n",
       "  <tbody>\n",
       "    <tr>\n",
       "      <th>18659</th>\n",
       "      <td>207192</td>\n",
       "      <td>Ford</td>\n",
       "      <td>Explorer Platinum</td>\n",
       "      <td>2020</td>\n",
       "      <td>61830</td>\n",
       "      <td>Gasoline</td>\n",
       "      <td>3.0L V6 24V GDI DOHC Twin Turbo</td>\n",
       "      <td>6-Speed Automatic</td>\n",
       "      <td>Gray</td>\n",
       "      <td>Ebony Black</td>\n",
       "      <td>At least 1 accident or damage reported</td>\n",
       "      <td>Yes</td>\n",
       "    </tr>\n",
       "    <tr>\n",
       "      <th>23221</th>\n",
       "      <td>211754</td>\n",
       "      <td>Jeep</td>\n",
       "      <td>Gladiator Overland</td>\n",
       "      <td>2020</td>\n",
       "      <td>4000</td>\n",
       "      <td>Gasoline</td>\n",
       "      <td>285.0HP 3.6L V6 Cylinder Engine Gasoline Fuel</td>\n",
       "      <td>8-Speed A/T</td>\n",
       "      <td>Silver</td>\n",
       "      <td>Black</td>\n",
       "      <td>None reported</td>\n",
       "      <td>Yes</td>\n",
       "    </tr>\n",
       "    <tr>\n",
       "      <th>1618</th>\n",
       "      <td>190151</td>\n",
       "      <td>Tesla</td>\n",
       "      <td>Model X Long Range Plus</td>\n",
       "      <td>2020</td>\n",
       "      <td>43534</td>\n",
       "      <td>NaN</td>\n",
       "      <td>534.0HP Electric Motor Electric Fuel System</td>\n",
       "      <td>A/T</td>\n",
       "      <td>Black</td>\n",
       "      <td>Black</td>\n",
       "      <td>NaN</td>\n",
       "      <td>NaN</td>\n",
       "    </tr>\n",
       "    <tr>\n",
       "      <th>80829</th>\n",
       "      <td>269362</td>\n",
       "      <td>Saturn</td>\n",
       "      <td>Sky Base</td>\n",
       "      <td>2004</td>\n",
       "      <td>131800</td>\n",
       "      <td>Gasoline</td>\n",
       "      <td>173.0HP 2.7L V6 Cylinder Engine Gasoline Fuel</td>\n",
       "      <td>A/T</td>\n",
       "      <td>Blue</td>\n",
       "      <td>Black</td>\n",
       "      <td>None reported</td>\n",
       "      <td>Yes</td>\n",
       "    </tr>\n",
       "    <tr>\n",
       "      <th>80195</th>\n",
       "      <td>268728</td>\n",
       "      <td>Porsche</td>\n",
       "      <td>718 Cayman S</td>\n",
       "      <td>2020</td>\n",
       "      <td>4700</td>\n",
       "      <td>Gasoline</td>\n",
       "      <td>350.0HP 2.5L 4 Cylinder Engine Gasoline Fuel</td>\n",
       "      <td>7-Speed A/T</td>\n",
       "      <td>White</td>\n",
       "      <td>Black</td>\n",
       "      <td>None reported</td>\n",
       "      <td>Yes</td>\n",
       "    </tr>\n",
       "  </tbody>\n",
       "</table>\n",
       "</div>"
      ],
      "text/plain": [
       "           id    brand                    model  model_year  milage fuel_type  \\\n",
       "18659  207192     Ford        Explorer Platinum        2020   61830  Gasoline   \n",
       "23221  211754     Jeep       Gladiator Overland        2020    4000  Gasoline   \n",
       "1618   190151    Tesla  Model X Long Range Plus        2020   43534       NaN   \n",
       "80829  269362   Saturn                 Sky Base        2004  131800  Gasoline   \n",
       "80195  268728  Porsche             718 Cayman S        2020    4700  Gasoline   \n",
       "\n",
       "                                              engine       transmission  \\\n",
       "18659                3.0L V6 24V GDI DOHC Twin Turbo  6-Speed Automatic   \n",
       "23221  285.0HP 3.6L V6 Cylinder Engine Gasoline Fuel        8-Speed A/T   \n",
       "1618     534.0HP Electric Motor Electric Fuel System                A/T   \n",
       "80829  173.0HP 2.7L V6 Cylinder Engine Gasoline Fuel                A/T   \n",
       "80195   350.0HP 2.5L 4 Cylinder Engine Gasoline Fuel        7-Speed A/T   \n",
       "\n",
       "      ext_col      int_col                                accident clean_title  \n",
       "18659    Gray  Ebony Black  At least 1 accident or damage reported         Yes  \n",
       "23221  Silver        Black                           None reported         Yes  \n",
       "1618    Black        Black                                     NaN         NaN  \n",
       "80829    Blue        Black                           None reported         Yes  \n",
       "80195   White        Black                           None reported         Yes  "
      ]
     },
     "execution_count": 42,
     "metadata": {},
     "output_type": "execute_result"
    }
   ],
   "source": [
    "test_df.sample(5)"
   ]
  },
  {
   "cell_type": "code",
   "execution_count": 43,
   "id": "cda498c0",
   "metadata": {
    "execution": {
     "iopub.execute_input": "2025-10-09T08:18:11.296828Z",
     "iopub.status.busy": "2025-10-09T08:18:11.296458Z",
     "iopub.status.idle": "2025-10-09T08:18:11.383738Z",
     "shell.execute_reply": "2025-10-09T08:18:11.382992Z"
    },
    "papermill": {
     "duration": 0.111959,
     "end_time": "2025-10-09T08:18:11.385189",
     "exception": false,
     "start_time": "2025-10-09T08:18:11.273230",
     "status": "completed"
    },
    "tags": []
   },
   "outputs": [
    {
     "data": {
      "text/plain": [
       "id                  0\n",
       "brand               0\n",
       "model               0\n",
       "model_year          0\n",
       "milage              0\n",
       "fuel_type        3383\n",
       "engine              0\n",
       "transmission        0\n",
       "ext_col             0\n",
       "int_col             0\n",
       "accident         1632\n",
       "clean_title     14239\n",
       "dtype: int64"
      ]
     },
     "execution_count": 43,
     "metadata": {},
     "output_type": "execute_result"
    }
   ],
   "source": [
    "test_df.isnull().sum()"
   ]
  },
  {
   "cell_type": "markdown",
   "id": "52ed7a3d",
   "metadata": {
    "papermill": {
     "duration": 0.021769,
     "end_time": "2025-10-09T08:18:11.428841",
     "exception": false,
     "start_time": "2025-10-09T08:18:11.407072",
     "status": "completed"
    },
    "tags": []
   },
   "source": [
    "## Data Cleaning\n"
   ]
  },
  {
   "cell_type": "code",
   "execution_count": 44,
   "id": "49cf3bbf",
   "metadata": {
    "execution": {
     "iopub.execute_input": "2025-10-09T08:18:11.474266Z",
     "iopub.status.busy": "2025-10-09T08:18:11.473949Z",
     "iopub.status.idle": "2025-10-09T08:18:13.389197Z",
     "shell.execute_reply": "2025-10-09T08:18:13.388178Z"
    },
    "papermill": {
     "duration": 1.94031,
     "end_time": "2025-10-09T08:18:13.390995",
     "exception": false,
     "start_time": "2025-10-09T08:18:11.450685",
     "status": "completed"
    },
    "tags": []
   },
   "outputs": [],
   "source": [
    "# Removing rows which have Null value in more than 1 columns \n",
    "test_df = test_df[test_df.isna().sum(axis = 1) <= 1]\n",
    "\n",
    "# Accident Column\n",
    "# As the no of Null values in accident column are very less, so the columns can be dropped\n",
    "test_df = test_df.dropna(subset = 'accident')\n",
    "\n",
    "# Fuel Type Column\n",
    "# Extract word before \"Fuel System\"\n",
    "test_df[\"fuel_type_extracted\"] = test_df[\"engine\"].str.extract(r\"(\\b\\w+\\b)(?=\\s+Fuel System)\")\n",
    "\n",
    "# If no \"Fuel System\" present, check for known fuel words\n",
    "test_df[\"fuel_type_extracted\"] = test_df[\"fuel_type_extracted\"].fillna(\n",
    "    test_df[\"engine\"].str.extract(r\"(Electric|Petrol|Diesel|Hybrid|CNG|LPG|Gasoline|Battery)\", expand=False)\n",
    ")\n",
    "\n",
    "# Fill existing fuel_type only where it's missing\n",
    "test_df[\"fuel_type\"] = test_df[\"fuel_type\"].fillna(test_df[\"fuel_type_extracted\"])\n",
    "\n",
    "# Drop helper column if not needed\n",
    "test_df = test_df.drop(columns=\"fuel_type_extracted\")\n",
    "\n",
    "\n",
    "test_df = test_df.dropna(subset = \"fuel_type\")\n",
    "\n",
    "test_df.clean_title = test_df.clean_title.fillna(test_df.clean_title.mode()[0])\n",
    "\n",
    "# Extracting information from engine column\n",
    "# Extract horsepower\n",
    "test_df[\"horsepower\"] = test_df[\"engine\"].str.extract(r\"(\\d+(?:\\.\\d+)?)\\s*HP\", expand=False)\n",
    "\n",
    "# Extract engine displacement \n",
    "test_df[\"engine_displacement\"] = test_df[\"engine\"].str.extract(r\"(\\d+(?:\\.\\d+)?)\\s*(?:L|LITER)\", expand=False)\n",
    "\n",
    "# Extract cylinder count\n",
    "test_df[\"cylinder_count\"] = ( test_df[\"engine\"].astype(str).str.upper().str.extract(\n",
    "        r\"(?:\\b(\\d+)\\s*(?:CYL(?:INDER)?)\\b)\"      # e.g. \"8 Cylinder\"\n",
    "        r\"|(?:\\bV(\\d+)\\b)\"                        # e.g. \"V8\"\n",
    "        r\"|(?:\\bI(\\d+)\\b)\"                        # e.g. \"I4\"\n",
    "        r\"|(?:\\b(?:STRAIGHT|INLINE|FLAT)\\s*(\\d+)\\b)\",  # e.g. \"Straight 6\"\n",
    "        expand=True\n",
    "    )\n",
    "    .bfill(axis=1)        \n",
    "    .iloc[:, 0]           \n",
    ")\n",
    "\n",
    "test_df[\"horsepower\"] = pd.to_numeric(test_df[\"horsepower\"], errors=\"coerce\")\n",
    "test_df[\"engine_displacement\"] = pd.to_numeric(test_df[\"engine_displacement\"], errors=\"coerce\")\n",
    "test_df[\"cylinder_count\"] = pd.to_numeric(test_df[\"cylinder_count\"], errors=\"coerce\").astype(\"Int64\")\n",
    "\n",
    "test_df = test_df.dropna()"
   ]
  },
  {
   "cell_type": "code",
   "execution_count": 45,
   "id": "c2ef478e",
   "metadata": {
    "execution": {
     "iopub.execute_input": "2025-10-09T08:18:13.438578Z",
     "iopub.status.busy": "2025-10-09T08:18:13.437738Z",
     "iopub.status.idle": "2025-10-09T08:18:13.495329Z",
     "shell.execute_reply": "2025-10-09T08:18:13.494471Z"
    },
    "papermill": {
     "duration": 0.083854,
     "end_time": "2025-10-09T08:18:13.497056",
     "exception": false,
     "start_time": "2025-10-09T08:18:13.413202",
     "status": "completed"
    },
    "tags": []
   },
   "outputs": [
    {
     "data": {
      "text/plain": [
       "id                     0\n",
       "brand                  0\n",
       "model                  0\n",
       "model_year             0\n",
       "milage                 0\n",
       "fuel_type              0\n",
       "engine                 0\n",
       "transmission           0\n",
       "ext_col                0\n",
       "int_col                0\n",
       "accident               0\n",
       "clean_title            0\n",
       "horsepower             0\n",
       "engine_displacement    0\n",
       "cylinder_count         0\n",
       "dtype: int64"
      ]
     },
     "execution_count": 45,
     "metadata": {},
     "output_type": "execute_result"
    }
   ],
   "source": [
    "test_df.isnull().sum()"
   ]
  },
  {
   "cell_type": "code",
   "execution_count": 46,
   "id": "fade3ba7",
   "metadata": {
    "execution": {
     "iopub.execute_input": "2025-10-09T08:18:13.543624Z",
     "iopub.status.busy": "2025-10-09T08:18:13.543322Z",
     "iopub.status.idle": "2025-10-09T08:18:13.561989Z",
     "shell.execute_reply": "2025-10-09T08:18:13.561049Z"
    },
    "papermill": {
     "duration": 0.043503,
     "end_time": "2025-10-09T08:18:13.563631",
     "exception": false,
     "start_time": "2025-10-09T08:18:13.520128",
     "status": "completed"
    },
    "tags": []
   },
   "outputs": [
    {
     "data": {
      "text/html": [
       "<div>\n",
       "<style scoped>\n",
       "    .dataframe tbody tr th:only-of-type {\n",
       "        vertical-align: middle;\n",
       "    }\n",
       "\n",
       "    .dataframe tbody tr th {\n",
       "        vertical-align: top;\n",
       "    }\n",
       "\n",
       "    .dataframe thead th {\n",
       "        text-align: right;\n",
       "    }\n",
       "</style>\n",
       "<table border=\"1\" class=\"dataframe\">\n",
       "  <thead>\n",
       "    <tr style=\"text-align: right;\">\n",
       "      <th></th>\n",
       "      <th>id</th>\n",
       "      <th>brand</th>\n",
       "      <th>model</th>\n",
       "      <th>model_year</th>\n",
       "      <th>milage</th>\n",
       "      <th>fuel_type</th>\n",
       "      <th>engine</th>\n",
       "      <th>transmission</th>\n",
       "      <th>ext_col</th>\n",
       "      <th>int_col</th>\n",
       "      <th>accident</th>\n",
       "      <th>clean_title</th>\n",
       "      <th>horsepower</th>\n",
       "      <th>engine_displacement</th>\n",
       "      <th>cylinder_count</th>\n",
       "    </tr>\n",
       "  </thead>\n",
       "  <tbody>\n",
       "    <tr>\n",
       "      <th>103118</th>\n",
       "      <td>291651</td>\n",
       "      <td>Toyota</td>\n",
       "      <td>Avalon Touring</td>\n",
       "      <td>2008</td>\n",
       "      <td>185000</td>\n",
       "      <td>Gasoline</td>\n",
       "      <td>268.0HP 3.5L V6 Cylinder Engine Gasoline Fuel</td>\n",
       "      <td>5-Speed A/T</td>\n",
       "      <td>Blue</td>\n",
       "      <td>Beige</td>\n",
       "      <td>None reported</td>\n",
       "      <td>Yes</td>\n",
       "      <td>268.0</td>\n",
       "      <td>3.5</td>\n",
       "      <td>6</td>\n",
       "    </tr>\n",
       "    <tr>\n",
       "      <th>23289</th>\n",
       "      <td>211822</td>\n",
       "      <td>Chevrolet</td>\n",
       "      <td>Camaro 1LT</td>\n",
       "      <td>2010</td>\n",
       "      <td>134602</td>\n",
       "      <td>Gasoline</td>\n",
       "      <td>312.0HP 3.6L V6 Cylinder Engine Gasoline Fuel</td>\n",
       "      <td>A/T</td>\n",
       "      <td>Brown</td>\n",
       "      <td>Black</td>\n",
       "      <td>None reported</td>\n",
       "      <td>Yes</td>\n",
       "      <td>312.0</td>\n",
       "      <td>3.6</td>\n",
       "      <td>6</td>\n",
       "    </tr>\n",
       "    <tr>\n",
       "      <th>106048</th>\n",
       "      <td>294581</td>\n",
       "      <td>BMW</td>\n",
       "      <td>M6 Base</td>\n",
       "      <td>2017</td>\n",
       "      <td>40000</td>\n",
       "      <td>Gasoline</td>\n",
       "      <td>560.0HP 4.4L 8 Cylinder Engine Gasoline Fuel</td>\n",
       "      <td>Transmission w/Dual Shift Mode</td>\n",
       "      <td>Blue</td>\n",
       "      <td>Black</td>\n",
       "      <td>None reported</td>\n",
       "      <td>Yes</td>\n",
       "      <td>560.0</td>\n",
       "      <td>4.4</td>\n",
       "      <td>8</td>\n",
       "    </tr>\n",
       "  </tbody>\n",
       "</table>\n",
       "</div>"
      ],
      "text/plain": [
       "            id      brand           model  model_year  milage fuel_type  \\\n",
       "103118  291651     Toyota  Avalon Touring        2008  185000  Gasoline   \n",
       "23289   211822  Chevrolet      Camaro 1LT        2010  134602  Gasoline   \n",
       "106048  294581        BMW         M6 Base        2017   40000  Gasoline   \n",
       "\n",
       "                                               engine  \\\n",
       "103118  268.0HP 3.5L V6 Cylinder Engine Gasoline Fuel   \n",
       "23289   312.0HP 3.6L V6 Cylinder Engine Gasoline Fuel   \n",
       "106048   560.0HP 4.4L 8 Cylinder Engine Gasoline Fuel   \n",
       "\n",
       "                          transmission ext_col int_col       accident  \\\n",
       "103118                     5-Speed A/T    Blue   Beige  None reported   \n",
       "23289                              A/T   Brown   Black  None reported   \n",
       "106048  Transmission w/Dual Shift Mode    Blue   Black  None reported   \n",
       "\n",
       "       clean_title  horsepower  engine_displacement  cylinder_count  \n",
       "103118         Yes       268.0                  3.5               6  \n",
       "23289          Yes       312.0                  3.6               6  \n",
       "106048         Yes       560.0                  4.4               8  "
      ]
     },
     "execution_count": 46,
     "metadata": {},
     "output_type": "execute_result"
    }
   ],
   "source": [
    "test_df.sample(3)"
   ]
  },
  {
   "cell_type": "markdown",
   "id": "6f000164",
   "metadata": {
    "papermill": {
     "duration": 0.022167,
     "end_time": "2025-10-09T08:18:13.608337",
     "exception": false,
     "start_time": "2025-10-09T08:18:13.586170",
     "status": "completed"
    },
    "tags": []
   },
   "source": [
    "## Data Transformation"
   ]
  },
  {
   "cell_type": "code",
   "execution_count": 47,
   "id": "0b080940",
   "metadata": {
    "execution": {
     "iopub.execute_input": "2025-10-09T08:18:13.654800Z",
     "iopub.status.busy": "2025-10-09T08:18:13.654443Z",
     "iopub.status.idle": "2025-10-09T08:18:14.144751Z",
     "shell.execute_reply": "2025-10-09T08:18:14.143901Z"
    },
    "papermill": {
     "duration": 0.515834,
     "end_time": "2025-10-09T08:18:14.146381",
     "exception": false,
     "start_time": "2025-10-09T08:18:13.630547",
     "status": "completed"
    },
    "tags": []
   },
   "outputs": [],
   "source": [
    "import re\n",
    "def cleaned_transmission(value):\n",
    "    val = str(value).upper().strip()\n",
    "\n",
    "    if re.search(r\"\\bA/T\\b\", val) or \"AUTOMATIC\" in val or \"DCT\" in val or \"DUAL SHIFT MODE\" in val or \"OVERDRIVE SWITCH\" in val or \"CVT\" in val:\n",
    "        return \"Automatic\"\n",
    "    if re.search(r\"\\bM/T\\b\", val) or \"MANUAL\" in val:\n",
    "        return \"Manual\"\n",
    "    return \"Unknown\"\n",
    "\n",
    "\n",
    "test_df.transmission = test_df.transmission.apply(cleaned_transmission)\n",
    "\n",
    "def cleaned_fuel_type(value):\n",
    "    val = str(value).strip().upper()\n",
    "\n",
    "    if val in [\"GASOLINE\", \"E85 FLEX FUEL\"]:\n",
    "        return \"Gasoline\"\n",
    "    elif val in [\"DIESEL\"]:\n",
    "        return \"Diesel\"\n",
    "    elif val in [\"HYBRID\", \"PLUG-IN HYBRID\"]:\n",
    "        return \"Hybrid\"\n",
    "    elif val in [\"ELECTRIC\"]:\n",
    "        return \"Electric\"\n",
    "    else:\n",
    "        return \"Unknown\"\n",
    "\n",
    "test_df[\"fuel_type\"] = test_df[\"fuel_type\"].apply(cleaned_fuel_type)\n",
    "\n",
    "test_df.accident = test_df.accident.replace({'None reported': \"No\", \"At least 1 accident or damage reported\": \"Yes\"})\n",
    "\n",
    "def clean_exterior_color(value):\n",
    "    val = str(value).strip().upper()\n",
    "\n",
    "    if \"BLACK\" in val or \"ONYX\" in val or \"RAVEN\" in val or \"EBONY\" in val or \"NERO\" in val or \"BELUGA\" in val:\n",
    "        return \"Black\"\n",
    "    elif \"WHITE\" in val or \"ALPINE\" in val or \"BIANCO\" in val or \"SNOW\" in val or \"CHALK\" in val or \"GLACIER\" in val:\n",
    "        return \"White\"\n",
    "    elif \"GRAY\" in val or \"GREY\" in val or \"GRAPHITE\" in val or \"STEEL\" in val or \"SLATE\" in val or \"THUNDER\" in val:\n",
    "        return \"Gray\"\n",
    "    elif \"SILVER\" in val or \"PLATINUM\" in val:\n",
    "        return \"Silver\"\n",
    "    elif \"RED\" in val or \"ROSSO\" in val or \"FLAME\" in val or \"MAROON\" in val:\n",
    "        return \"Red\"\n",
    "    elif \"BLUE\" in val or \"BLU\" in val or \"AQUA\" in val or \"NAVY\" in val:\n",
    "        return \"Blue\"\n",
    "    elif \"GREEN\" in val:\n",
    "        return \"Green\"\n",
    "    elif \"YELLOW\" in val or \"GOLD\" in val:\n",
    "        return \"Yellow\"\n",
    "    elif \"ORANGE\" in val:\n",
    "        return \"Orange\"\n",
    "    elif \"BROWN\" in val or \"BRONZE\" in val:\n",
    "        return \"Brown\"\n",
    "    elif \"BEIGE\" in val or \"TAN\" in val or \"CREAM\" in val or \"IVORY\" in val:\n",
    "        return \"Beige\"\n",
    "    elif \"PURPLE\" in val or \"PLUM\" in val:\n",
    "        return \"Purple\"\n",
    "    elif \"PINK\" in val:\n",
    "        return \"Pink\"\n",
    "    elif val in [\"–\", \"-\", \"NONE\", \"UNKNOWN\", \"NOT SUPPORTED\"]:\n",
    "        return \"Unknown\"\n",
    "    else:\n",
    "        return \"Unknown\"\n",
    "\n",
    "test_df.ext_col = test_df.ext_col.apply(clean_exterior_color)\n",
    "\n",
    "\n",
    "def clean_interior_color(value):\n",
    "    val = str(value).strip().upper()\n",
    "\n",
    "    if any(x in val for x in [\"BLACK\", \"EBONY\", \"ONYX\", \"NERO\", \"CHARCOAL\", \"JET\", \"BLK\"]):\n",
    "        return \"Black\"\n",
    "    elif any(x in val for x in [\"GRAY\", \"SLATE\", \"GRAPHITE\", \"ASH\", \"ANTHRACITE\", \"STONE\"]):\n",
    "        return \"Gray\"\n",
    "    elif any(x in val for x in [\"BEIGE\", \"TAN\", \"CAMEL\", \"ALMOND\", \"PARCHMENT\", \"LINEN\", \"SAND\", \"MACCHIATO\"]):\n",
    "        return \"Beige\"\n",
    "    elif any(x in val for x in [\"BROWN\", \"CHESTNUT\", \"BRANDY\", \"WALNUT\", \"AMBER\", \"COGNAC\", \"MESA\", \"ARAGON\"]):\n",
    "        return \"Brown\"\n",
    "    elif any(x in val for x in [\"RED\", \"HOTSPUR\", \"MAGMA\", \"RIOJA\"]):\n",
    "        return \"Red\"\n",
    "    elif any(x in val for x in [\"BLUE\", \"NAVY\"]):\n",
    "        return \"Blue\"\n",
    "    elif any(x in val for x in [\"WHITE\", \"OYSTER\", \"ICE\", \"CLOUD\", \"PLATINUM\"]):\n",
    "        return \"White\"\n",
    "    elif \"GREEN\" in val:\n",
    "        return \"Green\"\n",
    "    elif \"ORANGE\" in val:\n",
    "        return \"Orange\"\n",
    "    elif \"YELLOW\" in val:\n",
    "        return \"Yellow\"\n",
    "    elif \"SILVER\" in val:\n",
    "        return \"Silver\"\n",
    "    elif val in [\"–\", \"-\", \"NONE\", \"UNKNOWN\", \"NOT SUPPORTED\", \"N/A\"]:\n",
    "        return \"Unknown\"\n",
    "    else:\n",
    "        return \"Unknown\"\n",
    "\n",
    "test_df.int_col = test_df.int_col.apply(clean_interior_color)\n",
    "\n",
    "# Removing less impacted fuel_type\n",
    "test_df = test_df[test_df.fuel_type.isin(['Unknown', 'Electric']) == False]\n",
    "\n",
    "# Removing impacted transmission type\n",
    "test_df = test_df[test_df.transmission.isin(['Unknown']) == False]\n",
    "\n",
    "# Removing exterior colors which are less than 20%\n",
    "test_df = test_df[~test_df.ext_col.isin(['Purple', 'Unknown', 'Pink'])]\n",
    "\n",
    "# Removing interior colors which are less than 20%\n",
    "test_df = test_df[~test_df.int_col.isin(['Yellow', 'Green'])]\n",
    "\n",
    "test_df = test_df.reset_index(drop = True)"
   ]
  },
  {
   "cell_type": "code",
   "execution_count": 48,
   "id": "c3cb78e6",
   "metadata": {
    "execution": {
     "iopub.execute_input": "2025-10-09T08:18:14.194425Z",
     "iopub.status.busy": "2025-10-09T08:18:14.194051Z",
     "iopub.status.idle": "2025-10-09T08:18:14.204812Z",
     "shell.execute_reply": "2025-10-09T08:18:14.203675Z"
    },
    "papermill": {
     "duration": 0.037887,
     "end_time": "2025-10-09T08:18:14.206662",
     "exception": false,
     "start_time": "2025-10-09T08:18:14.168775",
     "status": "completed"
    },
    "tags": []
   },
   "outputs": [],
   "source": [
    "test_df_copy = test_df.drop(['id', 'model', 'engine', 'clean_title'], axis = 1)"
   ]
  },
  {
   "cell_type": "code",
   "execution_count": 49,
   "id": "2f03e6aa",
   "metadata": {
    "execution": {
     "iopub.execute_input": "2025-10-09T08:18:14.254158Z",
     "iopub.status.busy": "2025-10-09T08:18:14.253838Z",
     "iopub.status.idle": "2025-10-09T08:18:14.271343Z",
     "shell.execute_reply": "2025-10-09T08:18:14.270236Z"
    },
    "papermill": {
     "duration": 0.042786,
     "end_time": "2025-10-09T08:18:14.272954",
     "exception": false,
     "start_time": "2025-10-09T08:18:14.230168",
     "status": "completed"
    },
    "tags": []
   },
   "outputs": [
    {
     "data": {
      "text/html": [
       "<div>\n",
       "<style scoped>\n",
       "    .dataframe tbody tr th:only-of-type {\n",
       "        vertical-align: middle;\n",
       "    }\n",
       "\n",
       "    .dataframe tbody tr th {\n",
       "        vertical-align: top;\n",
       "    }\n",
       "\n",
       "    .dataframe thead th {\n",
       "        text-align: right;\n",
       "    }\n",
       "</style>\n",
       "<table border=\"1\" class=\"dataframe\">\n",
       "  <thead>\n",
       "    <tr style=\"text-align: right;\">\n",
       "      <th></th>\n",
       "      <th>brand</th>\n",
       "      <th>model_year</th>\n",
       "      <th>milage</th>\n",
       "      <th>fuel_type</th>\n",
       "      <th>transmission</th>\n",
       "      <th>ext_col</th>\n",
       "      <th>int_col</th>\n",
       "      <th>accident</th>\n",
       "      <th>horsepower</th>\n",
       "      <th>engine_displacement</th>\n",
       "      <th>cylinder_count</th>\n",
       "    </tr>\n",
       "  </thead>\n",
       "  <tbody>\n",
       "    <tr>\n",
       "      <th>56547</th>\n",
       "      <td>Lexus</td>\n",
       "      <td>2016</td>\n",
       "      <td>60000</td>\n",
       "      <td>Gasoline</td>\n",
       "      <td>Automatic</td>\n",
       "      <td>Gray</td>\n",
       "      <td>Black</td>\n",
       "      <td>Yes</td>\n",
       "      <td>235.0</td>\n",
       "      <td>2.0</td>\n",
       "      <td>4</td>\n",
       "    </tr>\n",
       "    <tr>\n",
       "      <th>4533</th>\n",
       "      <td>Lexus</td>\n",
       "      <td>2020</td>\n",
       "      <td>44373</td>\n",
       "      <td>Gasoline</td>\n",
       "      <td>Automatic</td>\n",
       "      <td>White</td>\n",
       "      <td>Black</td>\n",
       "      <td>Yes</td>\n",
       "      <td>295.0</td>\n",
       "      <td>3.5</td>\n",
       "      <td>6</td>\n",
       "    </tr>\n",
       "    <tr>\n",
       "      <th>64990</th>\n",
       "      <td>Audi</td>\n",
       "      <td>2020</td>\n",
       "      <td>34300</td>\n",
       "      <td>Hybrid</td>\n",
       "      <td>Automatic</td>\n",
       "      <td>White</td>\n",
       "      <td>Brown</td>\n",
       "      <td>No</td>\n",
       "      <td>335.0</td>\n",
       "      <td>3.0</td>\n",
       "      <td>6</td>\n",
       "    </tr>\n",
       "  </tbody>\n",
       "</table>\n",
       "</div>"
      ],
      "text/plain": [
       "       brand  model_year  milage fuel_type transmission ext_col int_col  \\\n",
       "56547  Lexus        2016   60000  Gasoline    Automatic    Gray   Black   \n",
       "4533   Lexus        2020   44373  Gasoline    Automatic   White   Black   \n",
       "64990   Audi        2020   34300    Hybrid    Automatic   White   Brown   \n",
       "\n",
       "      accident  horsepower  engine_displacement  cylinder_count  \n",
       "56547      Yes       235.0                  2.0               4  \n",
       "4533       Yes       295.0                  3.5               6  \n",
       "64990       No       335.0                  3.0               6  "
      ]
     },
     "execution_count": 49,
     "metadata": {},
     "output_type": "execute_result"
    }
   ],
   "source": [
    "test_df_copy.sample(3)"
   ]
  },
  {
   "cell_type": "code",
   "execution_count": 50,
   "id": "21e1caf8",
   "metadata": {
    "execution": {
     "iopub.execute_input": "2025-10-09T08:18:14.321835Z",
     "iopub.status.busy": "2025-10-09T08:18:14.321468Z",
     "iopub.status.idle": "2025-10-09T08:18:14.682425Z",
     "shell.execute_reply": "2025-10-09T08:18:14.681558Z"
    },
    "papermill": {
     "duration": 0.387486,
     "end_time": "2025-10-09T08:18:14.684087",
     "exception": false,
     "start_time": "2025-10-09T08:18:14.296601",
     "status": "completed"
    },
    "tags": []
   },
   "outputs": [
    {
     "data": {
      "text/plain": [
       "array([ 0.        ,  0.        ,  0.        ,  0.        ,  0.        ,\n",
       "        0.        ,  0.        ,  0.        ,  0.        ,  0.        ,\n",
       "        0.        ,  0.        ,  0.        ,  0.        ,  0.        ,\n",
       "        0.        ,  0.        ,  0.        ,  0.        ,  0.        ,\n",
       "        0.        ,  0.        ,  0.        ,  0.        ,  1.        ,\n",
       "        0.        ,  0.        ,  0.        ,  0.        ,  0.        ,\n",
       "        0.        ,  0.        ,  0.        ,  0.        ,  0.        ,\n",
       "        0.        ,  0.        ,  0.        ,  0.        ,  0.        ,\n",
       "        0.        ,  0.        ,  0.        ,  0.        ,  0.        ,\n",
       "        0.        ,  0.        ,  0.        ,  0.        ,  0.        ,\n",
       "        0.        ,  0.        ,  0.        ,  0.        ,  0.        ,\n",
       "        1.        ,  0.        ,  0.        ,  0.        ,  0.        ,\n",
       "        0.        ,  0.        ,  0.        ,  0.        ,  0.        ,\n",
       "        0.        ,  1.        ,  0.        ,  0.        ,  0.        ,\n",
       "        0.        ,  0.        ,  0.        ,  0.        ,  0.        ,\n",
       "        0.        ,  0.        ,  0.        ,  0.03318633,  0.48321774,\n",
       "       -0.90397451, -1.34292741, -1.52562822])"
      ]
     },
     "execution_count": 50,
     "metadata": {},
     "output_type": "execute_result"
    }
   ],
   "source": [
    "test_df_scaled = preprocessing.transform(test_df_copy)\n",
    "test_df_scaled[0]"
   ]
  },
  {
   "cell_type": "code",
   "execution_count": 51,
   "id": "89c9b3aa",
   "metadata": {
    "execution": {
     "iopub.execute_input": "2025-10-09T08:18:14.731908Z",
     "iopub.status.busy": "2025-10-09T08:18:14.731562Z",
     "iopub.status.idle": "2025-10-09T08:18:15.544366Z",
     "shell.execute_reply": "2025-10-09T08:18:15.543494Z"
    },
    "papermill": {
     "duration": 0.838966,
     "end_time": "2025-10-09T08:18:15.545885",
     "exception": false,
     "start_time": "2025-10-09T08:18:14.706919",
     "status": "completed"
    },
    "tags": []
   },
   "outputs": [
    {
     "data": {
      "text/plain": [
       "array([18774.75138475, 69760.29390501, 31362.9463507 , ...,\n",
       "       23194.17186996, 16902.73244654, 35827.859579  ])"
      ]
     },
     "execution_count": 51,
     "metadata": {},
     "output_type": "execute_result"
    }
   ],
   "source": [
    "y_test_pred = gb_best.predict(test_df_scaled)\n",
    "y_test_pred"
   ]
  },
  {
   "cell_type": "markdown",
   "id": "b3ab1d60",
   "metadata": {
    "papermill": {
     "duration": 0.022662,
     "end_time": "2025-10-09T08:18:15.591724",
     "exception": false,
     "start_time": "2025-10-09T08:18:15.569062",
     "status": "completed"
    },
    "tags": []
   },
   "source": [
    "# Submission"
   ]
  },
  {
   "cell_type": "code",
   "execution_count": 52,
   "id": "10122557",
   "metadata": {
    "execution": {
     "iopub.execute_input": "2025-10-09T08:18:15.639398Z",
     "iopub.status.busy": "2025-10-09T08:18:15.639058Z",
     "iopub.status.idle": "2025-10-09T08:18:15.649129Z",
     "shell.execute_reply": "2025-10-09T08:18:15.648299Z"
    },
    "papermill": {
     "duration": 0.035885,
     "end_time": "2025-10-09T08:18:15.650612",
     "exception": false,
     "start_time": "2025-10-09T08:18:15.614727",
     "status": "completed"
    },
    "tags": []
   },
   "outputs": [
    {
     "data": {
      "text/html": [
       "<div>\n",
       "<style scoped>\n",
       "    .dataframe tbody tr th:only-of-type {\n",
       "        vertical-align: middle;\n",
       "    }\n",
       "\n",
       "    .dataframe tbody tr th {\n",
       "        vertical-align: top;\n",
       "    }\n",
       "\n",
       "    .dataframe thead th {\n",
       "        text-align: right;\n",
       "    }\n",
       "</style>\n",
       "<table border=\"1\" class=\"dataframe\">\n",
       "  <thead>\n",
       "    <tr style=\"text-align: right;\">\n",
       "      <th></th>\n",
       "      <th>id</th>\n",
       "      <th>price</th>\n",
       "    </tr>\n",
       "  </thead>\n",
       "  <tbody>\n",
       "    <tr>\n",
       "      <th>0</th>\n",
       "      <td>188533</td>\n",
       "      <td>18774.751385</td>\n",
       "    </tr>\n",
       "    <tr>\n",
       "      <th>1</th>\n",
       "      <td>188534</td>\n",
       "      <td>69760.293905</td>\n",
       "    </tr>\n",
       "    <tr>\n",
       "      <th>2</th>\n",
       "      <td>188537</td>\n",
       "      <td>31362.946351</td>\n",
       "    </tr>\n",
       "    <tr>\n",
       "      <th>3</th>\n",
       "      <td>188538</td>\n",
       "      <td>16391.563201</td>\n",
       "    </tr>\n",
       "    <tr>\n",
       "      <th>4</th>\n",
       "      <td>188539</td>\n",
       "      <td>11220.029387</td>\n",
       "    </tr>\n",
       "  </tbody>\n",
       "</table>\n",
       "</div>"
      ],
      "text/plain": [
       "       id         price\n",
       "0  188533  18774.751385\n",
       "1  188534  69760.293905\n",
       "2  188537  31362.946351\n",
       "3  188538  16391.563201\n",
       "4  188539  11220.029387"
      ]
     },
     "execution_count": 52,
     "metadata": {},
     "output_type": "execute_result"
    }
   ],
   "source": [
    "submission = pd.DataFrame({ \"id\": test_df[\"id\"], \"price\": y_test_pred})\n",
    "submission.head()"
   ]
  },
  {
   "cell_type": "code",
   "execution_count": 53,
   "id": "bf72937e",
   "metadata": {
    "execution": {
     "iopub.execute_input": "2025-10-09T08:18:15.698475Z",
     "iopub.status.busy": "2025-10-09T08:18:15.698178Z",
     "iopub.status.idle": "2025-10-09T08:18:15.936979Z",
     "shell.execute_reply": "2025-10-09T08:18:15.935867Z"
    },
    "papermill": {
     "duration": 0.264679,
     "end_time": "2025-10-09T08:18:15.938487",
     "exception": false,
     "start_time": "2025-10-09T08:18:15.673808",
     "status": "completed"
    },
    "tags": []
   },
   "outputs": [
    {
     "name": "stdout",
     "output_type": "stream",
     "text": [
      "Submission saved!\n"
     ]
    }
   ],
   "source": [
    "submission.to_csv(\"submission.csv\", index = False)\n",
    "print(\"Submission saved!\")"
   ]
  },
  {
   "cell_type": "markdown",
   "id": "027985be",
   "metadata": {
    "papermill": {
     "duration": 0.023238,
     "end_time": "2025-10-09T08:18:15.984856",
     "exception": false,
     "start_time": "2025-10-09T08:18:15.961618",
     "status": "completed"
    },
    "tags": []
   },
   "source": [
    "# Saving the pickle files"
   ]
  },
  {
   "cell_type": "code",
   "execution_count": 54,
   "id": "cfe049b1",
   "metadata": {
    "execution": {
     "iopub.execute_input": "2025-10-09T08:18:16.033786Z",
     "iopub.status.busy": "2025-10-09T08:18:16.033445Z",
     "iopub.status.idle": "2025-10-09T08:18:16.046018Z",
     "shell.execute_reply": "2025-10-09T08:18:16.045008Z"
    },
    "papermill": {
     "duration": 0.038896,
     "end_time": "2025-10-09T08:18:16.047814",
     "exception": false,
     "start_time": "2025-10-09T08:18:16.008918",
     "status": "completed"
    },
    "tags": []
   },
   "outputs": [],
   "source": [
    "import pickle \n",
    "\n",
    "# Saving the data preprocessing pipeline \n",
    "with open('preprocessing.pkl', 'wb') as file:\n",
    "    pickle.dump(preprocessing, file)\n",
    "\n",
    "# Saving the model\n",
    "with open('model.pkl', \"wb\") as file:\n",
    "    pickle.dump(gb_best, file)"
   ]
  }
 ],
 "metadata": {
  "kaggle": {
   "accelerator": "none",
   "dataSources": [
    {
     "databundleVersionId": 9057646,
     "sourceId": 76728,
     "sourceType": "competition"
    }
   ],
   "dockerImageVersionId": 31089,
   "isGpuEnabled": false,
   "isInternetEnabled": true,
   "language": "python",
   "sourceType": "notebook"
  },
  "kernelspec": {
   "display_name": "Python 3",
   "language": "python",
   "name": "python3"
  },
  "language_info": {
   "codemirror_mode": {
    "name": "ipython",
    "version": 3
   },
   "file_extension": ".py",
   "mimetype": "text/x-python",
   "name": "python",
   "nbconvert_exporter": "python",
   "pygments_lexer": "ipython3",
   "version": "3.11.13"
  },
  "papermill": {
   "default_parameters": {},
   "duration": 6099.775999,
   "end_time": "2025-10-09T08:18:18.903904",
   "environment_variables": {},
   "exception": null,
   "input_path": "__notebook__.ipynb",
   "output_path": "__notebook__.ipynb",
   "parameters": {},
   "start_time": "2025-10-09T06:36:39.127905",
   "version": "2.6.0"
  }
 },
 "nbformat": 4,
 "nbformat_minor": 5
}
